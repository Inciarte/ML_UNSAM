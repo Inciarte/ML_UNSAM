{
  "nbformat": 4,
  "nbformat_minor": 0,
  "metadata": {
    "colab": {
      "name": "14p_Ejemplo_Practico.ipynb",
      "provenance": [],
      "collapsed_sections": []
    },
    "kernelspec": {
      "name": "python3",
      "display_name": "Python 3"
    }
  },
  "cells": [
    {
      "cell_type": "code",
      "metadata": {
        "id": "0u1ymq0ONdIG"
      },
      "source": [
        "import numpy as np\n",
        "import matplotlib.pyplot as plt\n",
        "%matplotlib inline\n",
        "\n",
        "#The stars\n",
        "import tensorflow as tf\n",
        "from tensorflow import keras\n",
        "from sklearn.model_selection import train_test_split\n",
        "from sklearn.preprocessing import StandardScaler"
      ],
      "execution_count": null,
      "outputs": []
    },
    {
      "cell_type": "markdown",
      "metadata": {
        "id": "aq0np9HmOwvn"
      },
      "source": [
        "Es momento de un juego de arquitecturas. Vamos a trabajar con un dataset de Kaggle, el [FIFA19 dataset](https://www.kaggle.com/karangadiya/fifa19). De los notebooks tambien saque algunos codigos copados."
      ]
    },
    {
      "cell_type": "code",
      "metadata": {
        "id": "5n9CmUfcfA3e"
      },
      "source": [
        "import pandas as pd\n",
        "!wget http://raw.githubusercontent.com/IAI-UNSAM/ML_UNSAM/master/datasets/data_FIFA19.csv\n",
        "data_FIFA=pd.read_csv('data_FIFA19.csv')\n",
        "data_FIFA.info()"
      ],
      "execution_count": null,
      "outputs": []
    },
    {
      "cell_type": "markdown",
      "metadata": {
        "id": "B-tpA9DlgVsT"
      },
      "source": [
        "El objetivo va a ser obtener el Player Overall Ranking a partir de las distintas caracteristicas de los jugadores.\n",
        "\n",
        "Hagamos un preprocesado rapido. Basicamente colapso las posiciones a una columna de 0,1,2 y tiro un monton de otras cosas."
      ]
    },
    {
      "cell_type": "code",
      "metadata": {
        "id": "iYOJ5NM7g_qD"
      },
      "source": [
        "df = data_FIFA.copy()\n",
        "drop_cols = df.columns[28:54]\n",
        "df = df.drop(drop_cols, axis = 1)\n",
        "df = df.drop(['Unnamed: 0','ID','Photo','Flag','Club Logo','Jersey Number','Joined','Special','Loaned From','Body Type', 'Release Clause',\n",
        "               'Weight','Height','Contract Valid Until','Wage','Value','Club'], axis = 1)\n",
        "df = df.dropna()\n",
        "df.head()"
      ],
      "execution_count": null,
      "outputs": []
    },
    {
      "cell_type": "code",
      "metadata": {
        "id": "0zs1OmK7kJVZ"
      },
      "source": [
        "def right_footed(df):\n",
        "    if (df['Preferred Foot'] == 'Right'):\n",
        "        return 1\n",
        "    else:\n",
        "        return 0\n",
        "\n",
        "#Create a simplified position varaible to account for all player positions\n",
        "def simple_position(df):\n",
        "    if (df['Position'] == 'GK'):\n",
        "        return 0\n",
        "    elif ((df['Position'] == 'RB') | (df['Position'] == 'LB') | (df['Position'] == 'CB') | (df['Position'] == 'LCB') | (df['Position'] == 'RCB') | (df['Position'] == 'RWB') | (df['Position'] == 'LWB') ):\n",
        "        return 1\n",
        "    elif ((df['Position'] == 'LDM') | (df['Position'] == 'CDM') | (df['Position'] == 'RDM')):\n",
        "        return 2\n",
        "    elif ((df['Position'] == 'LM') | (df['Position'] == 'LCM') | (df['Position'] == 'CM') | (df['Position'] == 'RCM') | (df['Position'] == 'RM')):\n",
        "        return 2\n",
        "    elif ((df['Position'] == 'LAM') | (df['Position'] == 'CAM') | (df['Position'] == 'RAM') | (df['Position'] == 'LW') | (df['Position'] == 'RW')):\n",
        "        return 2\n",
        "    elif ((df['Position'] == 'RS') | (df['Position'] == 'ST') | (df['Position'] == 'LS') | (df['Position'] == 'CF') | (df['Position'] == 'LF') | (df['Position'] == 'RF')):\n",
        "        return 3\n",
        "    else:\n",
        "        return df.Position\n",
        "\n",
        "df['Right_Foot'] = df.apply(right_footed, axis=1)\n",
        "df['Simple_Position'] = df.apply(simple_position,axis = 1)\n",
        "\n",
        "#Split the Work Rate Column in two\n",
        "tempwork = df[\"Work Rate\"].str.split(\"/ \", n = 1, expand = True) \n",
        "#Create new column for first work rate\n",
        "df[\"WorkRate1\"]= tempwork[0]   \n",
        "#Create new column for second work rate\n",
        "df[\"WorkRate2\"]= tempwork[1]\n",
        "#Drop original columns used\n",
        "df = df.drop(['Work Rate','Preferred Foot','Real Face', 'Position','Nationality'], axis = 1)\n",
        "df.head()"
      ],
      "execution_count": null,
      "outputs": []
    },
    {
      "cell_type": "markdown",
      "metadata": {
        "id": "fucDgklAlYqE"
      },
      "source": [
        "Vamos a separar en un par de subgrupos. El target es el Overall."
      ]
    },
    {
      "cell_type": "code",
      "metadata": {
        "id": "tTouYsDqleU0"
      },
      "source": [
        "y=np.asarray(df['Overall'])\n",
        "name=np.asarray(df['Name'])\n",
        "print(y.shape,name.shape)"
      ],
      "execution_count": null,
      "outputs": []
    },
    {
      "cell_type": "markdown",
      "metadata": {
        "id": "Pf5SezTslji4"
      },
      "source": [
        "Y primero vamos a utilizar unicamente los skills del jugador que son verdaderamente numericos"
      ]
    },
    {
      "cell_type": "code",
      "metadata": {
        "id": "-m4JfTBDlpHg"
      },
      "source": [
        "num_cols=df.columns[4:-4]\n",
        "df_num=df[num_cols]\n",
        "df_num.head()"
      ],
      "execution_count": null,
      "outputs": []
    },
    {
      "cell_type": "code",
      "metadata": {
        "id": "A89AgmSFns0T"
      },
      "source": [
        "df_num=np.asarray(df_num)\n",
        "print(df_num.shape)"
      ],
      "execution_count": null,
      "outputs": []
    },
    {
      "cell_type": "markdown",
      "metadata": {
        "id": "LLt2jKQQm28P"
      },
      "source": [
        "Y ahora quedemonos con el Simple Position para despues"
      ]
    },
    {
      "cell_type": "code",
      "metadata": {
        "id": "FqnZehX8m90i"
      },
      "source": [
        "df_pos=np.asarray(df['Simple_Position']).reshape(-1,1)\n",
        "df_pos.shape"
      ],
      "execution_count": null,
      "outputs": []
    },
    {
      "cell_type": "markdown",
      "metadata": {
        "id": "LCtdsbGaoFKC"
      },
      "source": [
        "Y dividamos todo bien:"
      ]
    },
    {
      "cell_type": "code",
      "metadata": {
        "id": "E4hvhPy4oGnI"
      },
      "source": [
        "X_num_train_full, X_num_test,X_pos_train_full, X_pos_test, y_train_full, y_test = train_test_split(df_num,df_pos, y, random_state=42)\n",
        "X_num_train, X_num_valid, X_pos_train, X_pos_valid, y_train, y_valid = train_test_split(X_num_train_full, X_pos_train_full, y_train_full, random_state=42)\n",
        "\n",
        "scaler = StandardScaler()\n",
        "X_num_train = scaler.fit_transform(X_num_train)\n",
        "X_num_valid = scaler.transform(X_num_valid)\n",
        "X_num_test = scaler.transform(X_num_test)"
      ],
      "execution_count": null,
      "outputs": []
    },
    {
      "cell_type": "markdown",
      "metadata": {
        "id": "X7JvX8kqpKEW"
      },
      "source": [
        "Antes que nada, hagamos una regresion lineal para usar de baseline"
      ]
    },
    {
      "cell_type": "code",
      "metadata": {
        "id": "hMbMUsk5pOfZ"
      },
      "source": [
        "from sklearn.linear_model import LinearRegression\n",
        "from sklearn.model_selection import cross_val_score\n",
        "from sklearn.metrics import mean_squared_error\n",
        "lr = LinearRegression()\n",
        "scores = cross_val_score(lr, X_num_train_full,y_train_full,scoring='neg_mean_squared_error')\n",
        "print(-scores.mean(),scores.std())\n",
        "lr.fit(X_num_train,y_train)\n",
        "y_predict=lr.predict(X_num_valid)\n",
        "plt.scatter(y_predict,y_valid)\n",
        "plt.plot(y_valid,y_valid,color='black')\n",
        "print(mean_squared_error(y_valid,y_predict))"
      ],
      "execution_count": null,
      "outputs": []
    },
    {
      "cell_type": "markdown",
      "metadata": {
        "id": "ji2-kvFgWQEK"
      },
      "source": [
        "Utilicemos una Red Neuronal con las siguientes caracteristicas:\n",
        "\n",
        "- Una unica capa oculta de 10 neuronas, con activacion 'relu' e iniciacion 'he_normal'\n",
        "- Una capa de salida con activacion 'relu' e iniciacion 'he_normal'\n",
        "\n",
        "Entrene con error 'mse', SGD con learning rate 0.001,  batch_size=100, 200 epocas y un early_stopping de paciencia 10."
      ]
    },
    {
      "cell_type": "code",
      "metadata": {
        "id": "QM7k1nU4NjJf"
      },
      "source": [
        "keras.backend.clear_session()\n",
        "np.random.seed(42)\n",
        "tf.random.set_seed(42)"
      ],
      "execution_count": null,
      "outputs": []
    },
    {
      "cell_type": "code",
      "metadata": {
        "id": "aOGnjBGiyTxs"
      },
      "source": [
        ""
      ],
      "execution_count": null,
      "outputs": []
    },
    {
      "cell_type": "code",
      "metadata": {
        "id": "Y0xRrtjFygiT"
      },
      "source": [
        "model.summary()"
      ],
      "execution_count": null,
      "outputs": []
    },
    {
      "cell_type": "code",
      "metadata": {
        "id": "GQbTI8HQyn7t"
      },
      "source": [
        "keras.utils.plot_model(model,show_shapes=True)"
      ],
      "execution_count": null,
      "outputs": []
    },
    {
      "cell_type": "code",
      "metadata": {
        "id": "7x0inKi3EHci"
      },
      "source": [
        ""
      ],
      "execution_count": null,
      "outputs": []
    },
    {
      "cell_type": "code",
      "metadata": {
        "id": "sfNiHGNAy1uH"
      },
      "source": [
        "\n",
        "plt.scatter(y_predict,y_valid)\n",
        "plt.plot(y_valid,y_valid,color='black')\n",
        "print(mean_squared_error(y_valid,y_predict))"
      ],
      "execution_count": null,
      "outputs": []
    },
    {
      "cell_type": "code",
      "metadata": {
        "id": "6S6ttolyzX6N"
      },
      "source": [
        "pd.DataFrame(history.history).plot(figsize=(8, 5))\n",
        "plt.grid(True)\n",
        "#plt.gca().set_ylim(0, 10)\n",
        "#plt.gca().set_xlim(5, 200)\n",
        "plt.show()"
      ],
      "execution_count": null,
      "outputs": []
    },
    {
      "cell_type": "markdown",
      "metadata": {
        "id": "wumshU1b6S8B"
      },
      "source": [
        "Podemos bajar un poco el numero de parametros con un pequenio truco, las skip connections. La arquitectura es la siguiente\n",
        "\n",
        "- Una capa oculta de 2 neuronas, con activacion 'relu' e iniciacion 'he_normal' que ve al input\n",
        "- Una capa de salida con activacion 'relu' e iniciacion 'he_normal'\n",
        "\n",
        "Entrene con error 'mse', Adam con learning rate de 0.01, batch_size=100, 250 epocas y un early_stopping de paciencia 10."
      ]
    },
    {
      "cell_type": "code",
      "metadata": {
        "id": "PdFeqvKVNm7t"
      },
      "source": [
        "keras.backend.clear_session()\n",
        "np.random.seed(42)\n",
        "tf.random.set_seed(42)"
      ],
      "execution_count": null,
      "outputs": []
    },
    {
      "cell_type": "code",
      "metadata": {
        "id": "lp2bvXZK13q7"
      },
      "source": [
        ""
      ],
      "execution_count": null,
      "outputs": []
    },
    {
      "cell_type": "code",
      "metadata": {
        "id": "cJi6shYt3-NC"
      },
      "source": [
        "model.summary()"
      ],
      "execution_count": null,
      "outputs": []
    },
    {
      "cell_type": "code",
      "metadata": {
        "id": "w8w0je6w4Dx8"
      },
      "source": [
        "keras.utils.plot_model(model,show_shapes=True)"
      ],
      "execution_count": null,
      "outputs": []
    },
    {
      "cell_type": "code",
      "metadata": {
        "id": "6URpDrwI4NB5"
      },
      "source": [
        ""
      ],
      "execution_count": null,
      "outputs": []
    },
    {
      "cell_type": "code",
      "metadata": {
        "id": "Acr61KC86K73"
      },
      "source": [
        "plt.scatter(y_predict,y_valid)\n",
        "plt.plot(y_valid,y_valid,color='black')\n",
        "print(mean_squared_error(y_valid,y_predict))"
      ],
      "execution_count": null,
      "outputs": []
    },
    {
      "cell_type": "markdown",
      "metadata": {
        "id": "-tkbHvtbpeQ-"
      },
      "source": [
        "Ahora, podemos mejorar esto de una manera sutil. Incorporemos un segundo output, la posicion. La idea es que buscando tanto interpolar el Overall y clasificar la posicion, la red neuronal sea todavia mejor.\n",
        "\n",
        "Altere la arquitectura previa pero ahora utilice dos capas de outputs, agregando a la ya existente una con softmax e inicializacion Glorot uniforme.\n",
        "\n",
        "Al compilar, hay que cambiar loss='mean_squared_error' por loss=['mean_squared_error','sparse_categorical_cross_entropy'] y agregar un loss_weight=[0.5,0.5]. El loss_weight marca el peso relativo entre los problemas. Si ponemos [0.9,0.1], el problema de clasificacion juega el rol de regularizacion. No nos interesa demasiado eso ya que no sobreajustamos tanto.\n",
        "\n",
        "Al entrenar, hay que alimentar con dos outputs [y_train,X_pos_train], y lo mismo en validacion."
      ]
    },
    {
      "cell_type": "code",
      "metadata": {
        "id": "i2o6qx5qpoiw"
      },
      "source": [
        "keras.backend.clear_session()\n",
        "np.random.seed(42)\n",
        "tf.random.set_seed(42)\n"
      ],
      "execution_count": null,
      "outputs": []
    },
    {
      "cell_type": "code",
      "metadata": {
        "id": "aM9zzU_6-0ZJ"
      },
      "source": [
        ""
      ],
      "execution_count": null,
      "outputs": []
    },
    {
      "cell_type": "code",
      "metadata": {
        "id": "2RvBZtBX_AHQ"
      },
      "source": [
        "model.summary()"
      ],
      "execution_count": null,
      "outputs": []
    },
    {
      "cell_type": "code",
      "metadata": {
        "id": "Na6bWTlf_iU9"
      },
      "source": [
        "keras.utils.plot_model(model,show_shapes=True)"
      ],
      "execution_count": null,
      "outputs": []
    },
    {
      "cell_type": "code",
      "metadata": {
        "id": "Qk7v-66K_n50"
      },
      "source": [
        ""
      ],
      "execution_count": null,
      "outputs": []
    },
    {
      "cell_type": "code",
      "metadata": {
        "id": "soX1adEKAFf9"
      },
      "source": [
        "plt.scatter(y_predict,y_valid)\n",
        "plt.plot(y_valid,y_valid,color='black')\n",
        "print(mean_squared_error(y_valid,y_predict))"
      ],
      "execution_count": null,
      "outputs": []
    },
    {
      "cell_type": "code",
      "metadata": {
        "id": "BAJP0ZGuBLxm"
      },
      "source": [
        "from sklearn.metrics import confusion_matrix\n",
        "cm = confusion_matrix(X_pos_valid,np.argmax(pos_predict,axis=1))\n",
        "cm"
      ],
      "execution_count": null,
      "outputs": []
    }
  ]
}