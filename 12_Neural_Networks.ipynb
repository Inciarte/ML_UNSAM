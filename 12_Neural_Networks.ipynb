{
  "nbformat": 4,
  "nbformat_minor": 0,
  "metadata": {
    "colab": {
      "name": "IntroRN.ipynb",
      "provenance": [],
      "collapsed_sections": []
    },
    "kernelspec": {
      "name": "python3",
      "display_name": "Python 3"
    }
  },
  "cells": [
    {
      "cell_type": "code",
      "metadata": {
        "id": "kedM1-rp-x__"
      },
      "source": [
        "import numpy as np\n",
        "from matplotlib import pyplot as plt\n",
        "\n",
        "import tensorflow as tf\n",
        "from tensorflow import keras"
      ],
      "execution_count": 18,
      "outputs": []
    },
    {
      "cell_type": "code",
      "metadata": {
        "id": "LknHQn1T-1W4"
      },
      "source": [
        "model = keras.models.Sequential()\n",
        "model.add(keras.layers.InputLayer(input_shape=(1,)))\n",
        "model.add(keras.layers.Dense(3, activation='tanh'))\n",
        "model.add(keras.layers.Dense(1, activation='linear'))"
      ],
      "execution_count": 69,
      "outputs": []
    },
    {
      "cell_type": "code",
      "metadata": {
        "id": "gnstVI2e_pIS",
        "outputId": "a0200a50-0c24-4ccf-a844-72313dfc4ec4",
        "colab": {
          "base_uri": "https://localhost:8080/",
          "height": 221
        }
      },
      "source": [
        "model.summary()"
      ],
      "execution_count": 70,
      "outputs": [
        {
          "output_type": "stream",
          "text": [
            "Model: \"sequential_5\"\n",
            "_________________________________________________________________\n",
            "Layer (type)                 Output Shape              Param #   \n",
            "=================================================================\n",
            "dense_11 (Dense)             (None, 3)                 6         \n",
            "_________________________________________________________________\n",
            "dense_12 (Dense)             (None, 1)                 4         \n",
            "=================================================================\n",
            "Total params: 10\n",
            "Trainable params: 10\n",
            "Non-trainable params: 0\n",
            "_________________________________________________________________\n"
          ],
          "name": "stdout"
        }
      ]
    },
    {
      "cell_type": "code",
      "metadata": {
        "id": "tRUopt6w_qc9",
        "outputId": "f7576225-3539-4dce-8c0f-60bb05ed5f72",
        "colab": {
          "base_uri": "https://localhost:8080/",
          "height": 312
        }
      },
      "source": [
        "keras.utils.plot_model(model, show_shapes=True)"
      ],
      "execution_count": 71,
      "outputs": [
        {
          "output_type": "execute_result",
          "data": {
            "image/png": "[encoded data removed]",
            "text/plain": [
              "<IPython.core.display.Image object>"
            ]
          },
          "metadata": {
            "tags": []
          },
          "execution_count": 71
        }
      ]
    },
    {
      "cell_type": "code",
      "metadata": {
        "id": "534XPA2x_sCi",
        "outputId": "78d9680d-c683-4b4a-9191-8e178a70715a",
        "colab": {
          "base_uri": "https://localhost:8080/",
          "height": 282
        }
      },
      "source": [
        "x = np.linspace(-1, 1, 50)\n",
        "\n",
        "# Modulo\n",
        "# t = np.abs(x)\n",
        "\n",
        "# Heavyside\n",
        "t = np.where(x > 0, 1, 0)\n",
        "\n",
        "plt.plot(x, t, '.')"
      ],
      "execution_count": 72,
      "outputs": [
        {
          "output_type": "execute_result",
          "data": {
            "text/plain": [
              "[<matplotlib.lines.Line2D at 0x7fd179201cc0>]"
            ]
          },
          "metadata": {
            "tags": []
          },
          "execution_count": 72
        },
        {
          "output_type": "display_data",
          "data": {
            "image/png": "[encoded data removed]",
            "text/plain": [
              "<Figure size 432x288 with 1 Axes>"
            ]
          },
          "metadata": {
            "tags": [],
            "needs_background": "light"
          }
        }
      ]
    },
    {
      "cell_type": "code",
      "metadata": {
        "id": "ahC-JpkYAkK1"
      },
      "source": [
        "model.compile(loss='mean_squared_error', optimizer=keras.optimizers.SGD(learning_rate=0.05))"
      ],
      "execution_count": 91,
      "outputs": []
    },
    {
      "cell_type": "code",
      "metadata": {
        "id": "4Gskgy3NAzE-",
        "outputId": "89d2c66a-fde3-4f7c-bf0f-0575f4c9f823",
        "colab": {
          "base_uri": "https://localhost:8080/",
          "height": 1000
        }
      },
      "source": [
        "model.fit(x, t, epochs=250)"
      ],
      "execution_count": 92,
      "outputs": [
        {
          "output_type": "stream",
          "text": [
            "Epoch 1/250\n",
            "2/2 [==============================] - 0s 2ms/step - loss: 0.0135\n",
            "Epoch 2/250\n",
            "2/2 [==============================] - 0s 1ms/step - loss: 0.0135\n",
            "Epoch 3/250\n",
            "2/2 [==============================] - 0s 824us/step - loss: 0.0134\n",
            "Epoch 4/250\n",
            "2/2 [==============================] - 0s 1ms/step - loss: 0.0135\n",
            "Epoch 5/250\n",
            "2/2 [==============================] - 0s 2ms/step - loss: 0.0135\n",
            "Epoch 6/250\n",
            "2/2 [==============================] - 0s 1ms/step - loss: 0.0135\n",
            "Epoch 7/250\n",
            "2/2 [==============================] - 0s 1ms/step - loss: 0.0134\n",
            "Epoch 8/250\n",
            "2/2 [==============================] - 0s 2ms/step - loss: 0.0134\n",
            "Epoch 9/250\n",
            "2/2 [==============================] - 0s 2ms/step - loss: 0.0136\n",
            "Epoch 10/250\n",
            "2/2 [==============================] - 0s 1ms/step - loss: 0.0136\n",
            "Epoch 11/250\n",
            "2/2 [==============================] - 0s 1ms/step - loss: 0.0135\n",
            "Epoch 12/250\n",
            "2/2 [==============================] - 0s 2ms/step - loss: 0.0137\n",
            "Epoch 13/250\n",
            "2/2 [==============================] - 0s 847us/step - loss: 0.0135\n",
            "Epoch 14/250\n",
            "2/2 [==============================] - 0s 2ms/step - loss: 0.0135\n",
            "Epoch 15/250\n",
            "2/2 [==============================] - 0s 1ms/step - loss: 0.0135\n",
            "Epoch 16/250\n",
            "2/2 [==============================] - 0s 4ms/step - loss: 0.0134\n",
            "Epoch 17/250\n",
            "2/2 [==============================] - 0s 2ms/step - loss: 0.0134\n",
            "Epoch 18/250\n",
            "2/2 [==============================] - 0s 2ms/step - loss: 0.0134\n",
            "Epoch 19/250\n",
            "2/2 [==============================] - 0s 1ms/step - loss: 0.0136\n",
            "Epoch 20/250\n",
            "2/2 [==============================] - 0s 1ms/step - loss: 0.0135\n",
            "Epoch 21/250\n",
            "2/2 [==============================] - 0s 2ms/step - loss: 0.0134\n",
            "Epoch 22/250\n",
            "2/2 [==============================] - 0s 2ms/step - loss: 0.0134\n",
            "Epoch 23/250\n",
            "2/2 [==============================] - 0s 1ms/step - loss: 0.0135\n",
            "Epoch 24/250\n",
            "2/2 [==============================] - 0s 1ms/step - loss: 0.0134\n",
            "Epoch 25/250\n",
            "2/2 [==============================] - 0s 2ms/step - loss: 0.0134\n",
            "Epoch 26/250\n",
            "2/2 [==============================] - 0s 3ms/step - loss: 0.0135\n",
            "Epoch 27/250\n",
            "2/2 [==============================] - 0s 1ms/step - loss: 0.0134\n",
            "Epoch 28/250\n",
            "2/2 [==============================] - 0s 1ms/step - loss: 0.0134\n",
            "Epoch 29/250\n",
            "2/2 [==============================] - 0s 1ms/step - loss: 0.0135\n",
            "Epoch 30/250\n",
            "2/2 [==============================] - 0s 2ms/step - loss: 0.0134\n",
            "Epoch 31/250\n",
            "2/2 [==============================] - 0s 2ms/step - loss: 0.0135\n",
            "Epoch 32/250\n",
            "2/2 [==============================] - 0s 1ms/step - loss: 0.0134\n",
            "Epoch 33/250\n",
            "2/2 [==============================] - 0s 2ms/step - loss: 0.0134\n",
            "Epoch 34/250\n",
            "2/2 [==============================] - 0s 2ms/step - loss: 0.0134\n",
            "Epoch 35/250\n",
            "2/2 [==============================] - 0s 2ms/step - loss: 0.0134\n",
            "Epoch 36/250\n",
            "2/2 [==============================] - 0s 3ms/step - loss: 0.0135\n",
            "Epoch 37/250\n",
            "2/2 [==============================] - 0s 3ms/step - loss: 0.0134\n",
            "Epoch 38/250\n",
            "2/2 [==============================] - 0s 2ms/step - loss: 0.0134\n",
            "Epoch 39/250\n",
            "2/2 [==============================] - 0s 2ms/step - loss: 0.0134\n",
            "Epoch 40/250\n",
            "2/2 [==============================] - 0s 3ms/step - loss: 0.0134\n",
            "Epoch 41/250\n",
            "2/2 [==============================] - 0s 2ms/step - loss: 0.0134\n",
            "Epoch 42/250\n",
            "2/2 [==============================] - 0s 2ms/step - loss: 0.0135\n",
            "Epoch 43/250\n",
            "2/2 [==============================] - 0s 2ms/step - loss: 0.0135\n",
            "Epoch 44/250\n",
            "2/2 [==============================] - 0s 2ms/step - loss: 0.0134\n",
            "Epoch 45/250\n",
            "2/2 [==============================] - 0s 2ms/step - loss: 0.0134\n",
            "Epoch 46/250\n",
            "2/2 [==============================] - 0s 1ms/step - loss: 0.0134\n",
            "Epoch 47/250\n",
            "2/2 [==============================] - 0s 1ms/step - loss: 0.0134\n",
            "Epoch 48/250\n",
            "2/2 [==============================] - 0s 1ms/step - loss: 0.0134\n",
            "Epoch 49/250\n",
            "2/2 [==============================] - 0s 3ms/step - loss: 0.0135\n",
            "Epoch 50/250\n",
            "2/2 [==============================] - 0s 2ms/step - loss: 0.0134\n",
            "Epoch 51/250\n",
            "2/2 [==============================] - 0s 2ms/step - loss: 0.0136\n",
            "Epoch 52/250\n",
            "2/2 [==============================] - 0s 2ms/step - loss: 0.0135\n",
            "Epoch 53/250\n",
            "2/2 [==============================] - 0s 2ms/step - loss: 0.0134\n",
            "Epoch 54/250\n",
            "2/2 [==============================] - 0s 2ms/step - loss: 0.0135\n",
            "Epoch 55/250\n",
            "2/2 [==============================] - 0s 2ms/step - loss: 0.0134\n",
            "Epoch 56/250\n",
            "2/2 [==============================] - 0s 2ms/step - loss: 0.0136\n",
            "Epoch 57/250\n",
            "2/2 [==============================] - 0s 2ms/step - loss: 0.0135\n",
            "Epoch 58/250\n",
            "2/2 [==============================] - 0s 2ms/step - loss: 0.0136\n",
            "Epoch 59/250\n",
            "2/2 [==============================] - 0s 2ms/step - loss: 0.0134\n",
            "Epoch 60/250\n",
            "2/2 [==============================] - 0s 1ms/step - loss: 0.0134\n",
            "Epoch 61/250\n",
            "2/2 [==============================] - 0s 3ms/step - loss: 0.0135\n",
            "Epoch 62/250\n",
            "2/2 [==============================] - 0s 2ms/step - loss: 0.0134\n",
            "Epoch 63/250\n",
            "2/2 [==============================] - 0s 3ms/step - loss: 0.0135\n",
            "Epoch 64/250\n",
            "2/2 [==============================] - 0s 7ms/step - loss: 0.0136\n",
            "Epoch 65/250\n",
            "2/2 [==============================] - 0s 6ms/step - loss: 0.0136\n",
            "Epoch 66/250\n",
            "2/2 [==============================] - 0s 971us/step - loss: 0.0134\n",
            "Epoch 67/250\n",
            "2/2 [==============================] - 0s 2ms/step - loss: 0.0134\n",
            "Epoch 68/250\n",
            "2/2 [==============================] - 0s 1ms/step - loss: 0.0134\n",
            "Epoch 69/250\n",
            "2/2 [==============================] - 0s 1ms/step - loss: 0.0136\n",
            "Epoch 70/250\n",
            "2/2 [==============================] - 0s 1ms/step - loss: 0.0134\n",
            "Epoch 71/250\n",
            "2/2 [==============================] - 0s 1ms/step - loss: 0.0134\n",
            "Epoch 72/250\n",
            "2/2 [==============================] - 0s 2ms/step - loss: 0.0134\n",
            "Epoch 73/250\n",
            "2/2 [==============================] - 0s 1ms/step - loss: 0.0134\n",
            "Epoch 74/250\n",
            "2/2 [==============================] - 0s 1ms/step - loss: 0.0134\n",
            "Epoch 75/250\n",
            "2/2 [==============================] - 0s 2ms/step - loss: 0.0135\n",
            "Epoch 76/250\n",
            "2/2 [==============================] - 0s 2ms/step - loss: 0.0135\n",
            "Epoch 77/250\n",
            "2/2 [==============================] - 0s 2ms/step - loss: 0.0134\n",
            "Epoch 78/250\n",
            "2/2 [==============================] - 0s 2ms/step - loss: 0.0134\n",
            "Epoch 79/250\n",
            "2/2 [==============================] - 0s 2ms/step - loss: 0.0134\n",
            "Epoch 80/250\n",
            "2/2 [==============================] - 0s 2ms/step - loss: 0.0134\n",
            "Epoch 81/250\n",
            "2/2 [==============================] - 0s 2ms/step - loss: 0.0134\n",
            "Epoch 82/250\n",
            "2/2 [==============================] - 0s 2ms/step - loss: 0.0134\n",
            "Epoch 83/250\n",
            "2/2 [==============================] - 0s 2ms/step - loss: 0.0134\n",
            "Epoch 84/250\n",
            "2/2 [==============================] - 0s 2ms/step - loss: 0.0134\n",
            "Epoch 85/250\n",
            "2/2 [==============================] - 0s 2ms/step - loss: 0.0134\n",
            "Epoch 86/250\n",
            "2/2 [==============================] - 0s 1ms/step - loss: 0.0136\n",
            "Epoch 87/250\n",
            "2/2 [==============================] - 0s 1ms/step - loss: 0.0134\n",
            "Epoch 88/250\n",
            "2/2 [==============================] - 0s 2ms/step - loss: 0.0134\n",
            "Epoch 89/250\n",
            "2/2 [==============================] - 0s 2ms/step - loss: 0.0134\n",
            "Epoch 90/250\n",
            "2/2 [==============================] - 0s 2ms/step - loss: 0.0134\n",
            "Epoch 91/250\n",
            "2/2 [==============================] - 0s 2ms/step - loss: 0.0135\n",
            "Epoch 92/250\n",
            "2/2 [==============================] - 0s 2ms/step - loss: 0.0134\n",
            "Epoch 93/250\n",
            "2/2 [==============================] - 0s 2ms/step - loss: 0.0134\n",
            "Epoch 94/250\n",
            "2/2 [==============================] - 0s 2ms/step - loss: 0.0134\n",
            "Epoch 95/250\n",
            "2/2 [==============================] - 0s 1ms/step - loss: 0.0134\n",
            "Epoch 96/250\n",
            "2/2 [==============================] - 0s 2ms/step - loss: 0.0134\n",
            "Epoch 97/250\n",
            "2/2 [==============================] - 0s 2ms/step - loss: 0.0134\n",
            "Epoch 98/250\n",
            "2/2 [==============================] - 0s 2ms/step - loss: 0.0134\n",
            "Epoch 99/250\n",
            "2/2 [==============================] - 0s 3ms/step - loss: 0.0134\n",
            "Epoch 100/250\n",
            "2/2 [==============================] - 0s 2ms/step - loss: 0.0134\n",
            "Epoch 101/250\n",
            "2/2 [==============================] - 0s 2ms/step - loss: 0.0134\n",
            "Epoch 102/250\n",
            "2/2 [==============================] - 0s 2ms/step - loss: 0.0134\n",
            "Epoch 103/250\n",
            "2/2 [==============================] - 0s 3ms/step - loss: 0.0134\n",
            "Epoch 104/250\n",
            "2/2 [==============================] - 0s 2ms/step - loss: 0.0134\n",
            "Epoch 105/250\n",
            "2/2 [==============================] - 0s 5ms/step - loss: 0.0134\n",
            "Epoch 106/250\n",
            "2/2 [==============================] - 0s 2ms/step - loss: 0.0134\n",
            "Epoch 107/250\n",
            "2/2 [==============================] - 0s 2ms/step - loss: 0.0134\n",
            "Epoch 108/250\n",
            "2/2 [==============================] - 0s 2ms/step - loss: 0.0134\n",
            "Epoch 109/250\n",
            "2/2 [==============================] - 0s 2ms/step - loss: 0.0136\n",
            "Epoch 110/250\n",
            "2/2 [==============================] - 0s 2ms/step - loss: 0.0134\n",
            "Epoch 111/250\n",
            "2/2 [==============================] - 0s 3ms/step - loss: 0.0134\n",
            "Epoch 112/250\n",
            "2/2 [==============================] - 0s 7ms/step - loss: 0.0133\n",
            "Epoch 113/250\n",
            "2/2 [==============================] - 0s 2ms/step - loss: 0.0135\n",
            "Epoch 114/250\n",
            "2/2 [==============================] - 0s 3ms/step - loss: 0.0134\n",
            "Epoch 115/250\n",
            "2/2 [==============================] - 0s 1ms/step - loss: 0.0133\n",
            "Epoch 116/250\n",
            "2/2 [==============================] - 0s 1ms/step - loss: 0.0134\n",
            "Epoch 117/250\n",
            "2/2 [==============================] - 0s 1ms/step - loss: 0.0134\n",
            "Epoch 118/250\n",
            "2/2 [==============================] - 0s 6ms/step - loss: 0.0134\n",
            "Epoch 119/250\n",
            "2/2 [==============================] - 0s 3ms/step - loss: 0.0133\n",
            "Epoch 120/250\n",
            "2/2 [==============================] - 0s 3ms/step - loss: 0.0133\n",
            "Epoch 121/250\n",
            "2/2 [==============================] - 0s 2ms/step - loss: 0.0133\n",
            "Epoch 122/250\n",
            "2/2 [==============================] - 0s 4ms/step - loss: 0.0134\n",
            "Epoch 123/250\n",
            "2/2 [==============================] - 0s 1ms/step - loss: 0.0134\n",
            "Epoch 124/250\n",
            "2/2 [==============================] - 0s 3ms/step - loss: 0.0134\n",
            "Epoch 125/250\n",
            "2/2 [==============================] - 0s 2ms/step - loss: 0.0134\n",
            "Epoch 126/250\n",
            "2/2 [==============================] - 0s 1ms/step - loss: 0.0133\n",
            "Epoch 127/250\n",
            "2/2 [==============================] - 0s 1ms/step - loss: 0.0133\n",
            "Epoch 128/250\n",
            "2/2 [==============================] - 0s 1ms/step - loss: 0.0135\n",
            "Epoch 129/250\n",
            "2/2 [==============================] - 0s 3ms/step - loss: 0.0134\n",
            "Epoch 130/250\n",
            "2/2 [==============================] - 0s 2ms/step - loss: 0.0134\n",
            "Epoch 131/250\n",
            "2/2 [==============================] - 0s 5ms/step - loss: 0.0135\n",
            "Epoch 132/250\n",
            "2/2 [==============================] - 0s 1ms/step - loss: 0.0134\n",
            "Epoch 133/250\n",
            "2/2 [==============================] - 0s 1ms/step - loss: 0.0133\n",
            "Epoch 134/250\n",
            "2/2 [==============================] - 0s 2ms/step - loss: 0.0133\n",
            "Epoch 135/250\n",
            "2/2 [==============================] - 0s 2ms/step - loss: 0.0133\n",
            "Epoch 136/250\n",
            "2/2 [==============================] - 0s 2ms/step - loss: 0.0134\n",
            "Epoch 137/250\n",
            "2/2 [==============================] - 0s 1ms/step - loss: 0.0134\n",
            "Epoch 138/250\n",
            "2/2 [==============================] - 0s 2ms/step - loss: 0.0133\n",
            "Epoch 139/250\n",
            "2/2 [==============================] - 0s 2ms/step - loss: 0.0133\n",
            "Epoch 140/250\n",
            "2/2 [==============================] - 0s 2ms/step - loss: 0.0133\n",
            "Epoch 141/250\n",
            "2/2 [==============================] - 0s 2ms/step - loss: 0.0136\n",
            "Epoch 142/250\n",
            "2/2 [==============================] - 0s 1ms/step - loss: 0.0134\n",
            "Epoch 143/250\n",
            "2/2 [==============================] - 0s 2ms/step - loss: 0.0133\n",
            "Epoch 144/250\n",
            "2/2 [==============================] - 0s 2ms/step - loss: 0.0133\n",
            "Epoch 145/250\n",
            "2/2 [==============================] - 0s 2ms/step - loss: 0.0135\n",
            "Epoch 146/250\n",
            "2/2 [==============================] - 0s 1ms/step - loss: 0.0134\n",
            "Epoch 147/250\n",
            "2/2 [==============================] - 0s 3ms/step - loss: 0.0133\n",
            "Epoch 148/250\n",
            "2/2 [==============================] - 0s 2ms/step - loss: 0.0133\n",
            "Epoch 149/250\n",
            "2/2 [==============================] - 0s 2ms/step - loss: 0.0135\n",
            "Epoch 150/250\n",
            "2/2 [==============================] - 0s 2ms/step - loss: 0.0134\n",
            "Epoch 151/250\n",
            "2/2 [==============================] - 0s 1ms/step - loss: 0.0134\n",
            "Epoch 152/250\n",
            "2/2 [==============================] - 0s 1ms/step - loss: 0.0133\n",
            "Epoch 153/250\n",
            "2/2 [==============================] - 0s 1ms/step - loss: 0.0133\n",
            "Epoch 154/250\n",
            "2/2 [==============================] - 0s 1ms/step - loss: 0.0133\n",
            "Epoch 155/250\n",
            "2/2 [==============================] - 0s 2ms/step - loss: 0.0135\n",
            "Epoch 156/250\n",
            "2/2 [==============================] - 0s 1ms/step - loss: 0.0134\n",
            "Epoch 157/250\n",
            "2/2 [==============================] - 0s 4ms/step - loss: 0.0136\n",
            "Epoch 158/250\n",
            "2/2 [==============================] - 0s 2ms/step - loss: 0.0134\n",
            "Epoch 159/250\n",
            "2/2 [==============================] - 0s 8ms/step - loss: 0.0133\n",
            "Epoch 160/250\n",
            "2/2 [==============================] - 0s 3ms/step - loss: 0.0133\n",
            "Epoch 161/250\n",
            "2/2 [==============================] - 0s 3ms/step - loss: 0.0133\n",
            "Epoch 162/250\n",
            "2/2 [==============================] - 0s 1ms/step - loss: 0.0134\n",
            "Epoch 163/250\n",
            "2/2 [==============================] - 0s 2ms/step - loss: 0.0134\n",
            "Epoch 164/250\n",
            "2/2 [==============================] - 0s 2ms/step - loss: 0.0133\n",
            "Epoch 165/250\n",
            "2/2 [==============================] - 0s 1ms/step - loss: 0.0133\n",
            "Epoch 166/250\n",
            "2/2 [==============================] - 0s 3ms/step - loss: 0.0133\n",
            "Epoch 167/250\n",
            "2/2 [==============================] - 0s 1ms/step - loss: 0.0134\n",
            "Epoch 168/250\n",
            "2/2 [==============================] - 0s 2ms/step - loss: 0.0134\n",
            "Epoch 169/250\n",
            "2/2 [==============================] - 0s 1ms/step - loss: 0.0133\n",
            "Epoch 170/250\n",
            "2/2 [==============================] - 0s 2ms/step - loss: 0.0133\n",
            "Epoch 171/250\n",
            "2/2 [==============================] - 0s 2ms/step - loss: 0.0133\n",
            "Epoch 172/250\n",
            "2/2 [==============================] - 0s 2ms/step - loss: 0.0133\n",
            "Epoch 173/250\n",
            "2/2 [==============================] - 0s 1ms/step - loss: 0.0133\n",
            "Epoch 174/250\n",
            "2/2 [==============================] - 0s 4ms/step - loss: 0.0133\n",
            "Epoch 175/250\n",
            "2/2 [==============================] - 0s 2ms/step - loss: 0.0133\n",
            "Epoch 176/250\n",
            "2/2 [==============================] - 0s 2ms/step - loss: 0.0133\n",
            "Epoch 177/250\n",
            "2/2 [==============================] - 0s 2ms/step - loss: 0.0133\n",
            "Epoch 178/250\n",
            "2/2 [==============================] - 0s 1ms/step - loss: 0.0133\n",
            "Epoch 179/250\n",
            "2/2 [==============================] - 0s 2ms/step - loss: 0.0133\n",
            "Epoch 180/250\n",
            "2/2 [==============================] - 0s 5ms/step - loss: 0.0134\n",
            "Epoch 181/250\n",
            "2/2 [==============================] - 0s 4ms/step - loss: 0.0133\n",
            "Epoch 182/250\n",
            "2/2 [==============================] - 0s 2ms/step - loss: 0.0134\n",
            "Epoch 183/250\n",
            "2/2 [==============================] - 0s 3ms/step - loss: 0.0133\n",
            "Epoch 184/250\n",
            "2/2 [==============================] - 0s 2ms/step - loss: 0.0133\n",
            "Epoch 185/250\n",
            "2/2 [==============================] - 0s 2ms/step - loss: 0.0135\n",
            "Epoch 186/250\n",
            "2/2 [==============================] - 0s 2ms/step - loss: 0.0133\n",
            "Epoch 187/250\n",
            "2/2 [==============================] - 0s 1ms/step - loss: 0.0133\n",
            "Epoch 188/250\n",
            "2/2 [==============================] - 0s 1ms/step - loss: 0.0133\n",
            "Epoch 189/250\n",
            "2/2 [==============================] - 0s 883us/step - loss: 0.0133\n",
            "Epoch 190/250\n",
            "2/2 [==============================] - 0s 2ms/step - loss: 0.0135\n",
            "Epoch 191/250\n",
            "2/2 [==============================] - 0s 2ms/step - loss: 0.0136\n",
            "Epoch 192/250\n",
            "2/2 [==============================] - 0s 2ms/step - loss: 0.0133\n",
            "Epoch 193/250\n",
            "2/2 [==============================] - 0s 1ms/step - loss: 0.0133\n",
            "Epoch 194/250\n",
            "2/2 [==============================] - 0s 6ms/step - loss: 0.0133\n",
            "Epoch 195/250\n",
            "2/2 [==============================] - 0s 2ms/step - loss: 0.0133\n",
            "Epoch 196/250\n",
            "2/2 [==============================] - 0s 2ms/step - loss: 0.0133\n",
            "Epoch 197/250\n",
            "2/2 [==============================] - 0s 4ms/step - loss: 0.0134\n",
            "Epoch 198/250\n",
            "2/2 [==============================] - 0s 2ms/step - loss: 0.0133\n",
            "Epoch 199/250\n",
            "2/2 [==============================] - 0s 2ms/step - loss: 0.0133\n",
            "Epoch 200/250\n",
            "2/2 [==============================] - 0s 2ms/step - loss: 0.0134\n",
            "Epoch 201/250\n",
            "2/2 [==============================] - 0s 2ms/step - loss: 0.0133\n",
            "Epoch 202/250\n",
            "2/2 [==============================] - 0s 2ms/step - loss: 0.0135\n",
            "Epoch 203/250\n",
            "2/2 [==============================] - 0s 2ms/step - loss: 0.0133\n",
            "Epoch 204/250\n",
            "2/2 [==============================] - 0s 4ms/step - loss: 0.0133\n",
            "Epoch 205/250\n",
            "2/2 [==============================] - 0s 2ms/step - loss: 0.0134\n",
            "Epoch 206/250\n",
            "2/2 [==============================] - 0s 2ms/step - loss: 0.0133\n",
            "Epoch 207/250\n",
            "2/2 [==============================] - 0s 2ms/step - loss: 0.0133\n",
            "Epoch 208/250\n",
            "2/2 [==============================] - 0s 2ms/step - loss: 0.0133\n",
            "Epoch 209/250\n",
            "2/2 [==============================] - 0s 2ms/step - loss: 0.0133\n",
            "Epoch 210/250\n",
            "2/2 [==============================] - 0s 4ms/step - loss: 0.0133\n",
            "Epoch 211/250\n",
            "2/2 [==============================] - 0s 2ms/step - loss: 0.0133\n",
            "Epoch 212/250\n",
            "2/2 [==============================] - 0s 4ms/step - loss: 0.0133\n",
            "Epoch 213/250\n",
            "2/2 [==============================] - 0s 3ms/step - loss: 0.0133\n",
            "Epoch 214/250\n",
            "2/2 [==============================] - 0s 2ms/step - loss: 0.0133\n",
            "Epoch 215/250\n",
            "2/2 [==============================] - 0s 1ms/step - loss: 0.0133\n",
            "Epoch 216/250\n",
            "2/2 [==============================] - 0s 1ms/step - loss: 0.0133\n",
            "Epoch 217/250\n",
            "2/2 [==============================] - 0s 2ms/step - loss: 0.0133\n",
            "Epoch 218/250\n",
            "2/2 [==============================] - 0s 2ms/step - loss: 0.0133\n",
            "Epoch 219/250\n",
            "2/2 [==============================] - 0s 3ms/step - loss: 0.0133\n",
            "Epoch 220/250\n",
            "2/2 [==============================] - 0s 3ms/step - loss: 0.0134\n",
            "Epoch 221/250\n",
            "2/2 [==============================] - 0s 2ms/step - loss: 0.0133\n",
            "Epoch 222/250\n",
            "2/2 [==============================] - 0s 2ms/step - loss: 0.0133\n",
            "Epoch 223/250\n",
            "2/2 [==============================] - 0s 3ms/step - loss: 0.0133\n",
            "Epoch 224/250\n",
            "2/2 [==============================] - 0s 3ms/step - loss: 0.0134\n",
            "Epoch 225/250\n",
            "2/2 [==============================] - 0s 2ms/step - loss: 0.0134\n",
            "Epoch 226/250\n",
            "2/2 [==============================] - 0s 1ms/step - loss: 0.0133\n",
            "Epoch 227/250\n",
            "2/2 [==============================] - 0s 5ms/step - loss: 0.0133\n",
            "Epoch 228/250\n",
            "2/2 [==============================] - 0s 2ms/step - loss: 0.0133\n",
            "Epoch 229/250\n",
            "2/2 [==============================] - 0s 981us/step - loss: 0.0133\n",
            "Epoch 230/250\n",
            "2/2 [==============================] - 0s 4ms/step - loss: 0.0133\n",
            "Epoch 231/250\n",
            "2/2 [==============================] - 0s 1ms/step - loss: 0.0133\n",
            "Epoch 232/250\n",
            "2/2 [==============================] - 0s 1ms/step - loss: 0.0133\n",
            "Epoch 233/250\n",
            "2/2 [==============================] - 0s 3ms/step - loss: 0.0133\n",
            "Epoch 234/250\n",
            "2/2 [==============================] - 0s 2ms/step - loss: 0.0133\n",
            "Epoch 235/250\n",
            "2/2 [==============================] - 0s 1ms/step - loss: 0.0134\n",
            "Epoch 236/250\n",
            "2/2 [==============================] - 0s 1ms/step - loss: 0.0134\n",
            "Epoch 237/250\n",
            "2/2 [==============================] - 0s 1ms/step - loss: 0.0133\n",
            "Epoch 238/250\n",
            "2/2 [==============================] - 0s 1ms/step - loss: 0.0133\n",
            "Epoch 239/250\n",
            "2/2 [==============================] - 0s 1ms/step - loss: 0.0133\n",
            "Epoch 240/250\n",
            "2/2 [==============================] - 0s 2ms/step - loss: 0.0133\n",
            "Epoch 241/250\n",
            "2/2 [==============================] - 0s 1ms/step - loss: 0.0133\n",
            "Epoch 242/250\n",
            "2/2 [==============================] - 0s 1ms/step - loss: 0.0133\n",
            "Epoch 243/250\n",
            "2/2 [==============================] - 0s 2ms/step - loss: 0.0133\n",
            "Epoch 244/250\n",
            "2/2 [==============================] - 0s 8ms/step - loss: 0.0133\n",
            "Epoch 245/250\n",
            "2/2 [==============================] - 0s 2ms/step - loss: 0.0133\n",
            "Epoch 246/250\n",
            "2/2 [==============================] - 0s 1ms/step - loss: 0.0133\n",
            "Epoch 247/250\n",
            "2/2 [==============================] - 0s 2ms/step - loss: 0.0132\n",
            "Epoch 248/250\n",
            "2/2 [==============================] - 0s 1ms/step - loss: 0.0133\n",
            "Epoch 249/250\n",
            "2/2 [==============================] - 0s 7ms/step - loss: 0.0133\n",
            "Epoch 250/250\n",
            "2/2 [==============================] - 0s 4ms/step - loss: 0.0132\n"
          ],
          "name": "stdout"
        },
        {
          "output_type": "execute_result",
          "data": {
            "text/plain": [
              "<tensorflow.python.keras.callbacks.History at 0x7fd175ca74e0>"
            ]
          },
          "metadata": {
            "tags": []
          },
          "execution_count": 92
        }
      ]
    },
    {
      "cell_type": "code",
      "metadata": {
        "id": "sf0K-JzbA083",
        "outputId": "9040cf0c-0833-4149-935a-0272806faf6a",
        "colab": {
          "base_uri": "https://localhost:8080/",
          "height": 282
        }
      },
      "source": [
        "y = model.predict(x)\n",
        "plt.plot(x, t)\n",
        "plt.plot(x, y, 'o')"
      ],
      "execution_count": 93,
      "outputs": [
        {
          "output_type": "execute_result",
          "data": {
            "text/plain": [
              "[<matplotlib.lines.Line2D at 0x7fd17b406b38>]"
            ]
          },
          "metadata": {
            "tags": []
          },
          "execution_count": 93
        },
        {
          "output_type": "display_data",
          "data": {
            "image/png": "[encoded data removed]",
            "text/plain": [
              "<Figure size 432x288 with 1 Axes>"
            ]
          },
          "metadata": {
            "tags": [],
            "needs_background": "light"
          }
        }
      ]
    },
    {
      "cell_type": "code",
      "metadata": {
        "id": "_SSTPEe8DnjR"
      },
      "source": [
        "w1, w0 = model.layers[0].get_weights()\n",
        "w2, z0 = model.layers[1].get_weights()"
      ],
      "execution_count": 129,
      "outputs": []
    },
    {
      "cell_type": "code",
      "metadata": {
        "id": "YT3IK5-DGr-L",
        "outputId": "465d493a-8d83-49e6-893c-827b772b4271",
        "colab": {
          "base_uri": "https://localhost:8080/",
          "height": 51
        }
      },
      "source": [
        "print(w1.shape, w0.shape)\n",
        "print(w1, w0)"
      ],
      "execution_count": 134,
      "outputs": [
        {
          "output_type": "stream",
          "text": [
            "(1, 3) (3,)\n",
            "[[-0.27982864  4.8596115   1.9908255 ]] [-0.11655878  0.00246416  0.00493133]\n"
          ],
          "name": "stdout"
        }
      ]
    },
    {
      "cell_type": "code",
      "metadata": {
        "id": "oR7Ad2cjEvlU"
      },
      "source": [
        "yy = []\n",
        "for i in range(len(w1[0])):\n",
        "  yy.append(np.tanh(w1[0][i] * x + w0[i]))"
      ],
      "execution_count": 130,
      "outputs": []
    },
    {
      "cell_type": "code",
      "metadata": {
        "id": "E2_4-ZlEE7i_",
        "outputId": "cb994efb-1867-45fc-fcb1-757c99e60c0e",
        "colab": {
          "base_uri": "https://localhost:8080/",
          "height": 267
        }
      },
      "source": [
        "plt.plot(x, t)\n",
        "for i, yi in enumerate(yy):\n",
        "  plt.plot(x, yi * w2[i] + z0, '--')"
      ],
      "execution_count": 133,
      "outputs": [
        {
          "output_type": "display_data",
          "data": {
            "image/png": "[encoded data removed]",
            "text/plain": [
              "<Figure size 432x288 with 1 Axes>"
            ]
          },
          "metadata": {
            "tags": [],
            "needs_background": "light"
          }
        }
      ]
    },
    {
      "cell_type": "code",
      "metadata": {
        "id": "mIOU9XRxGKxx"
      },
      "source": [
        ""
      ],
      "execution_count": null,
      "outputs": []
    }
  ]
}