{
 "cells": [
  {
   "cell_type": "markdown",
   "metadata": {},
   "source": [
    "# Very basic Auto-Encoder: get it more sophosticated and explore performance\n",
    "\n",
    "We now make a more sophisticated algorithm to define the 'normal' sample in which the probability of the chars depend on the value of the other chars."
   ]
  },
  {
   "cell_type": "code",
   "execution_count": 1,
   "metadata": {},
   "outputs": [],
   "source": [
    "import random\n",
    "import pandas as pd\n",
    "import numpy as np\n",
    "import matplotlib.pyplot as plt"
   ]
  },
  {
   "cell_type": "markdown",
   "metadata": {},
   "source": [
    "### Generate Sequence Data"
   ]
  },
  {
   "cell_type": "code",
   "execution_count": 2,
   "metadata": {},
   "outputs": [],
   "source": [
    "first_letters =  'ABCDEF'\n",
    "second_numbers = '7890'\n",
    "alternative_second_numbers = '1234'\n",
    "last_letters = 'RSTUVWXYZ'\n",
    "\n",
    "# returns a string of the following format: [4 letters A-F][1 digit 7-0][3 letters QWOPZXML]\n",
    "def get_random_string():\n",
    "    str1 = ''.join(random.choice(first_letters) for i in range(4))\n",
    "    ## Observe the sophistication of these 'if'\n",
    "    if str1[1] in 'ADF':\n",
    "        str2 = random.choice(second_numbers)\n",
    "    else:\n",
    "        str2 = random.choice(alternative_second_numbers)\n",
    "    ##\n",
    "    if int(str2[0]) < 5:\n",
    "        str3 = ''.join(random.choice('RSTU') for i in range(2))\n",
    "    else:\n",
    "        str3 = ''.join(random.choice('VWXYZ') for i in range(2))\n",
    "    ## \n",
    "    if str1[2] in 'BCF':\n",
    "        str4 = ''.join(random.choice('RSTUVW'))\n",
    "    else:\n",
    "        str4 = ''.join(random.choice('XYZ'))\n",
    "    return str1+str2+str3+str4"
   ]
  },
  {
   "cell_type": "code",
   "execution_count": 3,
   "metadata": {},
   "outputs": [
    {
     "data": {
      "text/plain": [
       "['ACFD4RTW',\n",
       " 'CEBD3USU',\n",
       " 'ABAB1RTX',\n",
       " 'EABC7XWR',\n",
       " 'FEDA1UTZ',\n",
       " 'CAEB7WYZ',\n",
       " 'FDCA9ZZV',\n",
       " 'FCBB1RTW',\n",
       " 'BFFC8YWR',\n",
       " 'BEDF2SRX',\n",
       " 'CCEF2RUZ',\n",
       " 'ECDA4TSZ',\n",
       " 'CEEE2STZ',\n",
       " 'BEFB3SRW',\n",
       " 'CEEA2TSZ',\n",
       " 'CAED9XXX',\n",
       " 'FFCB7XZS',\n",
       " 'CFFA0URW',\n",
       " 'DAAD0RUX',\n",
       " 'DEFC2USV']"
      ]
     },
     "execution_count": 3,
     "metadata": {},
     "output_type": "execute_result"
    }
   ],
   "source": [
    "[get_random_string() for i in range(20)]"
   ]
  },
  {
   "cell_type": "code",
   "execution_count": 4,
   "metadata": {},
   "outputs": [],
   "source": [
    "# The guys thath wants to fake the data does not see the sophistication in the building\n",
    "first_letters2 =  'ABCDEF'\n",
    "second_numbers2 = '1234567890'\n",
    "last_letters2 = 'RSTUVWXYZ'\n",
    "\n",
    "# returns a string of the following format: [4 letters A-F][1 digit 0-2][3 letters QWOPZXML]\n",
    "def get_fake_string():\n",
    "    str1 = ''.join(random.choice(first_letters2) for i in range(4))\n",
    "    str2 = random.choice(second_numbers2)\n",
    "    str3 = ''.join(random.choice(last_letters2) for i in range(3))\n",
    "    return str1+str2+str3"
   ]
  },
  {
   "cell_type": "code",
   "execution_count": 6,
   "metadata": {},
   "outputs": [],
   "source": [
    "#Build the char index that we will use to encode seqs to numbers\n",
    "char_index = '0abcdefghijklmnopqrstuvwxyz'\n",
    "char_index +='ABCDEFGHIJKLMNOPQRSTUVWXYZ'\n",
    "char_index += '123456789'\n",
    "char_index += '().,-/+=&$?@#!*:;_[]|%⸏{}\\\"\\'' + ' ' +'\\\\'\n",
    "\n",
    "char_to_int = dict((c, i) for i, c in enumerate(char_index))\n",
    "int_to_char = dict((i, c) for i, c in enumerate(char_index))"
   ]
  },
  {
   "cell_type": "code",
   "execution_count": 7,
   "metadata": {},
   "outputs": [],
   "source": [
    "#print(list(enumerate(char_index)))"
   ]
  },
  {
   "cell_type": "code",
   "execution_count": 8,
   "metadata": {},
   "outputs": [],
   "source": [
    "#char_to_int"
   ]
  },
  {
   "cell_type": "code",
   "execution_count": 9,
   "metadata": {},
   "outputs": [
    {
     "name": "stderr",
     "output_type": "stream",
     "text": [
      "Using TensorFlow backend.\n",
      "/home/sequi/.local/lib/python3.7/site-packages/tensorflow/python/framework/dtypes.py:516: FutureWarning: Passing (type, 1) or '1type' as a synonym of type is deprecated; in a future version of numpy, it will be understood as (type, (1,)) / '(1,)type'.\n",
      "  _np_qint8 = np.dtype([(\"qint8\", np.int8, 1)])\n",
      "/home/sequi/.local/lib/python3.7/site-packages/tensorflow/python/framework/dtypes.py:517: FutureWarning: Passing (type, 1) or '1type' as a synonym of type is deprecated; in a future version of numpy, it will be understood as (type, (1,)) / '(1,)type'.\n",
      "  _np_quint8 = np.dtype([(\"quint8\", np.uint8, 1)])\n",
      "/home/sequi/.local/lib/python3.7/site-packages/tensorflow/python/framework/dtypes.py:518: FutureWarning: Passing (type, 1) or '1type' as a synonym of type is deprecated; in a future version of numpy, it will be understood as (type, (1,)) / '(1,)type'.\n",
      "  _np_qint16 = np.dtype([(\"qint16\", np.int16, 1)])\n",
      "/home/sequi/.local/lib/python3.7/site-packages/tensorflow/python/framework/dtypes.py:519: FutureWarning: Passing (type, 1) or '1type' as a synonym of type is deprecated; in a future version of numpy, it will be understood as (type, (1,)) / '(1,)type'.\n",
      "  _np_quint16 = np.dtype([(\"quint16\", np.uint16, 1)])\n",
      "/home/sequi/.local/lib/python3.7/site-packages/tensorflow/python/framework/dtypes.py:520: FutureWarning: Passing (type, 1) or '1type' as a synonym of type is deprecated; in a future version of numpy, it will be understood as (type, (1,)) / '(1,)type'.\n",
      "  _np_qint32 = np.dtype([(\"qint32\", np.int32, 1)])\n",
      "/home/sequi/.local/lib/python3.7/site-packages/tensorflow/python/framework/dtypes.py:525: FutureWarning: Passing (type, 1) or '1type' as a synonym of type is deprecated; in a future version of numpy, it will be understood as (type, (1,)) / '(1,)type'.\n",
      "  np_resource = np.dtype([(\"resource\", np.ubyte, 1)])\n",
      "/home/sequi/.local/lib/python3.7/site-packages/tensorboard/compat/tensorflow_stub/dtypes.py:541: FutureWarning: Passing (type, 1) or '1type' as a synonym of type is deprecated; in a future version of numpy, it will be understood as (type, (1,)) / '(1,)type'.\n",
      "  _np_qint8 = np.dtype([(\"qint8\", np.int8, 1)])\n",
      "/home/sequi/.local/lib/python3.7/site-packages/tensorboard/compat/tensorflow_stub/dtypes.py:542: FutureWarning: Passing (type, 1) or '1type' as a synonym of type is deprecated; in a future version of numpy, it will be understood as (type, (1,)) / '(1,)type'.\n",
      "  _np_quint8 = np.dtype([(\"quint8\", np.uint8, 1)])\n",
      "/home/sequi/.local/lib/python3.7/site-packages/tensorboard/compat/tensorflow_stub/dtypes.py:543: FutureWarning: Passing (type, 1) or '1type' as a synonym of type is deprecated; in a future version of numpy, it will be understood as (type, (1,)) / '(1,)type'.\n",
      "  _np_qint16 = np.dtype([(\"qint16\", np.int16, 1)])\n",
      "/home/sequi/.local/lib/python3.7/site-packages/tensorboard/compat/tensorflow_stub/dtypes.py:544: FutureWarning: Passing (type, 1) or '1type' as a synonym of type is deprecated; in a future version of numpy, it will be understood as (type, (1,)) / '(1,)type'.\n",
      "  _np_quint16 = np.dtype([(\"quint16\", np.uint16, 1)])\n",
      "/home/sequi/.local/lib/python3.7/site-packages/tensorboard/compat/tensorflow_stub/dtypes.py:545: FutureWarning: Passing (type, 1) or '1type' as a synonym of type is deprecated; in a future version of numpy, it will be understood as (type, (1,)) / '(1,)type'.\n",
      "  _np_qint32 = np.dtype([(\"qint32\", np.int32, 1)])\n",
      "/home/sequi/.local/lib/python3.7/site-packages/tensorboard/compat/tensorflow_stub/dtypes.py:550: FutureWarning: Passing (type, 1) or '1type' as a synonym of type is deprecated; in a future version of numpy, it will be understood as (type, (1,)) / '(1,)type'.\n",
      "  np_resource = np.dtype([(\"resource\", np.ubyte, 1)])\n"
     ]
    }
   ],
   "source": [
    "from keras.preprocessing.sequence import pad_sequences\n",
    "#function that convert a char seqs to numbers seqs \n",
    "def encode_sequence_list(seqs):\n",
    "    encoded_seqs = []\n",
    "    for seq in seqs:\n",
    "        encoded_seq = [char_to_int[c] for c in seq]\n",
    "        encoded_seqs.append(encoded_seq)\n",
    "    return pad_sequences(encoded_seqs, padding='post')\n",
    "\n",
    "def decode_sequence_list(seqs):\n",
    "    decoded_seqs = []\n",
    "    for seq in seqs:\n",
    "        decoded_seq = [int_to_char[i] for i in seq]\n",
    "        decoded_seqs.append(decoded_seq)\n",
    "    return decoded_seqs\n"
   ]
  },
  {
   "cell_type": "code",
   "execution_count": 12,
   "metadata": {},
   "outputs": [
    {
     "data": {
      "text/plain": [
       "['FECE2RTU', 'AEFD4TUV', 'DAEF8WXY', 'CAFB7ZZS', 'ABAB1RUY']"
      ]
     },
     "execution_count": 12,
     "metadata": {},
     "output_type": "execute_result"
    }
   ],
   "source": [
    "# get 25,000 sequences of this format\n",
    "random_sequences = [get_random_string() for i in range(25000)]\n",
    "random_sequences[:5]"
   ]
  },
  {
   "cell_type": "code",
   "execution_count": 13,
   "metadata": {},
   "outputs": [
    {
     "data": {
      "text/plain": [
       "['FBDE7VUT', 'BDEA7SRU', 'DBEA7XRX', 'EDDB8WUR', 'ECAF3XWU']"
      ]
     },
     "execution_count": 13,
     "metadata": {},
     "output_type": "execute_result"
    }
   ],
   "source": [
    "# Create 10k fake sequences\n",
    "# There will never be 10k anomalies, this is a trick just to study how well recognizes fake events\n",
    "fake_sequences = [get_fake_string() for i in range(10000)]\n",
    "fake_sequences[:5]"
   ]
  },
  {
   "cell_type": "code",
   "execution_count": 14,
   "metadata": {},
   "outputs": [],
   "source": [
    "# add some anomalies to our list\n",
    "random_sequences = random_sequences + fake_sequences\n",
    "#save this to a dataframe\n",
    "seqs_ds = pd.DataFrame(random_sequences)\n",
    "# encode each string seq to an integer array [[1],[5],[67]], [[45],[76],[7]\n",
    "encoded_seqs = encode_sequence_list(random_sequences)"
   ]
  },
  {
   "cell_type": "markdown",
   "metadata": {},
   "source": [
    "### Prepare the Data and Build an Autoencoder"
   ]
  },
  {
   "cell_type": "code",
   "execution_count": 15,
   "metadata": {},
   "outputs": [],
   "source": [
    "from sklearn.preprocessing import StandardScaler, MinMaxScaler\n",
    "scaler = MinMaxScaler()\n",
    "scaled_seqs = scaler.fit_transform(encoded_seqs)\n",
    "# Divide in train and test:\n",
    "# Important: we do not use the fake events to train and test!\n",
    "X_train = scaled_seqs[:20000]  \n",
    "X_test = scaled_seqs[20000:25000]"
   ]
  },
  {
   "cell_type": "code",
   "execution_count": 16,
   "metadata": {},
   "outputs": [
    {
     "name": "stderr",
     "output_type": "stream",
     "text": [
      "WARNING: Logging before flag parsing goes to stderr.\n",
      "W1109 11:18:53.593024 140392143037952 deprecation_wrapper.py:119] From /home/sequi/.local/lib/python3.7/site-packages/keras/backend/tensorflow_backend.py:74: The name tf.get_default_graph is deprecated. Please use tf.compat.v1.get_default_graph instead.\n",
      "\n",
      "W1109 11:18:53.608623 140392143037952 deprecation_wrapper.py:119] From /home/sequi/.local/lib/python3.7/site-packages/keras/backend/tensorflow_backend.py:517: The name tf.placeholder is deprecated. Please use tf.compat.v1.placeholder instead.\n",
      "\n",
      "W1109 11:18:53.612103 140392143037952 deprecation_wrapper.py:119] From /home/sequi/.local/lib/python3.7/site-packages/keras/backend/tensorflow_backend.py:4138: The name tf.random_uniform is deprecated. Please use tf.random.uniform instead.\n",
      "\n"
     ]
    }
   ],
   "source": [
    "from keras.models import Model, load_model\n",
    "from keras.layers import Input, Dense, Dropout, LSTM\n",
    "from keras.callbacks import ModelCheckpoint, TensorBoard\n",
    "from keras import regularizers\n",
    "\n",
    "# Parameters for the auto-encoder\n",
    "input_dim = X_train.shape[1] # number of features (8 in this case)\n",
    "encoding_dim = 8\n",
    "hidden_dim = int(encoding_dim / 2)\n",
    "\n",
    "# Typical training features\n",
    "nb_epoch = 30\n",
    "batch_size = 128\n",
    "learning_rate = 0.1\n",
    "\n",
    "# We create the auto-encoder layer by layer:\n",
    "\n",
    "# Create first layer that receives each scaled_seq\n",
    "input_layer = Input(shape=(input_dim, ))\n",
    "\n",
    "# Pass it to a first layer and encode\n",
    "encoder = Dense(8, activation=\"tanh\", activity_regularizer=regularizers.l1(10e-5))(input_layer)\n",
    "#encoder = Dense(10, activation=\"relu\")(encoder)\n",
    "encoder = Dense(4, activation='relu')(encoder)\n",
    "# start decoder\n",
    "#decoder = Dense(10, activation='relu')(encoder)\n",
    "decoder = Dense(8, activation='relu')(encoder)\n",
    "decoder = Dense(input_dim, activation='tanh')(decoder)\n",
    "\n",
    "# Physically create the auto-encoder model\n",
    "autoencoder = Model(inputs=input_layer, outputs=decoder)\n",
    "\n"
   ]
  },
  {
   "cell_type": "code",
   "execution_count": 17,
   "metadata": {},
   "outputs": [
    {
     "name": "stdout",
     "output_type": "stream",
     "text": [
      "_________________________________________________________________\n",
      "Layer (type)                 Output Shape              Param #   \n",
      "=================================================================\n",
      "input_1 (InputLayer)         (None, 8)                 0         \n",
      "_________________________________________________________________\n",
      "dense_1 (Dense)              (None, 8)                 72        \n",
      "_________________________________________________________________\n",
      "dense_2 (Dense)              (None, 4)                 36        \n",
      "_________________________________________________________________\n",
      "dense_3 (Dense)              (None, 8)                 40        \n",
      "_________________________________________________________________\n",
      "dense_4 (Dense)              (None, 8)                 72        \n",
      "=================================================================\n",
      "Total params: 220\n",
      "Trainable params: 220\n",
      "Non-trainable params: 0\n",
      "_________________________________________________________________\n"
     ]
    }
   ],
   "source": [
    "autoencoder.summary()"
   ]
  },
  {
   "cell_type": "markdown",
   "metadata": {},
   "source": [
    "### Fit the Model"
   ]
  },
  {
   "cell_type": "code",
   "execution_count": 18,
   "metadata": {},
   "outputs": [
    {
     "name": "stderr",
     "output_type": "stream",
     "text": [
      "W1109 11:19:02.365255 140392143037952 deprecation_wrapper.py:119] From /home/sequi/.local/lib/python3.7/site-packages/keras/optimizers.py:790: The name tf.train.Optimizer is deprecated. Please use tf.compat.v1.train.Optimizer instead.\n",
      "\n",
      "W1109 11:19:03.170497 140392143037952 deprecation_wrapper.py:119] From /home/sequi/.local/lib/python3.7/site-packages/keras/backend/tensorflow_backend.py:986: The name tf.assign_add is deprecated. Please use tf.compat.v1.assign_add instead.\n",
      "\n",
      "W1109 11:19:03.253874 140392143037952 deprecation_wrapper.py:119] From /home/sequi/.local/lib/python3.7/site-packages/keras/backend/tensorflow_backend.py:973: The name tf.assign is deprecated. Please use tf.compat.v1.assign instead.\n",
      "\n",
      "W1109 11:19:03.458946 140392143037952 deprecation_wrapper.py:119] From /home/sequi/.local/lib/python3.7/site-packages/keras/callbacks.py:850: The name tf.summary.merge_all is deprecated. Please use tf.compat.v1.summary.merge_all instead.\n",
      "\n",
      "W1109 11:19:03.459553 140392143037952 deprecation_wrapper.py:119] From /home/sequi/.local/lib/python3.7/site-packages/keras/callbacks.py:853: The name tf.summary.FileWriter is deprecated. Please use tf.compat.v1.summary.FileWriter instead.\n",
      "\n"
     ]
    },
    {
     "name": "stdout",
     "output_type": "stream",
     "text": [
      "Train on 20000 samples, validate on 5000 samples\n",
      "Epoch 1/30\n",
      "20000/20000 [==============================] - 0s 14us/step - loss: 0.3069 - acc: 0.1178 - val_loss: 0.1876 - val_acc: 0.1098\n",
      "Epoch 2/30\n",
      "20000/20000 [==============================] - 1s 29us/step - loss: 0.1529 - acc: 0.2134 - val_loss: 0.1340 - val_acc: 0.3098\n",
      "Epoch 3/30\n",
      "20000/20000 [==============================] - 0s 14us/step - loss: 0.1213 - acc: 0.3206 - val_loss: 0.1140 - val_acc: 0.3090\n",
      "Epoch 4/30\n",
      "20000/20000 [==============================] - 0s 9us/step - loss: 0.1065 - acc: 0.3211 - val_loss: 0.1038 - val_acc: 0.3134\n",
      "Epoch 5/30\n",
      "20000/20000 [==============================] - 0s 9us/step - loss: 0.0987 - acc: 0.3321 - val_loss: 0.0975 - val_acc: 0.3234\n",
      "Epoch 6/30\n",
      "20000/20000 [==============================] - 0s 9us/step - loss: 0.0931 - acc: 0.3385 - val_loss: 0.0921 - val_acc: 0.3244\n",
      "Epoch 7/30\n",
      "20000/20000 [==============================] - 0s 9us/step - loss: 0.0864 - acc: 0.3386 - val_loss: 0.0832 - val_acc: 0.3352\n",
      "Epoch 8/30\n",
      "20000/20000 [==============================] - 0s 8us/step - loss: 0.0783 - acc: 0.3564 - val_loss: 0.0766 - val_acc: 0.3546\n",
      "Epoch 9/30\n",
      "20000/20000 [==============================] - 0s 8us/step - loss: 0.0733 - acc: 0.3647 - val_loss: 0.0717 - val_acc: 0.3604\n",
      "Epoch 10/30\n",
      "20000/20000 [==============================] - 1s 33us/step - loss: 0.0660 - acc: 0.3733 - val_loss: 0.0616 - val_acc: 0.3742\n",
      "Epoch 11/30\n",
      "20000/20000 [==============================] - 0s 20us/step - loss: 0.0548 - acc: 0.3897 - val_loss: 0.0514 - val_acc: 0.3962\n",
      "Epoch 12/30\n",
      "20000/20000 [==============================] - 0s 17us/step - loss: 0.0486 - acc: 0.4052 - val_loss: 0.0475 - val_acc: 0.4064\n",
      "Epoch 13/30\n",
      "20000/20000 [==============================] - 0s 24us/step - loss: 0.0455 - acc: 0.4128 - val_loss: 0.0448 - val_acc: 0.4110\n",
      "Epoch 14/30\n",
      "20000/20000 [==============================] - 0s 14us/step - loss: 0.0432 - acc: 0.4135 - val_loss: 0.0429 - val_acc: 0.4096\n",
      "Epoch 15/30\n",
      "20000/20000 [==============================] - 0s 9us/step - loss: 0.0417 - acc: 0.4127 - val_loss: 0.0416 - val_acc: 0.3978\n",
      "Epoch 16/30\n",
      "20000/20000 [==============================] - 0s 10us/step - loss: 0.0406 - acc: 0.4098 - val_loss: 0.0407 - val_acc: 0.4070\n",
      "Epoch 17/30\n",
      "20000/20000 [==============================] - 0s 9us/step - loss: 0.0397 - acc: 0.4065 - val_loss: 0.0400 - val_acc: 0.4068\n",
      "Epoch 18/30\n",
      "20000/20000 [==============================] - 0s 23us/step - loss: 0.0391 - acc: 0.4069 - val_loss: 0.0395 - val_acc: 0.4114\n",
      "Epoch 19/30\n",
      "20000/20000 [==============================] - 0s 21us/step - loss: 0.0386 - acc: 0.4056 - val_loss: 0.0390 - val_acc: 0.3988\n",
      "Epoch 20/30\n",
      "20000/20000 [==============================] - 0s 16us/step - loss: 0.0382 - acc: 0.4052 - val_loss: 0.0386 - val_acc: 0.4068\n",
      "Epoch 21/30\n",
      "20000/20000 [==============================] - 0s 14us/step - loss: 0.0379 - acc: 0.4052 - val_loss: 0.0383 - val_acc: 0.4046\n",
      "Epoch 22/30\n",
      "20000/20000 [==============================] - 0s 8us/step - loss: 0.0376 - acc: 0.4044 - val_loss: 0.0380 - val_acc: 0.4042\n",
      "Epoch 23/30\n",
      "20000/20000 [==============================] - 0s 9us/step - loss: 0.0373 - acc: 0.4049 - val_loss: 0.0380 - val_acc: 0.4072\n",
      "Epoch 24/30\n",
      "20000/20000 [==============================] - 0s 11us/step - loss: 0.0371 - acc: 0.4042 - val_loss: 0.0376 - val_acc: 0.3944\n",
      "Epoch 25/30\n",
      "20000/20000 [==============================] - 0s 9us/step - loss: 0.0369 - acc: 0.4038 - val_loss: 0.0374 - val_acc: 0.3988\n",
      "Epoch 26/30\n",
      "20000/20000 [==============================] - 0s 10us/step - loss: 0.0366 - acc: 0.4035 - val_loss: 0.0373 - val_acc: 0.4040\n",
      "Epoch 27/30\n",
      "20000/20000 [==============================] - 0s 8us/step - loss: 0.0365 - acc: 0.4049 - val_loss: 0.0370 - val_acc: 0.3936\n",
      "Epoch 28/30\n",
      "20000/20000 [==============================] - 0s 8us/step - loss: 0.0363 - acc: 0.4028 - val_loss: 0.0369 - val_acc: 0.4074\n",
      "Epoch 29/30\n",
      "20000/20000 [==============================] - 0s 10us/step - loss: 0.0361 - acc: 0.4021 - val_loss: 0.0367 - val_acc: 0.3996\n",
      "Epoch 30/30\n",
      "20000/20000 [==============================] - 0s 8us/step - loss: 0.0360 - acc: 0.4008 - val_loss: 0.0366 - val_acc: 0.4020\n"
     ]
    }
   ],
   "source": [
    "autoencoder.compile(optimizer='adam', \n",
    "                    loss='mean_squared_error', \n",
    "                    metrics=['accuracy'])\n",
    "\n",
    "checkpointer = ModelCheckpoint(filepath=\"model_seqs2.h5\",\n",
    "                               verbose=0,\n",
    "                               save_best_only=True)\n",
    "\n",
    "tensorboard = TensorBoard(log_dir='./logs',\n",
    "                          histogram_freq=0,\n",
    "                          write_graph=True,\n",
    "                          write_images=True)\n",
    "\n",
    "history = autoencoder.fit(X_train, X_train,   # <---- THIS IS THE *KEY* LINE THAT DEFINES THAT IS AN AUTOENCODER!\n",
    "                    epochs=nb_epoch,\n",
    "                    batch_size=batch_size,\n",
    "                    shuffle=True,\n",
    "                    validation_data=(X_test, X_test),\n",
    "                    verbose=1,\n",
    "                    callbacks=[checkpointer, tensorboard]).history"
   ]
  },
  {
   "cell_type": "code",
   "execution_count": 19,
   "metadata": {},
   "outputs": [
    {
     "data": {
      "image/png": "[encoded data removed]",
      "text/plain": [
       "<Figure size 432x288 with 1 Axes>"
      ]
     },
     "metadata": {
      "needs_background": "light"
     },
     "output_type": "display_data"
    }
   ],
   "source": [
    "plt.plot(history['loss'])\n",
    "plt.plot(history['val_loss'])\n",
    "plt.title('model loss')\n",
    "plt.ylabel('loss')\n",
    "plt.xlabel('epoch')\n",
    "plt.legend(['train', 'test'], loc='upper right');"
   ]
  },
  {
   "cell_type": "code",
   "execution_count": 20,
   "metadata": {},
   "outputs": [
    {
     "name": "stdout",
     "output_type": "stream",
     "text": [
      "Min Loss:0.0359688007414341\n"
     ]
    }
   ],
   "source": [
    "#autoencoder = load_model('model_seqs2.h5')\n",
    "print(f'Min Loss:{np.min(history[\"loss\"])}')"
   ]
  },
  {
   "cell_type": "markdown",
   "metadata": {},
   "source": [
    "### Calculate the Error Term"
   ]
  },
  {
   "cell_type": "code",
   "execution_count": 21,
   "metadata": {},
   "outputs": [
    {
     "name": "stdout",
     "output_type": "stream",
     "text": [
      "MSE: 0.3132606172496768\n"
     ]
    }
   ],
   "source": [
    "#get the MSE error term\n",
    "predictions = autoencoder.predict(scaled_seqs)\n",
    "mse = np.mean(np.power(scaled_seqs - predictions, 2), axis=1)\n",
    "print('MSE:', np.quantile(mse, 0.9999)) # => the 9999% quatile - only 0.0001% have error score higher than that\n"
   ]
  },
  {
   "cell_type": "markdown",
   "metadata": {},
   "source": [
    "### Lets return to the seqs_ds data set that holds all the sequences"
   ]
  },
  {
   "cell_type": "code",
   "execution_count": 22,
   "metadata": {},
   "outputs": [],
   "source": [
    "#encode all the data\n",
    "encoded_seqs = encode_sequence_list(seqs_ds.iloc[:,0])\n",
    "scaled_data = scaler.transform(encoded_seqs)\n",
    "#predict it\n",
    "predicted = autoencoder.predict(scaled_data)\n",
    "#get the error term\n",
    "mse = np.mean(np.power(scaled_data - predicted, 2), axis=1)\n",
    "# now add them to our data frame\n",
    "# We have the mse for all, real and fake datapoints\n",
    "seqs_ds['MSE'] = mse"
   ]
  },
  {
   "cell_type": "markdown",
   "metadata": {},
   "source": [
    "## Let's compute some AUC curves"
   ]
  },
  {
   "cell_type": "code",
   "execution_count": 24,
   "metadata": {},
   "outputs": [],
   "source": [
    "from sklearn.metrics import roc_auc_score, roc_curve"
   ]
  },
  {
   "cell_type": "code",
   "execution_count": 25,
   "metadata": {},
   "outputs": [
    {
     "data": {
      "image/png": "[encoded data removed]",
      "text/plain": [
       "<Figure size 432x288 with 1 Axes>"
      ]
     },
     "metadata": {
      "needs_background": "light"
     },
     "output_type": "display_data"
    }
   ],
   "source": [
    "# We define the ytrue and yscore for the AUC\n",
    "y_true = [0] * 25000 + [1] * 10000\n",
    "y_scores = seqs_ds['MSE']\n",
    "# And compute it\n",
    "auc = roc_auc_score(y_true, y_scores)\n",
    "fpr , tpr, _= roc_curve(y_true, y_scores)\n",
    "plt.plot(fpr,tpr)\n",
    "plt.title('AUC = '+str(auc))\n",
    "plt.show()"
   ]
  },
  {
   "cell_type": "markdown",
   "metadata": {},
   "source": [
    "# Home Work "
   ]
  },
  {
   "cell_type": "markdown",
   "metadata": {},
   "source": [
    "## Autoencoder : 8 > 8 > 4 > 8 > 8\n",
    "\n",
    " AUC = 0.63\n",
    " \n",
    " The very simple usual autoencoder"
   ]
  },
  {
   "cell_type": "code",
   "execution_count": null,
   "metadata": {},
   "outputs": [],
   "source": [
    "# Create first layer that receives each scaled_seq\n",
    "input_layer = Input(shape=(input_dim, ))\n",
    "\n",
    "# Pass it to a first layer and encode\n",
    "encoder = Dense(8, activation=\"tanh\", activity_regularizer=regularizers.l1(10e-5))(input_layer)\n",
    "encoder = Dense(4, activation='relu')(encoder)\n",
    "# start decoder\n",
    "decoder = Dense(8, activation='relu')(encoder)\n",
    "decoder = Dense(input_dim, activation='tanh')(decoder)\n",
    "\n",
    "# Physically create the auto-encoder model\n",
    "autoencoder = Model(inputs=input_layer, outputs=decoder)"
   ]
  },
  {
   "cell_type": "markdown",
   "metadata": {},
   "source": [
    "## Autoencoder: 8 > 14 > 10 > 4 > 10 > 14 > 8\n",
    "\n",
    " AUC = 0.66\n",
    " \n",
    " We sophisticate the network making it wider at the beginning, so that it can better relate the char positions in the string"
   ]
  },
  {
   "cell_type": "code",
   "execution_count": null,
   "metadata": {},
   "outputs": [],
   "source": [
    "# Create first layer that receives each scaled_seq\n",
    "input_layer = Input(shape=(input_dim, ))\n",
    "\n",
    "\n",
    "encoder = Dense(14, activation=\"tanh\", activity_regularizer=regularizers.l1(10e-5))(input_layer)\n",
    "encoder = Dense(10, activation=\"relu\")(encoder)\n",
    "encoder = Dense(4, activation='relu')(encoder)\n",
    "decoder = Dense(10, activation='relu')(encoder)\n",
    "decoder = Dense(14, activation='relu')(decoder)\n",
    "decoder = Dense(input_dim, activation='tanh')(decoder)\n",
    "\n",
    "# Physically create the auto-encoder model\n",
    "autoencoder = Model(inputs=input_layer, outputs=decoder)"
   ]
  },
  {
   "cell_type": "markdown",
   "metadata": {},
   "source": [
    "## Autoencoder : 8 > 14 > 10 > 8 > 10 > 14 > 8\n",
    "\n",
    " AUC ~ 0.73\n",
    " \n",
    " We do the same as before, but we make the latent space more sophisticated"
   ]
  },
  {
   "cell_type": "code",
   "execution_count": null,
   "metadata": {},
   "outputs": [],
   "source": [
    "input_layer = Input(shape=(input_dim, ))\n",
    "\n",
    "# Pass it to a first layer and encode\n",
    "encoder = Dense(14, activation=\"tanh\", activity_regularizer=regularizers.l1(10e-5))(input_layer)\n",
    "encoder = Dense(10, activation=\"relu\")(encoder)\n",
    "encoder = Dense(8, activation='relu')(encoder)\n",
    "# start decoder\n",
    "decoder = Dense(10, activation='relu')(encoder)\n",
    "decoder = Dense(14, activation='relu')(decoder)\n",
    "decoder = Dense(input_dim, activation='tanh')(decoder)"
   ]
  }
 ],
 "metadata": {
  "kernelspec": {
   "display_name": "Python 3",
   "language": "python",
   "name": "python3"
  },
  "language_info": {
   "codemirror_mode": {
    "name": "ipython",
    "version": 3
   },
   "file_extension": ".py",
   "mimetype": "text/x-python",
   "name": "python",
   "nbconvert_exporter": "python",
   "pygments_lexer": "ipython3",
   "version": "3.7.0"
  }
 },
 "nbformat": 4,
 "nbformat_minor": 2
}
