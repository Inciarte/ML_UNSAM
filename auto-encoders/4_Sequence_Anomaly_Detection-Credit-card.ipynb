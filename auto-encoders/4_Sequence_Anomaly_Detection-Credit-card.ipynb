{
 "cells": [
  {
   "cell_type": "markdown",
   "metadata": {},
   "source": [
    "# Auto-Encoder: detect credit card fraud through anomalies\n"
   ]
  },
  {
   "cell_type": "code",
   "execution_count": 1,
   "metadata": {},
   "outputs": [],
   "source": [
    "import random\n",
    "import pandas as pd\n",
    "import numpy as np\n",
    "import matplotlib.pyplot as plt"
   ]
  },
  {
   "cell_type": "code",
   "execution_count": 4,
   "metadata": {},
   "outputs": [
    {
     "ename": "FileNotFoundError",
     "evalue": "[Errno 2] No such file or directory: '/home/sequi/tmp/creditcard.csv'",
     "output_type": "error",
     "traceback": [
      "\u001b[0;31m---------------------------------------------------------------------------\u001b[0m",
      "\u001b[0;31mFileNotFoundError\u001b[0m                         Traceback (most recent call last)",
      "\u001b[0;32m<ipython-input-4-a092b4328e74>\u001b[0m in \u001b[0;36m<module>\u001b[0;34m\u001b[0m\n\u001b[0;32m----> 1\u001b[0;31m \u001b[0mtrans\u001b[0m \u001b[0;34m=\u001b[0m \u001b[0mpd\u001b[0m\u001b[0;34m.\u001b[0m\u001b[0mread_csv\u001b[0m\u001b[0;34m(\u001b[0m\u001b[0;34m'/home/sequi/tmp/creditcard.csv'\u001b[0m\u001b[0;34m,\u001b[0m \u001b[0msep\u001b[0m\u001b[0;34m=\u001b[0m\u001b[0;34m','\u001b[0m\u001b[0;34m)\u001b[0m\u001b[0;34m\u001b[0m\u001b[0;34m\u001b[0m\u001b[0m\n\u001b[0m",
      "\u001b[0;32m~/.local/lib/python3.8/site-packages/pandas/io/parsers.py\u001b[0m in \u001b[0;36mread_csv\u001b[0;34m(filepath_or_buffer, sep, delimiter, header, names, index_col, usecols, squeeze, prefix, mangle_dupe_cols, dtype, engine, converters, true_values, false_values, skipinitialspace, skiprows, skipfooter, nrows, na_values, keep_default_na, na_filter, verbose, skip_blank_lines, parse_dates, infer_datetime_format, keep_date_col, date_parser, dayfirst, cache_dates, iterator, chunksize, compression, thousands, decimal, lineterminator, quotechar, quoting, doublequote, escapechar, comment, encoding, dialect, error_bad_lines, warn_bad_lines, delim_whitespace, low_memory, memory_map, float_precision)\u001b[0m\n\u001b[1;32m    686\u001b[0m     )\n\u001b[1;32m    687\u001b[0m \u001b[0;34m\u001b[0m\u001b[0m\n\u001b[0;32m--> 688\u001b[0;31m     \u001b[0;32mreturn\u001b[0m \u001b[0m_read\u001b[0m\u001b[0;34m(\u001b[0m\u001b[0mfilepath_or_buffer\u001b[0m\u001b[0;34m,\u001b[0m \u001b[0mkwds\u001b[0m\u001b[0;34m)\u001b[0m\u001b[0;34m\u001b[0m\u001b[0;34m\u001b[0m\u001b[0m\n\u001b[0m\u001b[1;32m    689\u001b[0m \u001b[0;34m\u001b[0m\u001b[0m\n\u001b[1;32m    690\u001b[0m \u001b[0;34m\u001b[0m\u001b[0m\n",
      "\u001b[0;32m~/.local/lib/python3.8/site-packages/pandas/io/parsers.py\u001b[0m in \u001b[0;36m_read\u001b[0;34m(filepath_or_buffer, kwds)\u001b[0m\n\u001b[1;32m    452\u001b[0m \u001b[0;34m\u001b[0m\u001b[0m\n\u001b[1;32m    453\u001b[0m     \u001b[0;31m# Create the parser.\u001b[0m\u001b[0;34m\u001b[0m\u001b[0;34m\u001b[0m\u001b[0;34m\u001b[0m\u001b[0m\n\u001b[0;32m--> 454\u001b[0;31m     \u001b[0mparser\u001b[0m \u001b[0;34m=\u001b[0m \u001b[0mTextFileReader\u001b[0m\u001b[0;34m(\u001b[0m\u001b[0mfp_or_buf\u001b[0m\u001b[0;34m,\u001b[0m \u001b[0;34m**\u001b[0m\u001b[0mkwds\u001b[0m\u001b[0;34m)\u001b[0m\u001b[0;34m\u001b[0m\u001b[0;34m\u001b[0m\u001b[0m\n\u001b[0m\u001b[1;32m    455\u001b[0m \u001b[0;34m\u001b[0m\u001b[0m\n\u001b[1;32m    456\u001b[0m     \u001b[0;32mif\u001b[0m \u001b[0mchunksize\u001b[0m \u001b[0;32mor\u001b[0m \u001b[0miterator\u001b[0m\u001b[0;34m:\u001b[0m\u001b[0;34m\u001b[0m\u001b[0;34m\u001b[0m\u001b[0m\n",
      "\u001b[0;32m~/.local/lib/python3.8/site-packages/pandas/io/parsers.py\u001b[0m in \u001b[0;36m__init__\u001b[0;34m(self, f, engine, **kwds)\u001b[0m\n\u001b[1;32m    946\u001b[0m             \u001b[0mself\u001b[0m\u001b[0;34m.\u001b[0m\u001b[0moptions\u001b[0m\u001b[0;34m[\u001b[0m\u001b[0;34m\"has_index_names\"\u001b[0m\u001b[0;34m]\u001b[0m \u001b[0;34m=\u001b[0m \u001b[0mkwds\u001b[0m\u001b[0;34m[\u001b[0m\u001b[0;34m\"has_index_names\"\u001b[0m\u001b[0;34m]\u001b[0m\u001b[0;34m\u001b[0m\u001b[0;34m\u001b[0m\u001b[0m\n\u001b[1;32m    947\u001b[0m \u001b[0;34m\u001b[0m\u001b[0m\n\u001b[0;32m--> 948\u001b[0;31m         \u001b[0mself\u001b[0m\u001b[0;34m.\u001b[0m\u001b[0m_make_engine\u001b[0m\u001b[0;34m(\u001b[0m\u001b[0mself\u001b[0m\u001b[0;34m.\u001b[0m\u001b[0mengine\u001b[0m\u001b[0;34m)\u001b[0m\u001b[0;34m\u001b[0m\u001b[0;34m\u001b[0m\u001b[0m\n\u001b[0m\u001b[1;32m    949\u001b[0m \u001b[0;34m\u001b[0m\u001b[0m\n\u001b[1;32m    950\u001b[0m     \u001b[0;32mdef\u001b[0m \u001b[0mclose\u001b[0m\u001b[0;34m(\u001b[0m\u001b[0mself\u001b[0m\u001b[0;34m)\u001b[0m\u001b[0;34m:\u001b[0m\u001b[0;34m\u001b[0m\u001b[0;34m\u001b[0m\u001b[0m\n",
      "\u001b[0;32m~/.local/lib/python3.8/site-packages/pandas/io/parsers.py\u001b[0m in \u001b[0;36m_make_engine\u001b[0;34m(self, engine)\u001b[0m\n\u001b[1;32m   1178\u001b[0m     \u001b[0;32mdef\u001b[0m \u001b[0m_make_engine\u001b[0m\u001b[0;34m(\u001b[0m\u001b[0mself\u001b[0m\u001b[0;34m,\u001b[0m \u001b[0mengine\u001b[0m\u001b[0;34m=\u001b[0m\u001b[0;34m\"c\"\u001b[0m\u001b[0;34m)\u001b[0m\u001b[0;34m:\u001b[0m\u001b[0;34m\u001b[0m\u001b[0;34m\u001b[0m\u001b[0m\n\u001b[1;32m   1179\u001b[0m         \u001b[0;32mif\u001b[0m \u001b[0mengine\u001b[0m \u001b[0;34m==\u001b[0m \u001b[0;34m\"c\"\u001b[0m\u001b[0;34m:\u001b[0m\u001b[0;34m\u001b[0m\u001b[0;34m\u001b[0m\u001b[0m\n\u001b[0;32m-> 1180\u001b[0;31m             \u001b[0mself\u001b[0m\u001b[0;34m.\u001b[0m\u001b[0m_engine\u001b[0m \u001b[0;34m=\u001b[0m \u001b[0mCParserWrapper\u001b[0m\u001b[0;34m(\u001b[0m\u001b[0mself\u001b[0m\u001b[0;34m.\u001b[0m\u001b[0mf\u001b[0m\u001b[0;34m,\u001b[0m \u001b[0;34m**\u001b[0m\u001b[0mself\u001b[0m\u001b[0;34m.\u001b[0m\u001b[0moptions\u001b[0m\u001b[0;34m)\u001b[0m\u001b[0;34m\u001b[0m\u001b[0;34m\u001b[0m\u001b[0m\n\u001b[0m\u001b[1;32m   1181\u001b[0m         \u001b[0;32melse\u001b[0m\u001b[0;34m:\u001b[0m\u001b[0;34m\u001b[0m\u001b[0;34m\u001b[0m\u001b[0m\n\u001b[1;32m   1182\u001b[0m             \u001b[0;32mif\u001b[0m \u001b[0mengine\u001b[0m \u001b[0;34m==\u001b[0m \u001b[0;34m\"python\"\u001b[0m\u001b[0;34m:\u001b[0m\u001b[0;34m\u001b[0m\u001b[0;34m\u001b[0m\u001b[0m\n",
      "\u001b[0;32m~/.local/lib/python3.8/site-packages/pandas/io/parsers.py\u001b[0m in \u001b[0;36m__init__\u001b[0;34m(self, src, **kwds)\u001b[0m\n\u001b[1;32m   2008\u001b[0m         \u001b[0mkwds\u001b[0m\u001b[0;34m[\u001b[0m\u001b[0;34m\"usecols\"\u001b[0m\u001b[0;34m]\u001b[0m \u001b[0;34m=\u001b[0m \u001b[0mself\u001b[0m\u001b[0;34m.\u001b[0m\u001b[0musecols\u001b[0m\u001b[0;34m\u001b[0m\u001b[0;34m\u001b[0m\u001b[0m\n\u001b[1;32m   2009\u001b[0m \u001b[0;34m\u001b[0m\u001b[0m\n\u001b[0;32m-> 2010\u001b[0;31m         \u001b[0mself\u001b[0m\u001b[0;34m.\u001b[0m\u001b[0m_reader\u001b[0m \u001b[0;34m=\u001b[0m \u001b[0mparsers\u001b[0m\u001b[0;34m.\u001b[0m\u001b[0mTextReader\u001b[0m\u001b[0;34m(\u001b[0m\u001b[0msrc\u001b[0m\u001b[0;34m,\u001b[0m \u001b[0;34m**\u001b[0m\u001b[0mkwds\u001b[0m\u001b[0;34m)\u001b[0m\u001b[0;34m\u001b[0m\u001b[0;34m\u001b[0m\u001b[0m\n\u001b[0m\u001b[1;32m   2011\u001b[0m         \u001b[0mself\u001b[0m\u001b[0;34m.\u001b[0m\u001b[0munnamed_cols\u001b[0m \u001b[0;34m=\u001b[0m \u001b[0mself\u001b[0m\u001b[0;34m.\u001b[0m\u001b[0m_reader\u001b[0m\u001b[0;34m.\u001b[0m\u001b[0munnamed_cols\u001b[0m\u001b[0;34m\u001b[0m\u001b[0;34m\u001b[0m\u001b[0m\n\u001b[1;32m   2012\u001b[0m \u001b[0;34m\u001b[0m\u001b[0m\n",
      "\u001b[0;32mpandas/_libs/parsers.pyx\u001b[0m in \u001b[0;36mpandas._libs.parsers.TextReader.__cinit__\u001b[0;34m()\u001b[0m\n",
      "\u001b[0;32mpandas/_libs/parsers.pyx\u001b[0m in \u001b[0;36mpandas._libs.parsers.TextReader._setup_parser_source\u001b[0;34m()\u001b[0m\n",
      "\u001b[0;31mFileNotFoundError\u001b[0m: [Errno 2] No such file or directory: '/home/sequi/tmp/creditcard.csv'"
     ]
    }
   ],
   "source": [
    "trans = pd.read_csv('/home/sequi/tmp/creditcard.csv', sep=',')"
   ]
  },
  {
   "cell_type": "code",
   "execution_count": 3,
   "metadata": {},
   "outputs": [
    {
     "ename": "NameError",
     "evalue": "name 'trans' is not defined",
     "output_type": "error",
     "traceback": [
      "\u001b[0;31m---------------------------------------------------------------------------\u001b[0m",
      "\u001b[0;31mNameError\u001b[0m                                 Traceback (most recent call last)",
      "\u001b[0;32m<ipython-input-3-1e890ad32fd8>\u001b[0m in \u001b[0;36m<module>\u001b[0;34m\u001b[0m\n\u001b[0;32m----> 1\u001b[0;31m \u001b[0mdisplay\u001b[0m\u001b[0;34m(\u001b[0m\u001b[0mtrans\u001b[0m\u001b[0;34m[\u001b[0m\u001b[0;34m:\u001b[0m\u001b[0;36m3\u001b[0m\u001b[0;34m]\u001b[0m\u001b[0;34m)\u001b[0m\u001b[0;34m\u001b[0m\u001b[0;34m\u001b[0m\u001b[0m\n\u001b[0m\u001b[1;32m      2\u001b[0m \u001b[0mprint\u001b[0m\u001b[0;34m(\u001b[0m\u001b[0mtrans\u001b[0m\u001b[0;34m.\u001b[0m\u001b[0mshape\u001b[0m\u001b[0;34m)\u001b[0m\u001b[0;34m\u001b[0m\u001b[0;34m\u001b[0m\u001b[0m\n\u001b[1;32m      3\u001b[0m \u001b[0mtrans\u001b[0m\u001b[0;34m[\u001b[0m\u001b[0;34m'Class'\u001b[0m\u001b[0;34m]\u001b[0m\u001b[0;34m.\u001b[0m\u001b[0msum\u001b[0m\u001b[0;34m(\u001b[0m\u001b[0;34m)\u001b[0m\u001b[0;34m\u001b[0m\u001b[0;34m\u001b[0m\u001b[0m\n",
      "\u001b[0;31mNameError\u001b[0m: name 'trans' is not defined"
     ]
    }
   ],
   "source": [
    "display(trans[:3])\n",
    "print(trans.shape)\n",
    "trans['Class'].sum()"
   ]
  },
  {
   "cell_type": "code",
   "execution_count": 7,
   "metadata": {},
   "outputs": [
    {
     "data": {
      "text/plain": [
       "0.9982725143693799"
      ]
     },
     "execution_count": 7,
     "metadata": {},
     "output_type": "execute_result"
    }
   ],
   "source": [
    "1-492/284807"
   ]
  },
  {
   "cell_type": "code",
   "execution_count": 8,
   "metadata": {},
   "outputs": [
    {
     "name": "stdout",
     "output_type": "stream",
     "text": [
      "492\n"
     ]
    },
    {
     "data": {
      "text/html": [
       "<div>\n",
       "<style scoped>\n",
       "    .dataframe tbody tr th:only-of-type {\n",
       "        vertical-align: middle;\n",
       "    }\n",
       "\n",
       "    .dataframe tbody tr th {\n",
       "        vertical-align: top;\n",
       "    }\n",
       "\n",
       "    .dataframe thead th {\n",
       "        text-align: right;\n",
       "    }\n",
       "</style>\n",
       "<table border=\"1\" class=\"dataframe\">\n",
       "  <thead>\n",
       "    <tr style=\"text-align: right;\">\n",
       "      <th></th>\n",
       "      <th>Time</th>\n",
       "      <th>V1</th>\n",
       "      <th>V2</th>\n",
       "      <th>V3</th>\n",
       "      <th>V4</th>\n",
       "      <th>V5</th>\n",
       "      <th>V6</th>\n",
       "      <th>V7</th>\n",
       "      <th>V8</th>\n",
       "      <th>V9</th>\n",
       "      <th>...</th>\n",
       "      <th>V21</th>\n",
       "      <th>V22</th>\n",
       "      <th>V23</th>\n",
       "      <th>V24</th>\n",
       "      <th>V25</th>\n",
       "      <th>V26</th>\n",
       "      <th>V27</th>\n",
       "      <th>V28</th>\n",
       "      <th>Amount</th>\n",
       "      <th>Class</th>\n",
       "    </tr>\n",
       "  </thead>\n",
       "  <tbody>\n",
       "    <tr>\n",
       "      <th>541</th>\n",
       "      <td>406.0</td>\n",
       "      <td>-2.312227</td>\n",
       "      <td>1.951992</td>\n",
       "      <td>-1.609851</td>\n",
       "      <td>3.997906</td>\n",
       "      <td>-0.522188</td>\n",
       "      <td>-1.426545</td>\n",
       "      <td>-2.537387</td>\n",
       "      <td>1.391657</td>\n",
       "      <td>-2.770089</td>\n",
       "      <td>...</td>\n",
       "      <td>0.517232</td>\n",
       "      <td>-0.035049</td>\n",
       "      <td>-0.465211</td>\n",
       "      <td>0.320198</td>\n",
       "      <td>0.044519</td>\n",
       "      <td>0.177840</td>\n",
       "      <td>0.261145</td>\n",
       "      <td>-0.143276</td>\n",
       "      <td>0.00</td>\n",
       "      <td>1</td>\n",
       "    </tr>\n",
       "    <tr>\n",
       "      <th>623</th>\n",
       "      <td>472.0</td>\n",
       "      <td>-3.043541</td>\n",
       "      <td>-3.157307</td>\n",
       "      <td>1.088463</td>\n",
       "      <td>2.288644</td>\n",
       "      <td>1.359805</td>\n",
       "      <td>-1.064823</td>\n",
       "      <td>0.325574</td>\n",
       "      <td>-0.067794</td>\n",
       "      <td>-0.270953</td>\n",
       "      <td>...</td>\n",
       "      <td>0.661696</td>\n",
       "      <td>0.435477</td>\n",
       "      <td>1.375966</td>\n",
       "      <td>-0.293803</td>\n",
       "      <td>0.279798</td>\n",
       "      <td>-0.145362</td>\n",
       "      <td>-0.252773</td>\n",
       "      <td>0.035764</td>\n",
       "      <td>529.00</td>\n",
       "      <td>1</td>\n",
       "    </tr>\n",
       "    <tr>\n",
       "      <th>4920</th>\n",
       "      <td>4462.0</td>\n",
       "      <td>-2.303350</td>\n",
       "      <td>1.759247</td>\n",
       "      <td>-0.359745</td>\n",
       "      <td>2.330243</td>\n",
       "      <td>-0.821628</td>\n",
       "      <td>-0.075788</td>\n",
       "      <td>0.562320</td>\n",
       "      <td>-0.399147</td>\n",
       "      <td>-0.238253</td>\n",
       "      <td>...</td>\n",
       "      <td>-0.294166</td>\n",
       "      <td>-0.932391</td>\n",
       "      <td>0.172726</td>\n",
       "      <td>-0.087330</td>\n",
       "      <td>-0.156114</td>\n",
       "      <td>-0.542628</td>\n",
       "      <td>0.039566</td>\n",
       "      <td>-0.153029</td>\n",
       "      <td>239.93</td>\n",
       "      <td>1</td>\n",
       "    </tr>\n",
       "    <tr>\n",
       "      <th>6108</th>\n",
       "      <td>6986.0</td>\n",
       "      <td>-4.397974</td>\n",
       "      <td>1.358367</td>\n",
       "      <td>-2.592844</td>\n",
       "      <td>2.679787</td>\n",
       "      <td>-1.128131</td>\n",
       "      <td>-1.706536</td>\n",
       "      <td>-3.496197</td>\n",
       "      <td>-0.248778</td>\n",
       "      <td>-0.247768</td>\n",
       "      <td>...</td>\n",
       "      <td>0.573574</td>\n",
       "      <td>0.176968</td>\n",
       "      <td>-0.436207</td>\n",
       "      <td>-0.053502</td>\n",
       "      <td>0.252405</td>\n",
       "      <td>-0.657488</td>\n",
       "      <td>-0.827136</td>\n",
       "      <td>0.849573</td>\n",
       "      <td>59.00</td>\n",
       "      <td>1</td>\n",
       "    </tr>\n",
       "    <tr>\n",
       "      <th>6329</th>\n",
       "      <td>7519.0</td>\n",
       "      <td>1.234235</td>\n",
       "      <td>3.019740</td>\n",
       "      <td>-4.304597</td>\n",
       "      <td>4.732795</td>\n",
       "      <td>3.624201</td>\n",
       "      <td>-1.357746</td>\n",
       "      <td>1.713445</td>\n",
       "      <td>-0.496358</td>\n",
       "      <td>-1.282858</td>\n",
       "      <td>...</td>\n",
       "      <td>-0.379068</td>\n",
       "      <td>-0.704181</td>\n",
       "      <td>-0.656805</td>\n",
       "      <td>-1.632653</td>\n",
       "      <td>1.488901</td>\n",
       "      <td>0.566797</td>\n",
       "      <td>-0.010016</td>\n",
       "      <td>0.146793</td>\n",
       "      <td>1.00</td>\n",
       "      <td>1</td>\n",
       "    </tr>\n",
       "  </tbody>\n",
       "</table>\n",
       "<p>5 rows × 31 columns</p>\n",
       "</div>"
      ],
      "text/plain": [
       "        Time        V1        V2        V3        V4        V5        V6  \\\n",
       "541    406.0 -2.312227  1.951992 -1.609851  3.997906 -0.522188 -1.426545   \n",
       "623    472.0 -3.043541 -3.157307  1.088463  2.288644  1.359805 -1.064823   \n",
       "4920  4462.0 -2.303350  1.759247 -0.359745  2.330243 -0.821628 -0.075788   \n",
       "6108  6986.0 -4.397974  1.358367 -2.592844  2.679787 -1.128131 -1.706536   \n",
       "6329  7519.0  1.234235  3.019740 -4.304597  4.732795  3.624201 -1.357746   \n",
       "\n",
       "            V7        V8        V9  ...       V21       V22       V23  \\\n",
       "541  -2.537387  1.391657 -2.770089  ...  0.517232 -0.035049 -0.465211   \n",
       "623   0.325574 -0.067794 -0.270953  ...  0.661696  0.435477  1.375966   \n",
       "4920  0.562320 -0.399147 -0.238253  ... -0.294166 -0.932391  0.172726   \n",
       "6108 -3.496197 -0.248778 -0.247768  ...  0.573574  0.176968 -0.436207   \n",
       "6329  1.713445 -0.496358 -1.282858  ... -0.379068 -0.704181 -0.656805   \n",
       "\n",
       "           V24       V25       V26       V27       V28  Amount  Class  \n",
       "541   0.320198  0.044519  0.177840  0.261145 -0.143276    0.00      1  \n",
       "623  -0.293803  0.279798 -0.145362 -0.252773  0.035764  529.00      1  \n",
       "4920 -0.087330 -0.156114 -0.542628  0.039566 -0.153029  239.93      1  \n",
       "6108 -0.053502  0.252405 -0.657488 -0.827136  0.849573   59.00      1  \n",
       "6329 -1.632653  1.488901  0.566797 -0.010016  0.146793    1.00      1  \n",
       "\n",
       "[5 rows x 31 columns]"
      ]
     },
     "execution_count": 8,
     "metadata": {},
     "output_type": "execute_result"
    }
   ],
   "source": [
    "print(len(trans.loc[trans['Class']==1]))\n",
    "trans.loc[trans['Class']==1][:5]"
   ]
  },
  {
   "cell_type": "code",
   "execution_count": 9,
   "metadata": {},
   "outputs": [],
   "source": [
    "def hour(row):\n",
    "    seconds = row['Time']\n",
    "    return (seconds-int(seconds/86400)*86400)/3600\n",
    "    \n",
    "def weekday(row):\n",
    "    seconds = row['Time']\n",
    "    return int(seconds/86400)%7"
   ]
  },
  {
   "cell_type": "code",
   "execution_count": 10,
   "metadata": {},
   "outputs": [],
   "source": [
    "# Create new columns with the hour and the weekday (relatives to T=0), \n",
    "# Since we expect a pattern in those periods\n",
    "trans['weekday']  = trans.apply (lambda row: weekday(row), axis=1)\n",
    "trans['hour']  = trans.apply (lambda row: hour(row), axis=1)"
   ]
  },
  {
   "cell_type": "code",
   "execution_count": 11,
   "metadata": {},
   "outputs": [
    {
     "data": {
      "image/png": "[encoded data removed]",
      "text/plain": [
       "<Figure size 432x288 with 1 Axes>"
      ]
     },
     "metadata": {
      "needs_background": "light"
     },
     "output_type": "display_data"
    }
   ],
   "source": [
    "plt.hist(trans.loc[trans['Class']==1]['weekday'].tolist())\n",
    "plt.show()"
   ]
  },
  {
   "cell_type": "code",
   "execution_count": 12,
   "metadata": {},
   "outputs": [
    {
     "data": {
      "image/png": "[encoded data removed]",
      "text/plain": [
       "<Figure size 432x288 with 1 Axes>"
      ]
     },
     "metadata": {
      "needs_background": "light"
     },
     "output_type": "display_data"
    }
   ],
   "source": [
    "plt.hist(trans.loc[trans['Class']==1]['hour'].tolist())\n",
    "plt.show()"
   ]
  },
  {
   "cell_type": "code",
   "execution_count": 13,
   "metadata": {},
   "outputs": [
    {
     "data": {
      "image/png": "[encoded data removed]",
      "text/plain": [
       "<Figure size 432x288 with 1 Axes>"
      ]
     },
     "metadata": {
      "needs_background": "light"
     },
     "output_type": "display_data"
    }
   ],
   "source": [
    "plt.hist(trans.loc[trans['Class']==0]['hour'].tolist())\n",
    "plt.show()"
   ]
  },
  {
   "cell_type": "code",
   "execution_count": 14,
   "metadata": {},
   "outputs": [
    {
     "data": {
      "text/html": [
       "<div>\n",
       "<style scoped>\n",
       "    .dataframe tbody tr th:only-of-type {\n",
       "        vertical-align: middle;\n",
       "    }\n",
       "\n",
       "    .dataframe tbody tr th {\n",
       "        vertical-align: top;\n",
       "    }\n",
       "\n",
       "    .dataframe thead th {\n",
       "        text-align: right;\n",
       "    }\n",
       "</style>\n",
       "<table border=\"1\" class=\"dataframe\">\n",
       "  <thead>\n",
       "    <tr style=\"text-align: right;\">\n",
       "      <th></th>\n",
       "      <th>Time</th>\n",
       "      <th>V1</th>\n",
       "      <th>V2</th>\n",
       "      <th>V3</th>\n",
       "      <th>V4</th>\n",
       "      <th>V5</th>\n",
       "      <th>V6</th>\n",
       "      <th>V7</th>\n",
       "      <th>V8</th>\n",
       "      <th>V9</th>\n",
       "      <th>...</th>\n",
       "      <th>V23</th>\n",
       "      <th>V24</th>\n",
       "      <th>V25</th>\n",
       "      <th>V26</th>\n",
       "      <th>V27</th>\n",
       "      <th>V28</th>\n",
       "      <th>Amount</th>\n",
       "      <th>Class</th>\n",
       "      <th>weekday</th>\n",
       "      <th>hour</th>\n",
       "    </tr>\n",
       "  </thead>\n",
       "  <tbody>\n",
       "    <tr>\n",
       "      <th>0</th>\n",
       "      <td>132806.0</td>\n",
       "      <td>-0.598987</td>\n",
       "      <td>0.425233</td>\n",
       "      <td>0.170619</td>\n",
       "      <td>-2.483010</td>\n",
       "      <td>1.049204</td>\n",
       "      <td>-1.182570</td>\n",
       "      <td>1.239035</td>\n",
       "      <td>-0.356663</td>\n",
       "      <td>-2.000009</td>\n",
       "      <td>...</td>\n",
       "      <td>-0.633251</td>\n",
       "      <td>0.721123</td>\n",
       "      <td>1.330019</td>\n",
       "      <td>0.093007</td>\n",
       "      <td>-0.081568</td>\n",
       "      <td>0.021623</td>\n",
       "      <td>15.00</td>\n",
       "      <td>0</td>\n",
       "      <td>1</td>\n",
       "      <td>12.890556</td>\n",
       "    </tr>\n",
       "    <tr>\n",
       "      <th>1</th>\n",
       "      <td>129742.0</td>\n",
       "      <td>-0.312785</td>\n",
       "      <td>1.370619</td>\n",
       "      <td>-1.553164</td>\n",
       "      <td>-1.431627</td>\n",
       "      <td>1.581675</td>\n",
       "      <td>-0.563211</td>\n",
       "      <td>1.254472</td>\n",
       "      <td>0.162206</td>\n",
       "      <td>-0.921912</td>\n",
       "      <td>...</td>\n",
       "      <td>-0.298456</td>\n",
       "      <td>-0.071107</td>\n",
       "      <td>-0.149418</td>\n",
       "      <td>0.088318</td>\n",
       "      <td>0.267412</td>\n",
       "      <td>0.196704</td>\n",
       "      <td>0.76</td>\n",
       "      <td>0</td>\n",
       "      <td>1</td>\n",
       "      <td>12.039444</td>\n",
       "    </tr>\n",
       "    <tr>\n",
       "      <th>2</th>\n",
       "      <td>41774.0</td>\n",
       "      <td>0.972660</td>\n",
       "      <td>-0.991283</td>\n",
       "      <td>1.464566</td>\n",
       "      <td>0.679085</td>\n",
       "      <td>-1.765346</td>\n",
       "      <td>0.102129</td>\n",
       "      <td>-1.037138</td>\n",
       "      <td>0.288171</td>\n",
       "      <td>1.922664</td>\n",
       "      <td>...</td>\n",
       "      <td>-0.087137</td>\n",
       "      <td>0.471340</td>\n",
       "      <td>0.145034</td>\n",
       "      <td>1.096222</td>\n",
       "      <td>-0.029863</td>\n",
       "      <td>0.031996</td>\n",
       "      <td>107.18</td>\n",
       "      <td>0</td>\n",
       "      <td>0</td>\n",
       "      <td>11.603889</td>\n",
       "    </tr>\n",
       "    <tr>\n",
       "      <th>3</th>\n",
       "      <td>41435.0</td>\n",
       "      <td>-0.812499</td>\n",
       "      <td>1.065071</td>\n",
       "      <td>1.364722</td>\n",
       "      <td>-0.318808</td>\n",
       "      <td>0.510890</td>\n",
       "      <td>-0.164293</td>\n",
       "      <td>0.896121</td>\n",
       "      <td>-1.281639</td>\n",
       "      <td>-0.350974</td>\n",
       "      <td>...</td>\n",
       "      <td>-0.113654</td>\n",
       "      <td>0.238047</td>\n",
       "      <td>-0.126026</td>\n",
       "      <td>0.343813</td>\n",
       "      <td>-0.693967</td>\n",
       "      <td>-0.399945</td>\n",
       "      <td>9.99</td>\n",
       "      <td>0</td>\n",
       "      <td>0</td>\n",
       "      <td>11.509722</td>\n",
       "    </tr>\n",
       "    <tr>\n",
       "      <th>4</th>\n",
       "      <td>160140.0</td>\n",
       "      <td>-0.925823</td>\n",
       "      <td>1.589975</td>\n",
       "      <td>-0.824941</td>\n",
       "      <td>-0.945991</td>\n",
       "      <td>0.488496</td>\n",
       "      <td>-0.627737</td>\n",
       "      <td>0.636337</td>\n",
       "      <td>0.294529</td>\n",
       "      <td>0.379376</td>\n",
       "      <td>...</td>\n",
       "      <td>0.024628</td>\n",
       "      <td>-1.012710</td>\n",
       "      <td>-0.158683</td>\n",
       "      <td>0.217609</td>\n",
       "      <td>0.437324</td>\n",
       "      <td>0.219270</td>\n",
       "      <td>8.94</td>\n",
       "      <td>0</td>\n",
       "      <td>1</td>\n",
       "      <td>20.483333</td>\n",
       "    </tr>\n",
       "  </tbody>\n",
       "</table>\n",
       "<p>5 rows × 33 columns</p>\n",
       "</div>"
      ],
      "text/plain": [
       "       Time        V1        V2        V3        V4        V5        V6  \\\n",
       "0  132806.0 -0.598987  0.425233  0.170619 -2.483010  1.049204 -1.182570   \n",
       "1  129742.0 -0.312785  1.370619 -1.553164 -1.431627  1.581675 -0.563211   \n",
       "2   41774.0  0.972660 -0.991283  1.464566  0.679085 -1.765346  0.102129   \n",
       "3   41435.0 -0.812499  1.065071  1.364722 -0.318808  0.510890 -0.164293   \n",
       "4  160140.0 -0.925823  1.589975 -0.824941 -0.945991  0.488496 -0.627737   \n",
       "\n",
       "         V7        V8        V9  ...       V23       V24       V25       V26  \\\n",
       "0  1.239035 -0.356663 -2.000009  ... -0.633251  0.721123  1.330019  0.093007   \n",
       "1  1.254472  0.162206 -0.921912  ... -0.298456 -0.071107 -0.149418  0.088318   \n",
       "2 -1.037138  0.288171  1.922664  ... -0.087137  0.471340  0.145034  1.096222   \n",
       "3  0.896121 -1.281639 -0.350974  ... -0.113654  0.238047 -0.126026  0.343813   \n",
       "4  0.636337  0.294529  0.379376  ...  0.024628 -1.012710 -0.158683  0.217609   \n",
       "\n",
       "        V27       V28  Amount  Class  weekday       hour  \n",
       "0 -0.081568  0.021623   15.00      0        1  12.890556  \n",
       "1  0.267412  0.196704    0.76      0        1  12.039444  \n",
       "2 -0.029863  0.031996  107.18      0        0  11.603889  \n",
       "3 -0.693967 -0.399945    9.99      0        0  11.509722  \n",
       "4  0.437324  0.219270    8.94      0        1  20.483333  \n",
       "\n",
       "[5 rows x 33 columns]"
      ]
     },
     "execution_count": 14,
     "metadata": {},
     "output_type": "execute_result"
    }
   ],
   "source": [
    "from sklearn.utils import shuffle\n",
    "trans = shuffle(trans)\n",
    "trans.reset_index(drop=True, inplace=True)\n",
    "trans[:5]"
   ]
  },
  {
   "cell_type": "code",
   "execution_count": 15,
   "metadata": {},
   "outputs": [
    {
     "data": {
      "text/html": [
       "<div>\n",
       "<style scoped>\n",
       "    .dataframe tbody tr th:only-of-type {\n",
       "        vertical-align: middle;\n",
       "    }\n",
       "\n",
       "    .dataframe tbody tr th {\n",
       "        vertical-align: top;\n",
       "    }\n",
       "\n",
       "    .dataframe thead th {\n",
       "        text-align: right;\n",
       "    }\n",
       "</style>\n",
       "<table border=\"1\" class=\"dataframe\">\n",
       "  <thead>\n",
       "    <tr style=\"text-align: right;\">\n",
       "      <th></th>\n",
       "      <th>V1</th>\n",
       "      <th>V2</th>\n",
       "      <th>V3</th>\n",
       "      <th>V4</th>\n",
       "      <th>V5</th>\n",
       "      <th>V6</th>\n",
       "      <th>V7</th>\n",
       "      <th>V8</th>\n",
       "      <th>V9</th>\n",
       "      <th>V10</th>\n",
       "      <th>...</th>\n",
       "      <th>V21</th>\n",
       "      <th>V22</th>\n",
       "      <th>V23</th>\n",
       "      <th>V24</th>\n",
       "      <th>V25</th>\n",
       "      <th>V26</th>\n",
       "      <th>V27</th>\n",
       "      <th>V28</th>\n",
       "      <th>Amount</th>\n",
       "      <th>hour</th>\n",
       "    </tr>\n",
       "  </thead>\n",
       "  <tbody>\n",
       "    <tr>\n",
       "      <th>0</th>\n",
       "      <td>-0.598987</td>\n",
       "      <td>0.425233</td>\n",
       "      <td>0.170619</td>\n",
       "      <td>-2.483010</td>\n",
       "      <td>1.049204</td>\n",
       "      <td>-1.182570</td>\n",
       "      <td>1.239035</td>\n",
       "      <td>-0.356663</td>\n",
       "      <td>-2.000009</td>\n",
       "      <td>-0.234805</td>\n",
       "      <td>...</td>\n",
       "      <td>0.349605</td>\n",
       "      <td>0.767497</td>\n",
       "      <td>-0.633251</td>\n",
       "      <td>0.721123</td>\n",
       "      <td>1.330019</td>\n",
       "      <td>0.093007</td>\n",
       "      <td>-0.081568</td>\n",
       "      <td>0.021623</td>\n",
       "      <td>15.00</td>\n",
       "      <td>12.890556</td>\n",
       "    </tr>\n",
       "    <tr>\n",
       "      <th>1</th>\n",
       "      <td>-0.312785</td>\n",
       "      <td>1.370619</td>\n",
       "      <td>-1.553164</td>\n",
       "      <td>-1.431627</td>\n",
       "      <td>1.581675</td>\n",
       "      <td>-0.563211</td>\n",
       "      <td>1.254472</td>\n",
       "      <td>0.162206</td>\n",
       "      <td>-0.921912</td>\n",
       "      <td>-0.561846</td>\n",
       "      <td>...</td>\n",
       "      <td>0.284662</td>\n",
       "      <td>0.886963</td>\n",
       "      <td>-0.298456</td>\n",
       "      <td>-0.071107</td>\n",
       "      <td>-0.149418</td>\n",
       "      <td>0.088318</td>\n",
       "      <td>0.267412</td>\n",
       "      <td>0.196704</td>\n",
       "      <td>0.76</td>\n",
       "      <td>12.039444</td>\n",
       "    </tr>\n",
       "    <tr>\n",
       "      <th>2</th>\n",
       "      <td>0.972660</td>\n",
       "      <td>-0.991283</td>\n",
       "      <td>1.464566</td>\n",
       "      <td>0.679085</td>\n",
       "      <td>-1.765346</td>\n",
       "      <td>0.102129</td>\n",
       "      <td>-1.037138</td>\n",
       "      <td>0.288171</td>\n",
       "      <td>1.922664</td>\n",
       "      <td>-0.512863</td>\n",
       "      <td>...</td>\n",
       "      <td>-0.058170</td>\n",
       "      <td>-0.039384</td>\n",
       "      <td>-0.087137</td>\n",
       "      <td>0.471340</td>\n",
       "      <td>0.145034</td>\n",
       "      <td>1.096222</td>\n",
       "      <td>-0.029863</td>\n",
       "      <td>0.031996</td>\n",
       "      <td>107.18</td>\n",
       "      <td>11.603889</td>\n",
       "    </tr>\n",
       "    <tr>\n",
       "      <th>3</th>\n",
       "      <td>-0.812499</td>\n",
       "      <td>1.065071</td>\n",
       "      <td>1.364722</td>\n",
       "      <td>-0.318808</td>\n",
       "      <td>0.510890</td>\n",
       "      <td>-0.164293</td>\n",
       "      <td>0.896121</td>\n",
       "      <td>-1.281639</td>\n",
       "      <td>-0.350974</td>\n",
       "      <td>0.475619</td>\n",
       "      <td>...</td>\n",
       "      <td>0.813369</td>\n",
       "      <td>0.076238</td>\n",
       "      <td>-0.113654</td>\n",
       "      <td>0.238047</td>\n",
       "      <td>-0.126026</td>\n",
       "      <td>0.343813</td>\n",
       "      <td>-0.693967</td>\n",
       "      <td>-0.399945</td>\n",
       "      <td>9.99</td>\n",
       "      <td>11.509722</td>\n",
       "    </tr>\n",
       "    <tr>\n",
       "      <th>4</th>\n",
       "      <td>-0.925823</td>\n",
       "      <td>1.589975</td>\n",
       "      <td>-0.824941</td>\n",
       "      <td>-0.945991</td>\n",
       "      <td>0.488496</td>\n",
       "      <td>-0.627737</td>\n",
       "      <td>0.636337</td>\n",
       "      <td>0.294529</td>\n",
       "      <td>0.379376</td>\n",
       "      <td>0.280012</td>\n",
       "      <td>...</td>\n",
       "      <td>-0.375389</td>\n",
       "      <td>-0.813221</td>\n",
       "      <td>0.024628</td>\n",
       "      <td>-1.012710</td>\n",
       "      <td>-0.158683</td>\n",
       "      <td>0.217609</td>\n",
       "      <td>0.437324</td>\n",
       "      <td>0.219270</td>\n",
       "      <td>8.94</td>\n",
       "      <td>20.483333</td>\n",
       "    </tr>\n",
       "  </tbody>\n",
       "</table>\n",
       "<p>5 rows × 30 columns</p>\n",
       "</div>"
      ],
      "text/plain": [
       "         V1        V2        V3        V4        V5        V6        V7  \\\n",
       "0 -0.598987  0.425233  0.170619 -2.483010  1.049204 -1.182570  1.239035   \n",
       "1 -0.312785  1.370619 -1.553164 -1.431627  1.581675 -0.563211  1.254472   \n",
       "2  0.972660 -0.991283  1.464566  0.679085 -1.765346  0.102129 -1.037138   \n",
       "3 -0.812499  1.065071  1.364722 -0.318808  0.510890 -0.164293  0.896121   \n",
       "4 -0.925823  1.589975 -0.824941 -0.945991  0.488496 -0.627737  0.636337   \n",
       "\n",
       "         V8        V9       V10  ...       V21       V22       V23       V24  \\\n",
       "0 -0.356663 -2.000009 -0.234805  ...  0.349605  0.767497 -0.633251  0.721123   \n",
       "1  0.162206 -0.921912 -0.561846  ...  0.284662  0.886963 -0.298456 -0.071107   \n",
       "2  0.288171  1.922664 -0.512863  ... -0.058170 -0.039384 -0.087137  0.471340   \n",
       "3 -1.281639 -0.350974  0.475619  ...  0.813369  0.076238 -0.113654  0.238047   \n",
       "4  0.294529  0.379376  0.280012  ... -0.375389 -0.813221  0.024628 -1.012710   \n",
       "\n",
       "        V25       V26       V27       V28  Amount       hour  \n",
       "0  1.330019  0.093007 -0.081568  0.021623   15.00  12.890556  \n",
       "1 -0.149418  0.088318  0.267412  0.196704    0.76  12.039444  \n",
       "2  0.145034  1.096222 -0.029863  0.031996  107.18  11.603889  \n",
       "3 -0.126026  0.343813 -0.693967 -0.399945    9.99  11.509722  \n",
       "4 -0.158683  0.217609  0.437324  0.219270    8.94  20.483333  \n",
       "\n",
       "[5 rows x 30 columns]"
      ]
     },
     "execution_count": 15,
     "metadata": {},
     "output_type": "execute_result"
    }
   ],
   "source": [
    "# We now use the relevant features (but no Class!) to feed the autoencoder\n",
    "# (We drop weekday because there are only 2 days on fata in the dataset)\n",
    "AEfeed = trans.drop(['Time','Class','weekday'],axis=1)\n",
    "AEfeed[:5]"
   ]
  },
  {
   "cell_type": "markdown",
   "metadata": {},
   "source": [
    "### Prepare the Data and Build an Autoencoder"
   ]
  },
  {
   "cell_type": "code",
   "execution_count": 16,
   "metadata": {},
   "outputs": [
    {
     "data": {
      "text/plain": [
       "213605"
      ]
     },
     "execution_count": 16,
     "metadata": {},
     "output_type": "execute_result"
    }
   ],
   "source": [
    "f=len(AEfeed)\n",
    "f0 = int(0.75*f)\n",
    "f0"
   ]
  },
  {
   "cell_type": "code",
   "execution_count": 17,
   "metadata": {},
   "outputs": [
    {
     "data": {
      "text/plain": [
       "(284807, 30)"
      ]
     },
     "execution_count": 17,
     "metadata": {},
     "output_type": "execute_result"
    }
   ],
   "source": [
    "AEfeed.shape"
   ]
  },
  {
   "cell_type": "code",
   "execution_count": 18,
   "metadata": {},
   "outputs": [
    {
     "name": "stdout",
     "output_type": "stream",
     "text": [
      "30\n"
     ]
    }
   ],
   "source": [
    "from sklearn.preprocessing import StandardScaler, MinMaxScaler\n",
    "scaler = MinMaxScaler()\n",
    "scaled_seqs = scaler.fit_transform(AEfeed)\n",
    "# Divide in train and test:\n",
    "# Important: we do not use the fake events to train and test!\n",
    "X_train = scaled_seqs[:f0]  \n",
    "X_test = scaled_seqs[f0:]\n",
    "print(X_train.shape[1])"
   ]
  },
  {
   "cell_type": "code",
   "execution_count": 19,
   "metadata": {},
   "outputs": [
    {
     "name": "stderr",
     "output_type": "stream",
     "text": [
      "Using TensorFlow backend.\n",
      "/home/sequi/.local/lib/python3.7/site-packages/tensorflow/python/framework/dtypes.py:516: FutureWarning: Passing (type, 1) or '1type' as a synonym of type is deprecated; in a future version of numpy, it will be understood as (type, (1,)) / '(1,)type'.\n",
      "  _np_qint8 = np.dtype([(\"qint8\", np.int8, 1)])\n",
      "/home/sequi/.local/lib/python3.7/site-packages/tensorflow/python/framework/dtypes.py:517: FutureWarning: Passing (type, 1) or '1type' as a synonym of type is deprecated; in a future version of numpy, it will be understood as (type, (1,)) / '(1,)type'.\n",
      "  _np_quint8 = np.dtype([(\"quint8\", np.uint8, 1)])\n",
      "/home/sequi/.local/lib/python3.7/site-packages/tensorflow/python/framework/dtypes.py:518: FutureWarning: Passing (type, 1) or '1type' as a synonym of type is deprecated; in a future version of numpy, it will be understood as (type, (1,)) / '(1,)type'.\n",
      "  _np_qint16 = np.dtype([(\"qint16\", np.int16, 1)])\n",
      "/home/sequi/.local/lib/python3.7/site-packages/tensorflow/python/framework/dtypes.py:519: FutureWarning: Passing (type, 1) or '1type' as a synonym of type is deprecated; in a future version of numpy, it will be understood as (type, (1,)) / '(1,)type'.\n",
      "  _np_quint16 = np.dtype([(\"quint16\", np.uint16, 1)])\n",
      "/home/sequi/.local/lib/python3.7/site-packages/tensorflow/python/framework/dtypes.py:520: FutureWarning: Passing (type, 1) or '1type' as a synonym of type is deprecated; in a future version of numpy, it will be understood as (type, (1,)) / '(1,)type'.\n",
      "  _np_qint32 = np.dtype([(\"qint32\", np.int32, 1)])\n",
      "/home/sequi/.local/lib/python3.7/site-packages/tensorflow/python/framework/dtypes.py:525: FutureWarning: Passing (type, 1) or '1type' as a synonym of type is deprecated; in a future version of numpy, it will be understood as (type, (1,)) / '(1,)type'.\n",
      "  np_resource = np.dtype([(\"resource\", np.ubyte, 1)])\n",
      "/home/sequi/.local/lib/python3.7/site-packages/tensorboard/compat/tensorflow_stub/dtypes.py:541: FutureWarning: Passing (type, 1) or '1type' as a synonym of type is deprecated; in a future version of numpy, it will be understood as (type, (1,)) / '(1,)type'.\n",
      "  _np_qint8 = np.dtype([(\"qint8\", np.int8, 1)])\n",
      "/home/sequi/.local/lib/python3.7/site-packages/tensorboard/compat/tensorflow_stub/dtypes.py:542: FutureWarning: Passing (type, 1) or '1type' as a synonym of type is deprecated; in a future version of numpy, it will be understood as (type, (1,)) / '(1,)type'.\n",
      "  _np_quint8 = np.dtype([(\"quint8\", np.uint8, 1)])\n",
      "/home/sequi/.local/lib/python3.7/site-packages/tensorboard/compat/tensorflow_stub/dtypes.py:543: FutureWarning: Passing (type, 1) or '1type' as a synonym of type is deprecated; in a future version of numpy, it will be understood as (type, (1,)) / '(1,)type'.\n",
      "  _np_qint16 = np.dtype([(\"qint16\", np.int16, 1)])\n",
      "/home/sequi/.local/lib/python3.7/site-packages/tensorboard/compat/tensorflow_stub/dtypes.py:544: FutureWarning: Passing (type, 1) or '1type' as a synonym of type is deprecated; in a future version of numpy, it will be understood as (type, (1,)) / '(1,)type'.\n",
      "  _np_quint16 = np.dtype([(\"quint16\", np.uint16, 1)])\n",
      "/home/sequi/.local/lib/python3.7/site-packages/tensorboard/compat/tensorflow_stub/dtypes.py:545: FutureWarning: Passing (type, 1) or '1type' as a synonym of type is deprecated; in a future version of numpy, it will be understood as (type, (1,)) / '(1,)type'.\n",
      "  _np_qint32 = np.dtype([(\"qint32\", np.int32, 1)])\n",
      "/home/sequi/.local/lib/python3.7/site-packages/tensorboard/compat/tensorflow_stub/dtypes.py:550: FutureWarning: Passing (type, 1) or '1type' as a synonym of type is deprecated; in a future version of numpy, it will be understood as (type, (1,)) / '(1,)type'.\n",
      "  np_resource = np.dtype([(\"resource\", np.ubyte, 1)])\n",
      "WARNING: Logging before flag parsing goes to stderr.\n",
      "W1109 16:36:30.165547 140381452740096 deprecation_wrapper.py:119] From /home/sequi/.local/lib/python3.7/site-packages/keras/backend/tensorflow_backend.py:74: The name tf.get_default_graph is deprecated. Please use tf.compat.v1.get_default_graph instead.\n",
      "\n",
      "W1109 16:36:30.185367 140381452740096 deprecation_wrapper.py:119] From /home/sequi/.local/lib/python3.7/site-packages/keras/backend/tensorflow_backend.py:517: The name tf.placeholder is deprecated. Please use tf.compat.v1.placeholder instead.\n",
      "\n",
      "W1109 16:36:30.191402 140381452740096 deprecation_wrapper.py:119] From /home/sequi/.local/lib/python3.7/site-packages/keras/backend/tensorflow_backend.py:4138: The name tf.random_uniform is deprecated. Please use tf.random.uniform instead.\n",
      "\n"
     ]
    }
   ],
   "source": [
    "from keras.models import Model, load_model\n",
    "from keras.layers import Input, Dense, Dropout, LSTM\n",
    "from keras.callbacks import ModelCheckpoint, TensorBoard\n",
    "from keras import regularizers\n",
    "\n",
    "# Parameters for the auto-encoder\n",
    "input_dim = X_train.shape[1] # number of features (8 in this case)\n",
    "\n",
    "# Typical training features\n",
    "nb_epoch = 30\n",
    "batch_size = 128\n",
    "learning_rate = 0.1\n",
    "\n",
    "# We create the auto-encoder layer by layer:\n",
    "\n",
    "# Create first layer that receives each scaled_seq\n",
    "input_layer = Input(shape=(input_dim, ))\n",
    "\n",
    "# Pass it to a first layer and encode\n",
    "encoder = Dense(24, activation=\"tanh\", activity_regularizer=regularizers.l1(10e-5))(input_layer)\n",
    "encoder = Dense(22, activation=\"relu\")(encoder)\n",
    "encoder = Dense(18, activation=\"relu\")(encoder)\n",
    "encoder = Dense(14, activation='relu')(encoder)\n",
    "# start decoder\n",
    "decoder = Dense(18, activation='relu')(encoder)\n",
    "decoder = Dense(22, activation='relu')(decoder)\n",
    "decoder = Dense(24, activation='relu')(decoder)\n",
    "decoder = Dense(input_dim, activation='tanh')(decoder)\n",
    "\n",
    "# Physically create the auto-encoder model\n",
    "autoencoder = Model(inputs=input_layer, outputs=decoder)\n",
    "\n"
   ]
  },
  {
   "cell_type": "code",
   "execution_count": 20,
   "metadata": {},
   "outputs": [
    {
     "name": "stdout",
     "output_type": "stream",
     "text": [
      "_________________________________________________________________\n",
      "Layer (type)                 Output Shape              Param #   \n",
      "=================================================================\n",
      "input_1 (InputLayer)         (None, 30)                0         \n",
      "_________________________________________________________________\n",
      "dense_1 (Dense)              (None, 24)                744       \n",
      "_________________________________________________________________\n",
      "dense_2 (Dense)              (None, 22)                550       \n",
      "_________________________________________________________________\n",
      "dense_3 (Dense)              (None, 18)                414       \n",
      "_________________________________________________________________\n",
      "dense_4 (Dense)              (None, 14)                266       \n",
      "_________________________________________________________________\n",
      "dense_5 (Dense)              (None, 18)                270       \n",
      "_________________________________________________________________\n",
      "dense_6 (Dense)              (None, 22)                418       \n",
      "_________________________________________________________________\n",
      "dense_7 (Dense)              (None, 24)                552       \n",
      "_________________________________________________________________\n",
      "dense_8 (Dense)              (None, 30)                750       \n",
      "=================================================================\n",
      "Total params: 3,964\n",
      "Trainable params: 3,964\n",
      "Non-trainable params: 0\n",
      "_________________________________________________________________\n"
     ]
    }
   ],
   "source": [
    "autoencoder.summary()"
   ]
  },
  {
   "cell_type": "markdown",
   "metadata": {},
   "source": [
    "### Fit the Model"
   ]
  },
  {
   "cell_type": "code",
   "execution_count": 21,
   "metadata": {},
   "outputs": [
    {
     "name": "stderr",
     "output_type": "stream",
     "text": [
      "W1109 16:36:37.751068 140381452740096 deprecation_wrapper.py:119] From /home/sequi/.local/lib/python3.7/site-packages/keras/optimizers.py:790: The name tf.train.Optimizer is deprecated. Please use tf.compat.v1.train.Optimizer instead.\n",
      "\n",
      "W1109 16:36:38.736935 140381452740096 deprecation_wrapper.py:119] From /home/sequi/.local/lib/python3.7/site-packages/keras/backend/tensorflow_backend.py:986: The name tf.assign_add is deprecated. Please use tf.compat.v1.assign_add instead.\n",
      "\n",
      "W1109 16:36:38.982626 140381452740096 deprecation_wrapper.py:119] From /home/sequi/.local/lib/python3.7/site-packages/keras/backend/tensorflow_backend.py:973: The name tf.assign is deprecated. Please use tf.compat.v1.assign instead.\n",
      "\n"
     ]
    },
    {
     "name": "stdout",
     "output_type": "stream",
     "text": [
      "Train on 213605 samples, validate on 71202 samples\n"
     ]
    },
    {
     "name": "stderr",
     "output_type": "stream",
     "text": [
      "W1109 16:36:39.508476 140381452740096 deprecation_wrapper.py:119] From /home/sequi/.local/lib/python3.7/site-packages/keras/callbacks.py:850: The name tf.summary.merge_all is deprecated. Please use tf.compat.v1.summary.merge_all instead.\n",
      "\n",
      "W1109 16:36:39.509349 140381452740096 deprecation_wrapper.py:119] From /home/sequi/.local/lib/python3.7/site-packages/keras/callbacks.py:853: The name tf.summary.FileWriter is deprecated. Please use tf.compat.v1.summary.FileWriter instead.\n",
      "\n"
     ]
    },
    {
     "name": "stdout",
     "output_type": "stream",
     "text": [
      "Epoch 1/30\n",
      "213605/213605 [==============================] - 6s 27us/step - loss: 0.0200 - acc: 0.8585 - val_loss: 0.0053 - val_acc: 0.9512\n",
      "Epoch 2/30\n",
      "213605/213605 [==============================] - 5s 25us/step - loss: 0.0045 - acc: 0.9508 - val_loss: 0.0039 - val_acc: 0.9512\n",
      "Epoch 3/30\n",
      "213605/213605 [==============================] - 5s 22us/step - loss: 0.0035 - acc: 0.9508 - val_loss: 0.0031 - val_acc: 0.9512\n",
      "Epoch 4/30\n",
      "213605/213605 [==============================] - 4s 20us/step - loss: 0.0029 - acc: 0.9508 - val_loss: 0.0027 - val_acc: 0.9512\n",
      "Epoch 5/30\n",
      "213605/213605 [==============================] - 4s 19us/step - loss: 0.0026 - acc: 0.9509 - val_loss: 0.0024 - val_acc: 0.9511\n",
      "Epoch 6/30\n",
      "213605/213605 [==============================] - 3s 16us/step - loss: 0.0024 - acc: 0.9505 - val_loss: 0.0023 - val_acc: 0.9511\n",
      "Epoch 7/30\n",
      "213605/213605 [==============================] - 5s 21us/step - loss: 0.0022 - acc: 0.9509 - val_loss: 0.0021 - val_acc: 0.9512\n",
      "Epoch 8/30\n",
      "213605/213605 [==============================] - 4s 17us/step - loss: 0.0021 - acc: 0.9511 - val_loss: 0.0021 - val_acc: 0.9512\n",
      "Epoch 9/30\n",
      "213605/213605 [==============================] - 4s 17us/step - loss: 0.0020 - acc: 0.9505 - val_loss: 0.0022 - val_acc: 0.9511\n",
      "Epoch 10/30\n",
      "213605/213605 [==============================] - 7s 31us/step - loss: 0.0019 - acc: 0.9509 - val_loss: 0.0018 - val_acc: 0.9512\n",
      "Epoch 11/30\n",
      "213605/213605 [==============================] - 4s 20us/step - loss: 0.0018 - acc: 0.9510 - val_loss: 0.0019 - val_acc: 0.9563\n",
      "Epoch 12/30\n",
      "213605/213605 [==============================] - 5s 26us/step - loss: 0.0018 - acc: 0.9513 - val_loss: 0.0017 - val_acc: 0.9511\n",
      "Epoch 13/30\n",
      "213605/213605 [==============================] - 4s 18us/step - loss: 0.0017 - acc: 0.9514 - val_loss: 0.0016 - val_acc: 0.9511\n",
      "Epoch 14/30\n",
      "213605/213605 [==============================] - 5s 25us/step - loss: 0.0017 - acc: 0.9517 - val_loss: 0.0017 - val_acc: 0.9557\n",
      "Epoch 15/30\n",
      "213605/213605 [==============================] - 4s 20us/step - loss: 0.0017 - acc: 0.9515 - val_loss: 0.0018 - val_acc: 0.9517\n",
      "Epoch 16/30\n",
      "213605/213605 [==============================] - 3s 14us/step - loss: 0.0016 - acc: 0.9516 - val_loss: 0.0015 - val_acc: 0.9525\n",
      "Epoch 17/30\n",
      "213605/213605 [==============================] - 4s 18us/step - loss: 0.0015 - acc: 0.9514 - val_loss: 0.0014 - val_acc: 0.9511\n",
      "Epoch 18/30\n",
      "213605/213605 [==============================] - 3s 16us/step - loss: 0.0015 - acc: 0.9521 - val_loss: 0.0014 - val_acc: 0.9514\n",
      "Epoch 19/30\n",
      "213605/213605 [==============================] - 5s 25us/step - loss: 0.0015 - acc: 0.9519 - val_loss: 0.0016 - val_acc: 0.9551\n",
      "Epoch 20/30\n",
      "213605/213605 [==============================] - 4s 17us/step - loss: 0.0015 - acc: 0.9522 - val_loss: 0.0014 - val_acc: 0.9514\n",
      "Epoch 21/30\n",
      "213605/213605 [==============================] - 5s 23us/step - loss: 0.0014 - acc: 0.9516 - val_loss: 0.0012 - val_acc: 0.9513\n",
      "Epoch 22/30\n",
      "213605/213605 [==============================] - 5s 23us/step - loss: 0.0013 - acc: 0.9514 - val_loss: 0.0014 - val_acc: 0.9633\n",
      "Epoch 23/30\n",
      "213605/213605 [==============================] - 4s 18us/step - loss: 0.0016 - acc: 0.9508 - val_loss: 0.0013 - val_acc: 0.9517\n",
      "Epoch 24/30\n",
      "213605/213605 [==============================] - 4s 21us/step - loss: 0.0013 - acc: 0.9514 - val_loss: 0.0014 - val_acc: 0.9512\n",
      "Epoch 25/30\n",
      "213605/213605 [==============================] - 5s 24us/step - loss: 0.0013 - acc: 0.9517 - val_loss: 0.0015 - val_acc: 0.9662\n",
      "Epoch 26/30\n",
      "213605/213605 [==============================] - 5s 22us/step - loss: 0.0012 - acc: 0.9517 - val_loss: 0.0013 - val_acc: 0.9512\n",
      "Epoch 27/30\n",
      "213605/213605 [==============================] - 4s 19us/step - loss: 0.0012 - acc: 0.9513 - val_loss: 0.0015 - val_acc: 0.9512\n",
      "Epoch 28/30\n",
      "213605/213605 [==============================] - 4s 19us/step - loss: 0.0013 - acc: 0.9516 - val_loss: 0.0016 - val_acc: 0.9512\n",
      "Epoch 29/30\n",
      "213605/213605 [==============================] - 3s 13us/step - loss: 0.0012 - acc: 0.9520 - val_loss: 0.0011 - val_acc: 0.9512\n",
      "Epoch 30/30\n",
      "213605/213605 [==============================] - 3s 13us/step - loss: 0.0012 - acc: 0.9526 - val_loss: 0.0011 - val_acc: 0.9512\n"
     ]
    }
   ],
   "source": [
    "autoencoder.compile(optimizer='adam', \n",
    "                    loss='mean_squared_error', \n",
    "                    metrics=['accuracy'])\n",
    "\n",
    "checkpointer = ModelCheckpoint(filepath=\"model_seqs2.h5\",\n",
    "                               verbose=0,\n",
    "                               save_best_only=True)\n",
    "\n",
    "tensorboard = TensorBoard(log_dir='./logs',\n",
    "                          histogram_freq=0,\n",
    "                          write_graph=True,\n",
    "                          write_images=True)\n",
    "\n",
    "history = autoencoder.fit(X_train, X_train,   # <---- THIS IS THE *KEY* LINE THAT DEFINES THAT IS AN AUTOENCODER!\n",
    "                    epochs=nb_epoch,\n",
    "                    batch_size=batch_size,\n",
    "                    shuffle=True,\n",
    "                    validation_data=(X_test, X_test),\n",
    "                    verbose=1,\n",
    "                    callbacks=[checkpointer, tensorboard]).history"
   ]
  },
  {
   "cell_type": "code",
   "execution_count": 182,
   "metadata": {},
   "outputs": [
    {
     "data": {
      "image/png": "[encoded data removed]",
      "text/plain": [
       "<Figure size 432x288 with 1 Axes>"
      ]
     },
     "metadata": {
      "needs_background": "light"
     },
     "output_type": "display_data"
    }
   ],
   "source": [
    "plt.plot(history['loss'])\n",
    "plt.plot(history['val_loss'])\n",
    "plt.title('model loss')\n",
    "plt.ylabel('loss')\n",
    "plt.xlabel('epoch')\n",
    "plt.legend(['train', 'test'], loc='upper right');"
   ]
  },
  {
   "cell_type": "code",
   "execution_count": 183,
   "metadata": {},
   "outputs": [
    {
     "name": "stdout",
     "output_type": "stream",
     "text": [
      "Min Loss:0.0014271373559816365\n"
     ]
    }
   ],
   "source": [
    "#autoencoder = load_model('model_seqs2.h5')\n",
    "print(f'Min Loss:{np.min(history[\"loss\"])}')"
   ]
  },
  {
   "cell_type": "markdown",
   "metadata": {},
   "source": [
    "### Calculate the Error Term"
   ]
  },
  {
   "cell_type": "code",
   "execution_count": 184,
   "metadata": {},
   "outputs": [],
   "source": [
    "#get the MSE error term\n",
    "predictions = autoencoder.predict(scaled_seqs)\n",
    "mse = np.mean(np.power(scaled_seqs - predictions, 2), axis=1)"
   ]
  },
  {
   "cell_type": "code",
   "execution_count": 185,
   "metadata": {},
   "outputs": [
    {
     "name": "stdout",
     "output_type": "stream",
     "text": [
      "MSE threshold = 0.008102340662057114\n"
     ]
    }
   ],
   "source": [
    "mse_threshold = np.quantile(mse, 0.998)\n",
    "print('MSE threshold =', mse_threshold) # => the 9999% quatile - only 0.0001% have error score higher than that"
   ]
  },
  {
   "cell_type": "code",
   "execution_count": 186,
   "metadata": {},
   "outputs": [],
   "source": [
    "scaled_seqs_scored = pd.DataFrame(scaled_seqs)"
   ]
  },
  {
   "cell_type": "code",
   "execution_count": 187,
   "metadata": {},
   "outputs": [],
   "source": [
    "scaled_seqs_scored['MSE'] = mse"
   ]
  },
  {
   "cell_type": "code",
   "execution_count": 188,
   "metadata": {},
   "outputs": [],
   "source": [
    "scaled_seqs_scored['MSE_Outlier'] = 0\n",
    "scaled_seqs_scored.loc[scaled_seqs_scored['MSE'] > mse_threshold, 'MSE_Outlier'] = 1"
   ]
  },
  {
   "cell_type": "code",
   "execution_count": 189,
   "metadata": {},
   "outputs": [
    {
     "data": {
      "text/html": [
       "<div>\n",
       "<style scoped>\n",
       "    .dataframe tbody tr th:only-of-type {\n",
       "        vertical-align: middle;\n",
       "    }\n",
       "\n",
       "    .dataframe tbody tr th {\n",
       "        vertical-align: top;\n",
       "    }\n",
       "\n",
       "    .dataframe thead th {\n",
       "        text-align: right;\n",
       "    }\n",
       "</style>\n",
       "<table border=\"1\" class=\"dataframe\">\n",
       "  <thead>\n",
       "    <tr style=\"text-align: right;\">\n",
       "      <th></th>\n",
       "      <th>0</th>\n",
       "      <th>1</th>\n",
       "      <th>2</th>\n",
       "      <th>3</th>\n",
       "      <th>4</th>\n",
       "      <th>5</th>\n",
       "      <th>6</th>\n",
       "      <th>7</th>\n",
       "      <th>8</th>\n",
       "      <th>9</th>\n",
       "      <th>...</th>\n",
       "      <th>22</th>\n",
       "      <th>23</th>\n",
       "      <th>24</th>\n",
       "      <th>25</th>\n",
       "      <th>26</th>\n",
       "      <th>27</th>\n",
       "      <th>28</th>\n",
       "      <th>29</th>\n",
       "      <th>MSE</th>\n",
       "      <th>MSE_Outlier</th>\n",
       "    </tr>\n",
       "  </thead>\n",
       "  <tbody>\n",
       "    <tr>\n",
       "      <th>0</th>\n",
       "      <td>0.976359</td>\n",
       "      <td>0.766962</td>\n",
       "      <td>0.849162</td>\n",
       "      <td>0.304109</td>\n",
       "      <td>0.763272</td>\n",
       "      <td>0.265432</td>\n",
       "      <td>0.263924</td>\n",
       "      <td>0.787860</td>\n",
       "      <td>0.473391</td>\n",
       "      <td>0.507882</td>\n",
       "      <td>...</td>\n",
       "      <td>0.666088</td>\n",
       "      <td>0.379914</td>\n",
       "      <td>0.598557</td>\n",
       "      <td>0.338392</td>\n",
       "      <td>0.417344</td>\n",
       "      <td>0.313475</td>\n",
       "      <td>0.001167</td>\n",
       "      <td>0.744520</td>\n",
       "      <td>0.000633</td>\n",
       "      <td>0</td>\n",
       "    </tr>\n",
       "    <tr>\n",
       "      <th>1</th>\n",
       "      <td>0.993098</td>\n",
       "      <td>0.774468</td>\n",
       "      <td>0.796885</td>\n",
       "      <td>0.285981</td>\n",
       "      <td>0.770016</td>\n",
       "      <td>0.245051</td>\n",
       "      <td>0.268183</td>\n",
       "      <td>0.780177</td>\n",
       "      <td>0.473534</td>\n",
       "      <td>0.483127</td>\n",
       "      <td>...</td>\n",
       "      <td>0.664514</td>\n",
       "      <td>0.364338</td>\n",
       "      <td>0.594772</td>\n",
       "      <td>0.407887</td>\n",
       "      <td>0.417038</td>\n",
       "      <td>0.313341</td>\n",
       "      <td>0.000039</td>\n",
       "      <td>0.541853</td>\n",
       "      <td>0.001025</td>\n",
       "      <td>0</td>\n",
       "    </tr>\n",
       "    <tr>\n",
       "      <th>2</th>\n",
       "      <td>0.979379</td>\n",
       "      <td>0.775675</td>\n",
       "      <td>0.833951</td>\n",
       "      <td>0.309327</td>\n",
       "      <td>0.766970</td>\n",
       "      <td>0.251399</td>\n",
       "      <td>0.267901</td>\n",
       "      <td>0.781679</td>\n",
       "      <td>0.450689</td>\n",
       "      <td>0.495935</td>\n",
       "      <td>...</td>\n",
       "      <td>0.663347</td>\n",
       "      <td>0.426118</td>\n",
       "      <td>0.620094</td>\n",
       "      <td>0.370964</td>\n",
       "      <td>0.417314</td>\n",
       "      <td>0.314242</td>\n",
       "      <td>0.000039</td>\n",
       "      <td>0.718998</td>\n",
       "      <td>0.000639</td>\n",
       "      <td>0</td>\n",
       "    </tr>\n",
       "    <tr>\n",
       "      <th>3</th>\n",
       "      <td>0.977983</td>\n",
       "      <td>0.764828</td>\n",
       "      <td>0.838996</td>\n",
       "      <td>0.283435</td>\n",
       "      <td>0.763660</td>\n",
       "      <td>0.260620</td>\n",
       "      <td>0.265260</td>\n",
       "      <td>0.784901</td>\n",
       "      <td>0.485663</td>\n",
       "      <td>0.504695</td>\n",
       "      <td>...</td>\n",
       "      <td>0.663370</td>\n",
       "      <td>0.322009</td>\n",
       "      <td>0.606368</td>\n",
       "      <td>0.477303</td>\n",
       "      <td>0.415723</td>\n",
       "      <td>0.313409</td>\n",
       "      <td>0.002909</td>\n",
       "      <td>0.871826</td>\n",
       "      <td>0.000590</td>\n",
       "      <td>0</td>\n",
       "    </tr>\n",
       "    <tr>\n",
       "      <th>4</th>\n",
       "      <td>0.994290</td>\n",
       "      <td>0.758097</td>\n",
       "      <td>0.817241</td>\n",
       "      <td>0.210872</td>\n",
       "      <td>0.761780</td>\n",
       "      <td>0.261909</td>\n",
       "      <td>0.258544</td>\n",
       "      <td>0.787458</td>\n",
       "      <td>0.462478</td>\n",
       "      <td>0.517100</td>\n",
       "      <td>...</td>\n",
       "      <td>0.670469</td>\n",
       "      <td>0.397160</td>\n",
       "      <td>0.549890</td>\n",
       "      <td>0.342551</td>\n",
       "      <td>0.416639</td>\n",
       "      <td>0.312699</td>\n",
       "      <td>0.000973</td>\n",
       "      <td>0.657932</td>\n",
       "      <td>0.000609</td>\n",
       "      <td>0</td>\n",
       "    </tr>\n",
       "  </tbody>\n",
       "</table>\n",
       "<p>5 rows × 32 columns</p>\n",
       "</div>"
      ],
      "text/plain": [
       "          0         1         2         3         4         5         6  \\\n",
       "0  0.976359  0.766962  0.849162  0.304109  0.763272  0.265432  0.263924   \n",
       "1  0.993098  0.774468  0.796885  0.285981  0.770016  0.245051  0.268183   \n",
       "2  0.979379  0.775675  0.833951  0.309327  0.766970  0.251399  0.267901   \n",
       "3  0.977983  0.764828  0.838996  0.283435  0.763660  0.260620  0.265260   \n",
       "4  0.994290  0.758097  0.817241  0.210872  0.761780  0.261909  0.258544   \n",
       "\n",
       "          7         8         9  ...        22        23        24        25  \\\n",
       "0  0.787860  0.473391  0.507882  ...  0.666088  0.379914  0.598557  0.338392   \n",
       "1  0.780177  0.473534  0.483127  ...  0.664514  0.364338  0.594772  0.407887   \n",
       "2  0.781679  0.450689  0.495935  ...  0.663347  0.426118  0.620094  0.370964   \n",
       "3  0.784901  0.485663  0.504695  ...  0.663370  0.322009  0.606368  0.477303   \n",
       "4  0.787458  0.462478  0.517100  ...  0.670469  0.397160  0.549890  0.342551   \n",
       "\n",
       "         26        27        28        29       MSE  MSE_Outlier  \n",
       "0  0.417344  0.313475  0.001167  0.744520  0.000633            0  \n",
       "1  0.417038  0.313341  0.000039  0.541853  0.001025            0  \n",
       "2  0.417314  0.314242  0.000039  0.718998  0.000639            0  \n",
       "3  0.415723  0.313409  0.002909  0.871826  0.000590            0  \n",
       "4  0.416639  0.312699  0.000973  0.657932  0.000609            0  \n",
       "\n",
       "[5 rows x 32 columns]"
      ]
     },
     "execution_count": 189,
     "metadata": {},
     "output_type": "execute_result"
    }
   ],
   "source": [
    "scaled_seqs_scored[:5]"
   ]
  },
  {
   "cell_type": "code",
   "execution_count": 190,
   "metadata": {},
   "outputs": [],
   "source": [
    "trans['MSE'] = mse"
   ]
  },
  {
   "cell_type": "code",
   "execution_count": 191,
   "metadata": {},
   "outputs": [],
   "source": [
    "import math\n",
    "fraud = list(map(math.log10,trans.loc[trans['Class'] == 1]['MSE'].to_list()))\n",
    "legal = list(map(math.log10,trans.loc[trans['Class'] == 0]['MSE'].to_list()))"
   ]
  },
  {
   "cell_type": "code",
   "execution_count": 192,
   "metadata": {},
   "outputs": [
    {
     "name": "stdout",
     "output_type": "stream",
     "text": [
      "-3.54489497188333 -1.3647529534772738 -4.189668420757953 -0.6786303718792601\n"
     ]
    }
   ],
   "source": [
    "print(min(fraud),max(fraud),min(legal),max(legal))"
   ]
  },
  {
   "cell_type": "code",
   "execution_count": 193,
   "metadata": {},
   "outputs": [
    {
     "data": {
      "image/png": "[encoded data removed]",
      "text/plain": [
       "<Figure size 840x560 with 1 Axes>"
      ]
     },
     "metadata": {
      "needs_background": "light"
     },
     "output_type": "display_data"
    }
   ],
   "source": [
    "plt.figure(dpi=140)\n",
    "plt.hist(legal,density=True,bins=15,range=(-4,-1),histtype='step',label='Legal', color='blue')\n",
    "plt.hist(fraud,density=True,bins=15,range=(-4,-1),histtype='step',label='Fraud', color='red')\n",
    "plt.xlabel('Log10(Mean Squared Error)')\n",
    "plt.ylabel('Distribution')\n",
    "plt.arrow(-3,1.75,1.5,0,head_width=0.08, head_length=0.08, color='red')\n",
    "plt.arrow(-3,1.85,-1,0,head_width=0.08, head_length=0.08, color='blue')\n",
    "plt.text(.5,.82,'Worst Auto-Encoder reproduction\\n(More anomalous events)',ha='left',va='top', fontsize=9, color='red',transform = plt.gca().transAxes)\n",
    "plt.text(.01,.84,'Better Auto-Encoder reproduction\\n(More normal events)',ha='left',va='top', fontsize=9, color='blue',transform = plt.gca().transAxes)\n",
    "plt.ylim(0,2)\n",
    "plt.legend(loc=5)\n",
    "plt.show()"
   ]
  },
  {
   "cell_type": "markdown",
   "metadata": {},
   "source": [
    "## We can explore how good we can isolate fraud cases "
   ]
  },
  {
   "cell_type": "code",
   "execution_count": 197,
   "metadata": {},
   "outputs": [
    {
     "name": "stdout",
     "output_type": "stream",
     "text": [
      "With threshold = -2.5\n",
      "We pass from 1 fraud every  577.9  transaction to one fraud every  15.0  transactions\n"
     ]
    }
   ],
   "source": [
    "# Original fraud rate inverse\n",
    "original = len(legal)/len(fraud)\n",
    "threshold = -2.5\n",
    "new = len(list(filter(lambda t: t>threshold, legal))) / len(list(filter(lambda t: t>threshold, fraud))) \n",
    "print('With threshold = '+str(threshold)+'\\nWe pass from 1 fraud every ',round(original,1),' transaction to one fraud every ',round(new,1),' transactions')"
   ]
  },
  {
   "cell_type": "code",
   "execution_count": null,
   "metadata": {},
   "outputs": [],
   "source": []
  }
 ],
 "metadata": {
  "kernelspec": {
   "display_name": "Python 3",
   "language": "python",
   "name": "python3"
  },
  "language_info": {
   "codemirror_mode": {
    "name": "ipython",
    "version": 3
   },
   "file_extension": ".py",
   "mimetype": "text/x-python",
   "name": "python",
   "nbconvert_exporter": "python",
   "pygments_lexer": "ipython3",
   "version": "3.8.5"
  }
 },
 "nbformat": 4,
 "nbformat_minor": 2
}
