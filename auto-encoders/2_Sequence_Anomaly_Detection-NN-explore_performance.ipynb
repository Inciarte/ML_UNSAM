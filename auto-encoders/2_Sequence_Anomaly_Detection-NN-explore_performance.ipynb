{
 "cells": [
  {
   "cell_type": "markdown",
   "metadata": {},
   "source": [
    "# Very basic Auto-Encoder: Let's explore the performance \n",
    "\n",
    "We would like to explore the performance of the auto-encoder to recognize an anomaly. \n",
    "\n",
    "We want to explore how well the auto-encoder recognizes the anomaly, as a function of how we generate the anomalies.  Therefore we proceed as follows: we train an autoencoder with a large sample of 'normal' strings, and then we test how is the AE performance to distinguish something 'not-normal'.  To do this we test how well/bad it reproduces the not-normal strings.  We use as a classifier of normal / anomaly the MSE (mean square error) in the reproduction, and we scan on the MSE to construct a ROC curve, and therefore an Area-Under-Curve result.\n",
    "\n",
    "If the anomaly recognition works good, then the anomalous strings should all be towards a large MSE, and then a good AUC should be achieved.  And the vice-verse.\n",
    "\n",
    "The whole process is subtle, since it is only a research-purpose process.  One would never had this scenario with as many anomalies as normal strings.  In fact, we are also having an algorithm for producing anomalous strings, which is something would never happen in a anomaly detection scenario."
   ]
  },
  {
   "cell_type": "code",
   "execution_count": 1,
   "metadata": {},
   "outputs": [],
   "source": [
    "import random\n",
    "import pandas as pd\n",
    "import numpy as np\n",
    "import matplotlib.pyplot as plt"
   ]
  },
  {
   "cell_type": "markdown",
   "metadata": {},
   "source": [
    "### Generate Sequence Data"
   ]
  },
  {
   "cell_type": "code",
   "execution_count": 2,
   "metadata": {},
   "outputs": [],
   "source": [
    "# Normal data\n",
    "first_letters =  'ABCDEF'\n",
    "second_numbers = '7890'\n",
    "last_letters = 'RSTVWXYZ'\n",
    "\n",
    "# returns a string of the following format: [4 letters A-F][1 digit 0-2][3 letters QWOPZXML]\n",
    "def get_random_string():\n",
    "    str1 = ''.join(random.choice(first_letters) for i in range(4))\n",
    "    str2 = random.choice(second_numbers)\n",
    "    str3 = ''.join(random.choice(last_letters) for i in range(3))\n",
    "    return str1+str2+str3"
   ]
  },
  {
   "cell_type": "code",
   "execution_count": 3,
   "metadata": {},
   "outputs": [],
   "source": [
    "# Fake data\n",
    "first_letters2 =  'ABCDEFGH'\n",
    "second_numbers2 = '567890'\n",
    "last_letters2 = 'RSTUVWXYZ'\n",
    "\n",
    "# returns a string of the following format: [4 letters A-F][1 digit 0-2][3 letters QWOPZXML]\n",
    "def get_fake_string():\n",
    "    str1 = ''.join(random.choice(first_letters2) for i in range(4))\n",
    "    str2 = random.choice(second_numbers2)\n",
    "    str3 = ''.join(random.choice(last_letters2) for i in range(3))\n",
    "    return str1+str2+str3"
   ]
  },
  {
   "cell_type": "code",
   "execution_count": 5,
   "metadata": {},
   "outputs": [],
   "source": [
    "#Build the char index that we will use to encode seqs to numbers\n",
    "char_index = '0abcdefghijklmnopqrstuvwxyz'\n",
    "char_index +='ABCDEFGHIJKLMNOPQRSTUVWXYZ'\n",
    "char_index += '123456789'\n",
    "char_index += '().,-/+=&$?@#!*:;_[]|%⸏{}\\\"\\'' + ' ' +'\\\\'\n",
    "\n",
    "char_to_int = dict((c, i) for i, c in enumerate(char_index))\n",
    "int_to_char = dict((i, c) for i, c in enumerate(char_index))"
   ]
  },
  {
   "cell_type": "code",
   "execution_count": 6,
   "metadata": {},
   "outputs": [
    {
     "name": "stderr",
     "output_type": "stream",
     "text": [
      "Using TensorFlow backend.\n",
      "/home/sequi/.local/lib/python3.7/site-packages/tensorflow/python/framework/dtypes.py:516: FutureWarning: Passing (type, 1) or '1type' as a synonym of type is deprecated; in a future version of numpy, it will be understood as (type, (1,)) / '(1,)type'.\n",
      "  _np_qint8 = np.dtype([(\"qint8\", np.int8, 1)])\n",
      "/home/sequi/.local/lib/python3.7/site-packages/tensorflow/python/framework/dtypes.py:517: FutureWarning: Passing (type, 1) or '1type' as a synonym of type is deprecated; in a future version of numpy, it will be understood as (type, (1,)) / '(1,)type'.\n",
      "  _np_quint8 = np.dtype([(\"quint8\", np.uint8, 1)])\n",
      "/home/sequi/.local/lib/python3.7/site-packages/tensorflow/python/framework/dtypes.py:518: FutureWarning: Passing (type, 1) or '1type' as a synonym of type is deprecated; in a future version of numpy, it will be understood as (type, (1,)) / '(1,)type'.\n",
      "  _np_qint16 = np.dtype([(\"qint16\", np.int16, 1)])\n",
      "/home/sequi/.local/lib/python3.7/site-packages/tensorflow/python/framework/dtypes.py:519: FutureWarning: Passing (type, 1) or '1type' as a synonym of type is deprecated; in a future version of numpy, it will be understood as (type, (1,)) / '(1,)type'.\n",
      "  _np_quint16 = np.dtype([(\"quint16\", np.uint16, 1)])\n",
      "/home/sequi/.local/lib/python3.7/site-packages/tensorflow/python/framework/dtypes.py:520: FutureWarning: Passing (type, 1) or '1type' as a synonym of type is deprecated; in a future version of numpy, it will be understood as (type, (1,)) / '(1,)type'.\n",
      "  _np_qint32 = np.dtype([(\"qint32\", np.int32, 1)])\n",
      "/home/sequi/.local/lib/python3.7/site-packages/tensorflow/python/framework/dtypes.py:525: FutureWarning: Passing (type, 1) or '1type' as a synonym of type is deprecated; in a future version of numpy, it will be understood as (type, (1,)) / '(1,)type'.\n",
      "  np_resource = np.dtype([(\"resource\", np.ubyte, 1)])\n",
      "/home/sequi/.local/lib/python3.7/site-packages/tensorboard/compat/tensorflow_stub/dtypes.py:541: FutureWarning: Passing (type, 1) or '1type' as a synonym of type is deprecated; in a future version of numpy, it will be understood as (type, (1,)) / '(1,)type'.\n",
      "  _np_qint8 = np.dtype([(\"qint8\", np.int8, 1)])\n",
      "/home/sequi/.local/lib/python3.7/site-packages/tensorboard/compat/tensorflow_stub/dtypes.py:542: FutureWarning: Passing (type, 1) or '1type' as a synonym of type is deprecated; in a future version of numpy, it will be understood as (type, (1,)) / '(1,)type'.\n",
      "  _np_quint8 = np.dtype([(\"quint8\", np.uint8, 1)])\n",
      "/home/sequi/.local/lib/python3.7/site-packages/tensorboard/compat/tensorflow_stub/dtypes.py:543: FutureWarning: Passing (type, 1) or '1type' as a synonym of type is deprecated; in a future version of numpy, it will be understood as (type, (1,)) / '(1,)type'.\n",
      "  _np_qint16 = np.dtype([(\"qint16\", np.int16, 1)])\n",
      "/home/sequi/.local/lib/python3.7/site-packages/tensorboard/compat/tensorflow_stub/dtypes.py:544: FutureWarning: Passing (type, 1) or '1type' as a synonym of type is deprecated; in a future version of numpy, it will be understood as (type, (1,)) / '(1,)type'.\n",
      "  _np_quint16 = np.dtype([(\"quint16\", np.uint16, 1)])\n",
      "/home/sequi/.local/lib/python3.7/site-packages/tensorboard/compat/tensorflow_stub/dtypes.py:545: FutureWarning: Passing (type, 1) or '1type' as a synonym of type is deprecated; in a future version of numpy, it will be understood as (type, (1,)) / '(1,)type'.\n",
      "  _np_qint32 = np.dtype([(\"qint32\", np.int32, 1)])\n",
      "/home/sequi/.local/lib/python3.7/site-packages/tensorboard/compat/tensorflow_stub/dtypes.py:550: FutureWarning: Passing (type, 1) or '1type' as a synonym of type is deprecated; in a future version of numpy, it will be understood as (type, (1,)) / '(1,)type'.\n",
      "  np_resource = np.dtype([(\"resource\", np.ubyte, 1)])\n"
     ]
    }
   ],
   "source": [
    "from keras.preprocessing.sequence import pad_sequences\n",
    "#function that convert a char seqs to numbers seqs \n",
    "def encode_sequence_list(seqs):\n",
    "    encoded_seqs = []\n",
    "    for seq in seqs:\n",
    "        encoded_seq = [char_to_int[c] for c in seq]\n",
    "        encoded_seqs.append(encoded_seq)\n",
    "    return pad_sequences(encoded_seqs, padding='post')\n",
    "\n",
    "def decode_sequence_list(seqs):\n",
    "    decoded_seqs = []\n",
    "    for seq in seqs:\n",
    "        decoded_seq = [int_to_char[i] for i in seq]\n",
    "        decoded_seqs.append(decoded_seq)\n",
    "    return decoded_seqs\n"
   ]
  },
  {
   "cell_type": "code",
   "execution_count": 10,
   "metadata": {},
   "outputs": [
    {
     "data": {
      "text/plain": [
       "['BCBF0RSW', 'CBDF0ZWZ', 'DBFA8XSX', 'BECF0TTX', 'FCCE0YSR']"
      ]
     },
     "execution_count": 10,
     "metadata": {},
     "output_type": "execute_result"
    }
   ],
   "source": [
    "# get 25,000 sequences of this format\n",
    "random_sequences = [get_random_string() for i in range(25000)]\n",
    "random_sequences[:5]"
   ]
  },
  {
   "cell_type": "code",
   "execution_count": 11,
   "metadata": {},
   "outputs": [
    {
     "data": {
      "text/plain": [
       "['GHAF7UYU', 'EGGA0TST', 'AGCE5TRZ', 'CCHB6SUU', 'FBFA9VVT']"
      ]
     },
     "execution_count": 11,
     "metadata": {},
     "output_type": "execute_result"
    }
   ],
   "source": [
    "# Create 10k fake sequences\n",
    "# There will never be 10k anomalies, this is a trick just to study how well recognizes fake events\n",
    "fake_sequences = [get_fake_string() for i in range(10000)]\n",
    "fake_sequences[:5]"
   ]
  },
  {
   "cell_type": "code",
   "execution_count": 12,
   "metadata": {},
   "outputs": [],
   "source": [
    "# add some anomalies to our list\n",
    "random_sequences = random_sequences + fake_sequences\n",
    "#save this to a dataframe\n",
    "seqs_ds = pd.DataFrame(random_sequences)\n",
    "# encode each string seq to an integer array [[1],[5],[67]], [[45],[76],[7]\n",
    "encoded_seqs = encode_sequence_list(random_sequences)"
   ]
  },
  {
   "cell_type": "markdown",
   "metadata": {},
   "source": [
    "### Prepare the Data and Build an Autoencoder"
   ]
  },
  {
   "cell_type": "code",
   "execution_count": 13,
   "metadata": {},
   "outputs": [],
   "source": [
    "from sklearn.preprocessing import StandardScaler, MinMaxScaler\n",
    "scaler = MinMaxScaler()\n",
    "scaled_seqs = scaler.fit_transform(encoded_seqs)\n",
    "# Divide in train and test:\n",
    "# Important: we do not use the fake events to train and test!\n",
    "X_train = scaled_seqs[:20000]  \n",
    "X_test = scaled_seqs[20000:25000]"
   ]
  },
  {
   "cell_type": "code",
   "execution_count": 14,
   "metadata": {},
   "outputs": [
    {
     "name": "stderr",
     "output_type": "stream",
     "text": [
      "WARNING: Logging before flag parsing goes to stderr.\n",
      "W1109 10:25:47.571511 139811731248640 deprecation_wrapper.py:119] From /home/sequi/.local/lib/python3.7/site-packages/keras/backend/tensorflow_backend.py:74: The name tf.get_default_graph is deprecated. Please use tf.compat.v1.get_default_graph instead.\n",
      "\n",
      "W1109 10:25:47.586577 139811731248640 deprecation_wrapper.py:119] From /home/sequi/.local/lib/python3.7/site-packages/keras/backend/tensorflow_backend.py:517: The name tf.placeholder is deprecated. Please use tf.compat.v1.placeholder instead.\n",
      "\n",
      "W1109 10:25:47.589489 139811731248640 deprecation_wrapper.py:119] From /home/sequi/.local/lib/python3.7/site-packages/keras/backend/tensorflow_backend.py:4138: The name tf.random_uniform is deprecated. Please use tf.random.uniform instead.\n",
      "\n"
     ]
    }
   ],
   "source": [
    "from keras.models import Model, load_model\n",
    "from keras.layers import Input, Dense, Dropout, LSTM\n",
    "from keras.callbacks import ModelCheckpoint, TensorBoard\n",
    "from keras import regularizers\n",
    "\n",
    "# Parameters for the auto-encoder\n",
    "input_dim = X_train.shape[1] # number of features (8 in this case)\n",
    "encoding_dim = 8\n",
    "hidden_dim = int(encoding_dim / 2)\n",
    "\n",
    "# Typical training features\n",
    "nb_epoch = 30\n",
    "batch_size = 128\n",
    "learning_rate = 0.1\n",
    "\n",
    "# We create the auto-encoder layer by layer:\n",
    "\n",
    "# Create first layer that receives each scaled_seq\n",
    "input_layer = Input(shape=(input_dim, ))\n",
    "\n",
    "# Pass it to a first layer\n",
    "encoder = Dense(encoding_dim, activation=\"tanh\", activity_regularizer=regularizers.l1(10e-5))(input_layer)\n",
    "# Reduce in half the layer length (extract relevant variables)\n",
    "encoder = Dense(hidden_dim, activation=\"relu\")(encoder)\n",
    "# One more \"latent space\" layer to sophisticate the NN\n",
    "#decoder = Dense(hidden_dim, activation='relu')(encoder)\n",
    "#decoder = Dense(hidden_dim, activation='relu')(encoder)\n",
    "#decoder = Dense(hidden_dim, activation='relu')(encoder)\n",
    "# Now enlarge layer to go back to entering dimension\n",
    "decoder = Dense(encoding_dim, activation='relu')(encoder)\n",
    "# Finish with the same dimension as entering\n",
    "decoder = Dense(input_dim, activation='tanh')(decoder)\n",
    "\n",
    "# Physically create the auto-encoder model\n",
    "autoencoder = Model(inputs=input_layer, outputs=decoder)\n",
    "\n"
   ]
  },
  {
   "cell_type": "code",
   "execution_count": 15,
   "metadata": {},
   "outputs": [
    {
     "name": "stdout",
     "output_type": "stream",
     "text": [
      "_________________________________________________________________\n",
      "Layer (type)                 Output Shape              Param #   \n",
      "=================================================================\n",
      "input_1 (InputLayer)         (None, 8)                 0         \n",
      "_________________________________________________________________\n",
      "dense_1 (Dense)              (None, 8)                 72        \n",
      "_________________________________________________________________\n",
      "dense_2 (Dense)              (None, 4)                 36        \n",
      "_________________________________________________________________\n",
      "dense_3 (Dense)              (None, 8)                 40        \n",
      "_________________________________________________________________\n",
      "dense_4 (Dense)              (None, 8)                 72        \n",
      "=================================================================\n",
      "Total params: 220\n",
      "Trainable params: 220\n",
      "Non-trainable params: 0\n",
      "_________________________________________________________________\n"
     ]
    }
   ],
   "source": [
    "autoencoder.summary()"
   ]
  },
  {
   "cell_type": "markdown",
   "metadata": {},
   "source": [
    "### Fit the Model"
   ]
  },
  {
   "cell_type": "code",
   "execution_count": 16,
   "metadata": {},
   "outputs": [
    {
     "name": "stderr",
     "output_type": "stream",
     "text": [
      "W1109 10:26:02.186283 139811731248640 deprecation_wrapper.py:119] From /home/sequi/.local/lib/python3.7/site-packages/keras/optimizers.py:790: The name tf.train.Optimizer is deprecated. Please use tf.compat.v1.train.Optimizer instead.\n",
      "\n",
      "W1109 10:26:02.992368 139811731248640 deprecation_wrapper.py:119] From /home/sequi/.local/lib/python3.7/site-packages/keras/backend/tensorflow_backend.py:986: The name tf.assign_add is deprecated. Please use tf.compat.v1.assign_add instead.\n",
      "\n",
      "W1109 10:26:03.074414 139811731248640 deprecation_wrapper.py:119] From /home/sequi/.local/lib/python3.7/site-packages/keras/backend/tensorflow_backend.py:973: The name tf.assign is deprecated. Please use tf.compat.v1.assign instead.\n",
      "\n",
      "W1109 10:26:03.270699 139811731248640 deprecation_wrapper.py:119] From /home/sequi/.local/lib/python3.7/site-packages/keras/callbacks.py:850: The name tf.summary.merge_all is deprecated. Please use tf.compat.v1.summary.merge_all instead.\n",
      "\n",
      "W1109 10:26:03.271323 139811731248640 deprecation_wrapper.py:119] From /home/sequi/.local/lib/python3.7/site-packages/keras/callbacks.py:853: The name tf.summary.FileWriter is deprecated. Please use tf.compat.v1.summary.FileWriter instead.\n",
      "\n"
     ]
    },
    {
     "name": "stdout",
     "output_type": "stream",
     "text": [
      "Train on 20000 samples, validate on 5000 samples\n",
      "Epoch 1/30\n",
      "20000/20000 [==============================] - 0s 14us/step - loss: 0.1928 - acc: 0.4957 - val_loss: 0.1208 - val_acc: 0.5832\n",
      "Epoch 2/30\n",
      "20000/20000 [==============================] - 0s 8us/step - loss: 0.1094 - acc: 0.5875 - val_loss: 0.0999 - val_acc: 0.5858\n",
      "Epoch 3/30\n",
      "20000/20000 [==============================] - 0s 8us/step - loss: 0.0917 - acc: 0.5938 - val_loss: 0.0846 - val_acc: 0.5998\n",
      "Epoch 4/30\n",
      "20000/20000 [==============================] - 0s 8us/step - loss: 0.0784 - acc: 0.6301 - val_loss: 0.0734 - val_acc: 0.6494\n",
      "Epoch 5/30\n",
      "20000/20000 [==============================] - 0s 8us/step - loss: 0.0686 - acc: 0.6545 - val_loss: 0.0637 - val_acc: 0.6400\n",
      "Epoch 6/30\n",
      "20000/20000 [==============================] - 0s 9us/step - loss: 0.0597 - acc: 0.6593 - val_loss: 0.0565 - val_acc: 0.6810\n",
      "Epoch 7/30\n",
      "20000/20000 [==============================] - 0s 19us/step - loss: 0.0541 - acc: 0.6882 - val_loss: 0.0519 - val_acc: 0.6950\n",
      "Epoch 8/30\n",
      "20000/20000 [==============================] - 0s 18us/step - loss: 0.0502 - acc: 0.6936 - val_loss: 0.0485 - val_acc: 0.6994\n",
      "Epoch 9/30\n",
      "20000/20000 [==============================] - 0s 15us/step - loss: 0.0472 - acc: 0.6997 - val_loss: 0.0458 - val_acc: 0.7058\n",
      "Epoch 10/30\n",
      "20000/20000 [==============================] - 0s 8us/step - loss: 0.0449 - acc: 0.7046 - val_loss: 0.0438 - val_acc: 0.7104\n",
      "Epoch 11/30\n",
      "20000/20000 [==============================] - 0s 8us/step - loss: 0.0430 - acc: 0.7088 - val_loss: 0.0420 - val_acc: 0.7144\n",
      "Epoch 12/30\n",
      "20000/20000 [==============================] - 0s 8us/step - loss: 0.0413 - acc: 0.7126 - val_loss: 0.0406 - val_acc: 0.7174\n",
      "Epoch 13/30\n",
      "20000/20000 [==============================] - 0s 8us/step - loss: 0.0397 - acc: 0.7132 - val_loss: 0.0389 - val_acc: 0.7226\n",
      "Epoch 14/30\n",
      "20000/20000 [==============================] - 0s 8us/step - loss: 0.0382 - acc: 0.7167 - val_loss: 0.0373 - val_acc: 0.7322\n",
      "Epoch 15/30\n",
      "20000/20000 [==============================] - 0s 8us/step - loss: 0.0367 - acc: 0.7300 - val_loss: 0.0360 - val_acc: 0.7416\n",
      "Epoch 16/30\n",
      "20000/20000 [==============================] - 0s 8us/step - loss: 0.0354 - acc: 0.7361 - val_loss: 0.0347 - val_acc: 0.7470\n",
      "Epoch 17/30\n",
      "20000/20000 [==============================] - 0s 8us/step - loss: 0.0343 - acc: 0.7407 - val_loss: 0.0338 - val_acc: 0.7476\n",
      "Epoch 18/30\n",
      "20000/20000 [==============================] - 0s 8us/step - loss: 0.0333 - acc: 0.7452 - val_loss: 0.0328 - val_acc: 0.7476\n",
      "Epoch 19/30\n",
      "20000/20000 [==============================] - 0s 8us/step - loss: 0.0325 - acc: 0.7477 - val_loss: 0.0321 - val_acc: 0.7536\n",
      "Epoch 20/30\n",
      "20000/20000 [==============================] - 0s 17us/step - loss: 0.0319 - acc: 0.7520 - val_loss: 0.0315 - val_acc: 0.7548\n",
      "Epoch 21/30\n",
      "20000/20000 [==============================] - 0s 13us/step - loss: 0.0313 - acc: 0.7551 - val_loss: 0.0310 - val_acc: 0.7568\n",
      "Epoch 22/30\n",
      "20000/20000 [==============================] - 0s 8us/step - loss: 0.0309 - acc: 0.7580 - val_loss: 0.0306 - val_acc: 0.7614\n",
      "Epoch 23/30\n",
      "20000/20000 [==============================] - 0s 8us/step - loss: 0.0304 - acc: 0.7616 - val_loss: 0.0304 - val_acc: 0.7638\n",
      "Epoch 24/30\n",
      "20000/20000 [==============================] - 0s 8us/step - loss: 0.0301 - acc: 0.7634 - val_loss: 0.0299 - val_acc: 0.7658\n",
      "Epoch 25/30\n",
      "20000/20000 [==============================] - 0s 8us/step - loss: 0.0298 - acc: 0.7653 - val_loss: 0.0296 - val_acc: 0.7712\n",
      "Epoch 26/30\n",
      "20000/20000 [==============================] - 0s 9us/step - loss: 0.0296 - acc: 0.7673 - val_loss: 0.0295 - val_acc: 0.7700\n",
      "Epoch 27/30\n",
      "20000/20000 [==============================] - 0s 8us/step - loss: 0.0294 - acc: 0.7677 - val_loss: 0.0292 - val_acc: 0.7724\n",
      "Epoch 28/30\n",
      "20000/20000 [==============================] - 0s 8us/step - loss: 0.0292 - acc: 0.7693 - val_loss: 0.0291 - val_acc: 0.7712\n",
      "Epoch 29/30\n",
      "20000/20000 [==============================] - 0s 8us/step - loss: 0.0290 - acc: 0.7704 - val_loss: 0.0289 - val_acc: 0.7706\n",
      "Epoch 30/30\n",
      "20000/20000 [==============================] - 0s 8us/step - loss: 0.0288 - acc: 0.7712 - val_loss: 0.0287 - val_acc: 0.7744\n"
     ]
    }
   ],
   "source": [
    "autoencoder.compile(optimizer='adam', \n",
    "                    loss='mean_squared_error', \n",
    "                    metrics=['accuracy'])\n",
    "\n",
    "checkpointer = ModelCheckpoint(filepath=\"model_seqs2.h5\",\n",
    "                               verbose=0,\n",
    "                               save_best_only=True)\n",
    "\n",
    "tensorboard = TensorBoard(log_dir='./logs',\n",
    "                          histogram_freq=0,\n",
    "                          write_graph=True,\n",
    "                          write_images=True)\n",
    "\n",
    "history = autoencoder.fit(X_train, X_train,   # <---- THIS IS THE *KEY* LINE THAT DEFINES THAT IS AN AUTOENCODER!\n",
    "                    epochs=nb_epoch,\n",
    "                    batch_size=batch_size,\n",
    "                    shuffle=True,\n",
    "                    validation_data=(X_test, X_test),\n",
    "                    verbose=1,\n",
    "                    callbacks=[checkpointer, tensorboard]).history"
   ]
  },
  {
   "cell_type": "code",
   "execution_count": 17,
   "metadata": {},
   "outputs": [
    {
     "data": {
      "image/png": "[encoded data removed]",
      "text/plain": [
       "<Figure size 432x288 with 1 Axes>"
      ]
     },
     "metadata": {
      "needs_background": "light"
     },
     "output_type": "display_data"
    }
   ],
   "source": [
    "plt.plot(history['loss'])\n",
    "plt.plot(history['val_loss'])\n",
    "plt.title('model loss')\n",
    "plt.ylabel('loss')\n",
    "plt.xlabel('epoch')\n",
    "plt.legend(['train', 'test'], loc='upper right');"
   ]
  },
  {
   "cell_type": "code",
   "execution_count": 18,
   "metadata": {},
   "outputs": [
    {
     "name": "stdout",
     "output_type": "stream",
     "text": [
      "Min Loss:0.028820152965188025\n"
     ]
    }
   ],
   "source": [
    "#autoencoder = load_model('model_seqs2.h5')\n",
    "print(f'Min Loss:{np.min(history[\"loss\"])}')"
   ]
  },
  {
   "cell_type": "markdown",
   "metadata": {},
   "source": [
    "### Calculate the Error Term"
   ]
  },
  {
   "cell_type": "code",
   "execution_count": 19,
   "metadata": {},
   "outputs": [
    {
     "name": "stdout",
     "output_type": "stream",
     "text": [
      "MSE: 0.1946808756859858\n"
     ]
    }
   ],
   "source": [
    "#get the MSE error term\n",
    "predictions = autoencoder.predict(scaled_seqs)\n",
    "mse = np.mean(np.power(scaled_seqs - predictions, 2), axis=1)\n",
    "print('MSE:', np.quantile(mse, 0.9999)) # => the 9999% quatile - only 0.0001% have error score higher than that\n"
   ]
  },
  {
   "cell_type": "markdown",
   "metadata": {},
   "source": [
    "### Lets return to the seqs_ds data set that holds all the sequences"
   ]
  },
  {
   "cell_type": "code",
   "execution_count": 21,
   "metadata": {},
   "outputs": [
    {
     "data": {
      "text/html": [
       "<div>\n",
       "<style scoped>\n",
       "    .dataframe tbody tr th:only-of-type {\n",
       "        vertical-align: middle;\n",
       "    }\n",
       "\n",
       "    .dataframe tbody tr th {\n",
       "        vertical-align: top;\n",
       "    }\n",
       "\n",
       "    .dataframe thead th {\n",
       "        text-align: right;\n",
       "    }\n",
       "</style>\n",
       "<table border=\"1\" class=\"dataframe\">\n",
       "  <thead>\n",
       "    <tr style=\"text-align: right;\">\n",
       "      <th></th>\n",
       "      <th>0</th>\n",
       "    </tr>\n",
       "  </thead>\n",
       "  <tbody>\n",
       "    <tr>\n",
       "      <th>0</th>\n",
       "      <td>BCBF0RSW</td>\n",
       "    </tr>\n",
       "    <tr>\n",
       "      <th>1</th>\n",
       "      <td>CBDF0ZWZ</td>\n",
       "    </tr>\n",
       "    <tr>\n",
       "      <th>2</th>\n",
       "      <td>DBFA8XSX</td>\n",
       "    </tr>\n",
       "  </tbody>\n",
       "</table>\n",
       "</div>"
      ],
      "text/plain": [
       "          0\n",
       "0  BCBF0RSW\n",
       "1  CBDF0ZWZ\n",
       "2  DBFA8XSX"
      ]
     },
     "execution_count": 21,
     "metadata": {},
     "output_type": "execute_result"
    }
   ],
   "source": [
    "seqs_ds[:3]"
   ]
  },
  {
   "cell_type": "code",
   "execution_count": 23,
   "metadata": {},
   "outputs": [],
   "source": [
    "#encode all the data\n",
    "encoded_seqs = encode_sequence_list(seqs_ds.iloc[:,0])\n",
    "#scale it with the same fitted transformation!\n",
    "scaled_data = scaler.transform(encoded_seqs)\n",
    "#predict it\n",
    "predicted = autoencoder.predict(scaled_data)\n",
    "#get the error term\n",
    "mse = np.mean(np.power(scaled_data - predicted, 2), axis=1)\n",
    "#now add them to our data frame\n",
    "# Now we also have the mse for all the 25001 --> 35000 data which are anomalies!\n",
    "seqs_ds['MSE'] = mse"
   ]
  },
  {
   "cell_type": "code",
   "execution_count": 26,
   "metadata": {},
   "outputs": [],
   "source": [
    "# Let us create a function that process the sequence through the autoencoder\n",
    "# and returns the output as a sequence\n",
    "def test_autoencoder(instring):\n",
    "    t0 = [instring]\n",
    "    #print(t0)\n",
    "    t1 = np.array(encode_sequence_list(t0))\n",
    "    #print(t1)\n",
    "    t2 = scaler.transform(t1)\n",
    "    #print(t2)\n",
    "    t3 = autoencoder.predict(t2)\n",
    "    #print(t3)\n",
    "    t4 = scaler.inverse_transform(t3)\n",
    "    #print(t4)\n",
    "    t5 = decode_sequence_list(t4.astype(int))\n",
    "    #print(t5)\n",
    "    out = ''.join(t5[0])\n",
    "    mse = np.mean(np.power(t2 - t3, 2), axis=1)\n",
    "    return out, round(mse[0],5)"
   ]
  },
  {
   "cell_type": "code",
   "execution_count": 27,
   "metadata": {},
   "outputs": [
    {
     "data": {
      "text/plain": [
       "('AACB7NRV', 0.04469)"
      ]
     },
     "execution_count": 27,
     "metadata": {},
     "output_type": "execute_result"
    }
   ],
   "source": [
    "test_autoencoder('AABA8MPT')"
   ]
  },
  {
   "cell_type": "code",
   "execution_count": 28,
   "metadata": {},
   "outputs": [
    {
     "data": {
      "text/plain": [
       "('CDBDvTMQ', 3.5454)"
      ]
     },
     "execution_count": 28,
     "metadata": {},
     "output_type": "execute_result"
    }
   ],
   "source": [
    "test_autoencoder('PMTT3ABA')"
   ]
  },
  {
   "cell_type": "code",
   "execution_count": 29,
   "metadata": {},
   "outputs": [
    {
     "name": "stdout",
     "output_type": "stream",
     "text": [
      "MSE 0.9999 threshhold:0.14581492202237048\n"
     ]
    }
   ],
   "source": [
    "mse_threshold = np.quantile(seqs_ds['MSE'], 0.999)\n",
    "print(f'MSE 0.9999 threshhold:{mse_threshold}')"
   ]
  },
  {
   "cell_type": "markdown",
   "metadata": {},
   "source": [
    "## Let's compute some AUC curves"
   ]
  },
  {
   "cell_type": "code",
   "execution_count": 30,
   "metadata": {},
   "outputs": [
    {
     "data": {
      "image/png": "[encoded data removed]",
      "text/plain": [
       "<Figure size 432x288 with 1 Axes>"
      ]
     },
     "metadata": {
      "needs_background": "light"
     },
     "output_type": "display_data"
    }
   ],
   "source": [
    "# Let us recall how ROC curve commands work\n",
    "from sklearn.metrics import roc_auc_score, roc_curve\n",
    "y_true = np.array([0, 0, 1, 1,1])\n",
    "y_scores = np.array([0.1, 0.4, 0.75, 0.8,.6])\n",
    "auc = roc_auc_score(y_true, y_scores)\n",
    "fpr , tpr, _= roc_curve(y_true, y_scores)\n",
    "plt.plot(fpr,tpr)\n",
    "plt.title('AUC = '+str(auc))\n",
    "plt.show()"
   ]
  },
  {
   "cell_type": "code",
   "execution_count": 31,
   "metadata": {},
   "outputs": [
    {
     "data": {
      "image/png": "[encoded data removed]",
      "text/plain": [
       "<Figure size 432x288 with 1 Axes>"
      ]
     },
     "metadata": {
      "needs_background": "light"
     },
     "output_type": "display_data"
    }
   ],
   "source": [
    "# We define the ytrue and yscore for the AUC\n",
    "y_true = [0] * 25000 + [1] * 10000\n",
    "y_scores = seqs_ds['MSE']\n",
    "# And compute it\n",
    "auc = roc_auc_score(y_true, y_scores)\n",
    "fpr , tpr, _= roc_curve(y_true, y_scores)\n",
    "plt.plot(fpr,tpr)\n",
    "plt.title('AUC = '+str(auc))\n",
    "plt.show()"
   ]
  },
  {
   "cell_type": "markdown",
   "metadata": {},
   "source": [
    "# Home Work\n",
    "\n",
    "<b>1st case:</b>\n",
    "\n",
    "first_letters =  'AEF'<br>\n",
    "second_numbers = '790'<br>\n",
    "last_letters = 'RSTUZ'<br>\n",
    "<br>\n",
    "first_letters2 =  'ABCDEF'<br>\n",
    "second_numbers2 = '7890'<br>\n",
    "last_letters2 = 'RSTUVWXYZ'<br>\n",
    "\n",
    "$\\longrightarrow AUC = 0.60$\n",
    "\n",
    "Observe what a good resolution power it has with only 3 letters missing!\n",
    "\n",
    "<b>2nd case:</b>\n",
    "\n",
    "first_letters =  'ABCEF'<br>\n",
    "second_numbers = '7890'<br>\n",
    "last_letters = 'RSTVWXYZ'<br>\n",
    "<br>\n",
    "first_letters2 =  'ABCDEF'<br>\n",
    "second_numbers2 = '7890'<br>\n",
    "last_letters2 = 'RSTUVWXYZ'<br>\n",
    "\n",
    "$\\longrightarrow AUC = 0.43$\n",
    "\n",
    "$\\longrightarrow$ When dropping only one letter in the real data, we see that the auto-encoder learns the pattern regardless if this letter is missing, then the fakes are better classified! Amazing!\n"
   ]
  },
  {
   "cell_type": "code",
   "execution_count": null,
   "metadata": {},
   "outputs": [],
   "source": []
  }
 ],
 "metadata": {
  "kernelspec": {
   "display_name": "Python 3",
   "language": "python",
   "name": "python3"
  },
  "language_info": {
   "codemirror_mode": {
    "name": "ipython",
    "version": 3
   },
   "file_extension": ".py",
   "mimetype": "text/x-python",
   "name": "python",
   "nbconvert_exporter": "python",
   "pygments_lexer": "ipython3",
   "version": "3.7.0"
  }
 },
 "nbformat": 4,
 "nbformat_minor": 2
}
