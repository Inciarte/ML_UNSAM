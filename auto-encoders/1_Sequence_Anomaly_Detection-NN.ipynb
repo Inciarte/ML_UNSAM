{
 "cells": [
  {
   "cell_type": "markdown",
   "metadata": {},
   "source": [
    "# Very basic Auto-Encoder\n",
    "\n",
    "Based on\n",
    "https://towardsdatascience.com/a-keras-based-autoencoder-for-anomaly-detection-in-sequences-75337eaed0e5"
   ]
  },
  {
   "cell_type": "code",
   "execution_count": 1,
   "metadata": {},
   "outputs": [],
   "source": [
    "import random\n",
    "import pandas as pd\n",
    "import numpy as np\n",
    "import matplotlib.pyplot as plt"
   ]
  },
  {
   "cell_type": "markdown",
   "metadata": {},
   "source": [
    "### Generate Sequence Data"
   ]
  },
  {
   "cell_type": "code",
   "execution_count": 2,
   "metadata": {},
   "outputs": [],
   "source": [
    "first_letters =  'ABCDEF'\n",
    "second_numbers = '7890'\n",
    "last_letters = 'RSTUVWXYZ'\n",
    "\n",
    "# returns a string of the following format: [4 letters A-F][1 digit 7-0][3 letters QWOPZXML]\n",
    "def get_random_string():\n",
    "    str1 = ''.join(random.choice(first_letters) for i in range(4))\n",
    "    str2 = random.choice(second_numbers)\n",
    "    str3 = ''.join(random.choice(last_letters) for i in range(3))\n",
    "    return str1+str2+str3"
   ]
  },
  {
   "cell_type": "code",
   "execution_count": 3,
   "metadata": {},
   "outputs": [
    {
     "data": {
      "text/plain": [
       "['ADBB0WYS', 'FEAB0RTU', 'CDDD9XRX', 'DFDE8TTX', 'EACC0WSY']"
      ]
     },
     "execution_count": 3,
     "metadata": {},
     "output_type": "execute_result"
    }
   ],
   "source": [
    "# get 25,000 sequences of this format\n",
    "random_sequences = [get_random_string() for i in range(25000)]\n",
    "random_sequences[:5]"
   ]
  },
  {
   "cell_type": "code",
   "execution_count": 4,
   "metadata": {},
   "outputs": [],
   "source": [
    "#Build the char index that we will use to encode seqs to numbers\n",
    "char_index = '0abcdefghijklmnopqrstuvwxyz'\n",
    "char_index +='ABCDEFGHIJKLMNOPQRSTUVWXYZ'\n",
    "char_index += '123456789'\n",
    "char_index += '().,-/+=&$?@#!*:;_[]|%⸏{}\\\"\\'' + ' ' +'\\\\'\n",
    "\n",
    "char_to_int = dict((c, i) for i, c in enumerate(char_index))\n",
    "int_to_char = dict((i, c) for i, c in enumerate(char_index))"
   ]
  },
  {
   "cell_type": "code",
   "execution_count": 5,
   "metadata": {},
   "outputs": [],
   "source": [
    "#print(list(enumerate(char_index)))"
   ]
  },
  {
   "cell_type": "code",
   "execution_count": 6,
   "metadata": {},
   "outputs": [],
   "source": [
    "#char_to_int"
   ]
  },
  {
   "cell_type": "code",
   "execution_count": 9,
   "metadata": {},
   "outputs": [
    {
     "data": {
      "text/plain": [
       "[34, 15, 12, 1]"
      ]
     },
     "execution_count": 9,
     "metadata": {},
     "output_type": "execute_result"
    }
   ],
   "source": [
    "[char_to_int[c] for c in 'Hola']"
   ]
  },
  {
   "cell_type": "code",
   "execution_count": 10,
   "metadata": {},
   "outputs": [
    {
     "name": "stderr",
     "output_type": "stream",
     "text": [
      "Using TensorFlow backend.\n",
      "/home/sequi/.local/lib/python3.7/site-packages/tensorflow/python/framework/dtypes.py:516: FutureWarning: Passing (type, 1) or '1type' as a synonym of type is deprecated; in a future version of numpy, it will be understood as (type, (1,)) / '(1,)type'.\n",
      "  _np_qint8 = np.dtype([(\"qint8\", np.int8, 1)])\n",
      "/home/sequi/.local/lib/python3.7/site-packages/tensorflow/python/framework/dtypes.py:517: FutureWarning: Passing (type, 1) or '1type' as a synonym of type is deprecated; in a future version of numpy, it will be understood as (type, (1,)) / '(1,)type'.\n",
      "  _np_quint8 = np.dtype([(\"quint8\", np.uint8, 1)])\n",
      "/home/sequi/.local/lib/python3.7/site-packages/tensorflow/python/framework/dtypes.py:518: FutureWarning: Passing (type, 1) or '1type' as a synonym of type is deprecated; in a future version of numpy, it will be understood as (type, (1,)) / '(1,)type'.\n",
      "  _np_qint16 = np.dtype([(\"qint16\", np.int16, 1)])\n",
      "/home/sequi/.local/lib/python3.7/site-packages/tensorflow/python/framework/dtypes.py:519: FutureWarning: Passing (type, 1) or '1type' as a synonym of type is deprecated; in a future version of numpy, it will be understood as (type, (1,)) / '(1,)type'.\n",
      "  _np_quint16 = np.dtype([(\"quint16\", np.uint16, 1)])\n",
      "/home/sequi/.local/lib/python3.7/site-packages/tensorflow/python/framework/dtypes.py:520: FutureWarning: Passing (type, 1) or '1type' as a synonym of type is deprecated; in a future version of numpy, it will be understood as (type, (1,)) / '(1,)type'.\n",
      "  _np_qint32 = np.dtype([(\"qint32\", np.int32, 1)])\n",
      "/home/sequi/.local/lib/python3.7/site-packages/tensorflow/python/framework/dtypes.py:525: FutureWarning: Passing (type, 1) or '1type' as a synonym of type is deprecated; in a future version of numpy, it will be understood as (type, (1,)) / '(1,)type'.\n",
      "  np_resource = np.dtype([(\"resource\", np.ubyte, 1)])\n",
      "/home/sequi/.local/lib/python3.7/site-packages/tensorboard/compat/tensorflow_stub/dtypes.py:541: FutureWarning: Passing (type, 1) or '1type' as a synonym of type is deprecated; in a future version of numpy, it will be understood as (type, (1,)) / '(1,)type'.\n",
      "  _np_qint8 = np.dtype([(\"qint8\", np.int8, 1)])\n",
      "/home/sequi/.local/lib/python3.7/site-packages/tensorboard/compat/tensorflow_stub/dtypes.py:542: FutureWarning: Passing (type, 1) or '1type' as a synonym of type is deprecated; in a future version of numpy, it will be understood as (type, (1,)) / '(1,)type'.\n",
      "  _np_quint8 = np.dtype([(\"quint8\", np.uint8, 1)])\n",
      "/home/sequi/.local/lib/python3.7/site-packages/tensorboard/compat/tensorflow_stub/dtypes.py:543: FutureWarning: Passing (type, 1) or '1type' as a synonym of type is deprecated; in a future version of numpy, it will be understood as (type, (1,)) / '(1,)type'.\n",
      "  _np_qint16 = np.dtype([(\"qint16\", np.int16, 1)])\n",
      "/home/sequi/.local/lib/python3.7/site-packages/tensorboard/compat/tensorflow_stub/dtypes.py:544: FutureWarning: Passing (type, 1) or '1type' as a synonym of type is deprecated; in a future version of numpy, it will be understood as (type, (1,)) / '(1,)type'.\n",
      "  _np_quint16 = np.dtype([(\"quint16\", np.uint16, 1)])\n",
      "/home/sequi/.local/lib/python3.7/site-packages/tensorboard/compat/tensorflow_stub/dtypes.py:545: FutureWarning: Passing (type, 1) or '1type' as a synonym of type is deprecated; in a future version of numpy, it will be understood as (type, (1,)) / '(1,)type'.\n",
      "  _np_qint32 = np.dtype([(\"qint32\", np.int32, 1)])\n",
      "/home/sequi/.local/lib/python3.7/site-packages/tensorboard/compat/tensorflow_stub/dtypes.py:550: FutureWarning: Passing (type, 1) or '1type' as a synonym of type is deprecated; in a future version of numpy, it will be understood as (type, (1,)) / '(1,)type'.\n",
      "  np_resource = np.dtype([(\"resource\", np.ubyte, 1)])\n"
     ]
    }
   ],
   "source": [
    "from keras.preprocessing.sequence import pad_sequences\n",
    "#function that convert a char seqs to numbers seqs and vice-verse\n",
    "def encode_sequence_list(seqs):\n",
    "    encoded_seqs = []\n",
    "    for seq in seqs:\n",
    "        encoded_seq = [char_to_int[c] for c in seq]\n",
    "        encoded_seqs.append(encoded_seq)\n",
    "    return pad_sequences(encoded_seqs, padding='post')\n",
    "\n",
    "def decode_sequence_list(seqs):\n",
    "    decoded_seqs = []\n",
    "    for seq in seqs:\n",
    "        decoded_seq = [int_to_char[i] for i in seq]\n",
    "        decoded_seqs.append(decoded_seq)\n",
    "    return decoded_seqs\n"
   ]
  },
  {
   "cell_type": "code",
   "execution_count": 11,
   "metadata": {},
   "outputs": [
    {
     "data": {
      "text/plain": [
       "['ADBB0WYS',\n",
       " 'FEAB0RTU',\n",
       " 'CDDD9XRX',\n",
       " 'DFDE8TTX',\n",
       " 'EACC0WSY',\n",
       " 'BBBA7UXU',\n",
       " 'ECEC8TVR',\n",
       " 'DADB9YTV',\n",
       " 'BDDD0URZ',\n",
       " 'CFDA7XSU']"
      ]
     },
     "execution_count": 11,
     "metadata": {},
     "output_type": "execute_result"
    }
   ],
   "source": [
    "random_sequences[:10]"
   ]
  },
  {
   "cell_type": "code",
   "execution_count": 12,
   "metadata": {},
   "outputs": [],
   "source": [
    "# add some anomalies to our list\n",
    "random_sequences.extend(['XYDC2DCA', 'TXSX1ABC','RNIU4XRE','AABDXUEI','SDRAC5RF'])\n",
    "#save this to a dataframe\n",
    "seqs_ds = pd.DataFrame(random_sequences)\n",
    "# encode each string seq to an integer array [[1],[5],[67]], [[45],[76],[7]\n",
    "encoded_seqs = encode_sequence_list(random_sequences)"
   ]
  },
  {
   "cell_type": "code",
   "execution_count": 13,
   "metadata": {},
   "outputs": [
    {
     "name": "stdout",
     "output_type": "stream",
     "text": [
      "Normal data:\n",
      "['ADBB0WYS', 'FEAB0RTU', 'CDDD9XRX', 'DFDE8TTX', 'EACC0WSY']\n",
      "[[27 30 28 28  0 49 51 45]\n",
      " [32 31 27 28  0 44 46 47]\n",
      " [29 30 30 30 61 50 44 50]\n",
      " [30 32 30 31 60 46 46 50]\n",
      " [31 27 29 29  0 49 45 51]]\n"
     ]
    }
   ],
   "source": [
    "print('Normal data:')\n",
    "print(random_sequences[:5])\n",
    "print(encoded_seqs[:5])"
   ]
  },
  {
   "cell_type": "code",
   "execution_count": 14,
   "metadata": {},
   "outputs": [
    {
     "name": "stdout",
     "output_type": "stream",
     "text": [
      "Fake data:\n",
      "['XYDC2DCA', 'TXSX1ABC', 'RNIU4XRE', 'AABDXUEI', 'SDRAC5RF']\n",
      "[[50 51 30 29 54 30 29 27]\n",
      " [46 50 45 50 53 27 28 29]\n",
      " [44 40 35 47 56 50 44 31]\n",
      " [27 27 28 30 50 47 31 35]\n",
      " [45 30 44 27 29 57 44 32]]\n"
     ]
    }
   ],
   "source": [
    "print('Fake data:')\n",
    "print(random_sequences[-5:])\n",
    "print(encoded_seqs[-5:])"
   ]
  },
  {
   "cell_type": "code",
   "execution_count": 15,
   "metadata": {},
   "outputs": [],
   "source": [
    "# mix everything up\n",
    "np.random.shuffle(encoded_seqs)"
   ]
  },
  {
   "cell_type": "markdown",
   "metadata": {},
   "source": [
    "### Prepare the Data and Build an Autoencoder"
   ]
  },
  {
   "cell_type": "code",
   "execution_count": 16,
   "metadata": {},
   "outputs": [],
   "source": [
    "from sklearn.preprocessing import StandardScaler, MinMaxScaler\n",
    "scaler = MinMaxScaler()\n",
    "scaled_seqs = scaler.fit_transform(encoded_seqs)\n",
    "# Divide in train and test:\n",
    "X_train = scaled_seqs[:20000]\n",
    "X_test = scaled_seqs[20000:]\n",
    "# Observe that we are training WITH the fake data in"
   ]
  },
  {
   "cell_type": "code",
   "execution_count": 17,
   "metadata": {},
   "outputs": [
    {
     "name": "stdout",
     "output_type": "stream",
     "text": [
      "[[28 27 29 31  0 50 52 50]\n",
      " [30 29 32 27 61 47 48 52]\n",
      " [28 30 32 28 61 49 45 52]\n",
      " [30 28 32 31 59 44 49 45]\n",
      " [28 32 27 31  0 51 45 52]]\n",
      "[[0.04347826 0.         0.11111111 0.17391304 0.         0.76666667\n",
      "  1.         0.92      ]\n",
      " [0.13043478 0.08333333 0.27777778 0.         1.         0.66666667\n",
      "  0.83333333 1.        ]\n",
      " [0.04347826 0.125      0.27777778 0.04347826 1.         0.73333333\n",
      "  0.70833333 1.        ]\n",
      " [0.13043478 0.04166667 0.27777778 0.17391304 0.96721311 0.56666667\n",
      "  0.875      0.72      ]\n",
      " [0.04347826 0.20833333 0.         0.17391304 0.         0.8\n",
      "  0.70833333 1.        ]]\n"
     ]
    }
   ],
   "source": [
    "print(encoded_seqs[:5])\n",
    "print(scaled_seqs[:5])"
   ]
  },
  {
   "cell_type": "code",
   "execution_count": 18,
   "metadata": {},
   "outputs": [
    {
     "name": "stderr",
     "output_type": "stream",
     "text": [
      "WARNING: Logging before flag parsing goes to stderr.\n",
      "W1109 01:06:45.880820 140438831126016 deprecation_wrapper.py:119] From /home/sequi/.local/lib/python3.7/site-packages/keras/backend/tensorflow_backend.py:74: The name tf.get_default_graph is deprecated. Please use tf.compat.v1.get_default_graph instead.\n",
      "\n",
      "W1109 01:06:45.914235 140438831126016 deprecation_wrapper.py:119] From /home/sequi/.local/lib/python3.7/site-packages/keras/backend/tensorflow_backend.py:517: The name tf.placeholder is deprecated. Please use tf.compat.v1.placeholder instead.\n",
      "\n",
      "W1109 01:06:45.923120 140438831126016 deprecation_wrapper.py:119] From /home/sequi/.local/lib/python3.7/site-packages/keras/backend/tensorflow_backend.py:4138: The name tf.random_uniform is deprecated. Please use tf.random.uniform instead.\n",
      "\n"
     ]
    }
   ],
   "source": [
    "# We define the auto-encoder NN\n",
    "from keras.models import Model, load_model\n",
    "from keras.layers import Input, Dense, Dropout, LSTM\n",
    "from keras.callbacks import ModelCheckpoint, TensorBoard\n",
    "from keras import regularizers\n",
    "\n",
    "# Parameters for the auto-encoder\n",
    "input_dim = X_train.shape[1] # number of features (8 in this case)\n",
    "encoding_dim = 8\n",
    "hidden_dim = int(encoding_dim / 2)\n",
    "\n",
    "#  Autoencoder plot:\n",
    "#\n",
    "#    x       x\n",
    "#    x       x\n",
    "#    x   x   x\n",
    "#    x   x   x\n",
    "#    x   x   x\n",
    "#    x   x   x\n",
    "#    x       x \n",
    "#    x       x\n",
    "#    \n",
    "\n",
    "\n",
    "# Typical training features\n",
    "nb_epoch = 30\n",
    "batch_size = 128\n",
    "learning_rate = 0.1\n",
    "\n",
    "# We create the auto-encoder layer by layer:\n",
    "\n",
    "# Create first layer that receives each scaled_seq\n",
    "input_layer = Input(shape=(input_dim, ))\n",
    "\n",
    "# Pass it to a first layer\n",
    "encoder = Dense(encoding_dim, activation=\"tanh\", activity_regularizer=regularizers.l1(10e-5))(input_layer)\n",
    "# Reduce in half the layer length (extract relevant variables)\n",
    "encoder = Dense(hidden_dim, activation=\"relu\")(encoder)\n",
    "# One more \"latent space\" layer to sophisticate the NN\n",
    "decoder = Dense(hidden_dim, activation='relu')(encoder)\n",
    "#decoder = Dense(hidden_dim-2, activation='relu')(encoder)\n",
    "#decoder = Dense(hidden_dim, activation='relu')(encoder)\n",
    "#decoder = Dense(hidden_dim, activation='relu')(encoder)\n",
    "# Now enlarge layer to go back to entering dimension\n",
    "decoder = Dense(encoding_dim, activation='relu')(decoder)\n",
    "# Finish with the same dimension as entering\n",
    "decoder = Dense(input_dim, activation='tanh')(decoder)\n",
    "\n",
    "# Physically create the auto-encoder model\n",
    "autoencoder = Model(inputs=input_layer, outputs=decoder)\n",
    "\n"
   ]
  },
  {
   "cell_type": "code",
   "execution_count": 19,
   "metadata": {},
   "outputs": [
    {
     "name": "stdout",
     "output_type": "stream",
     "text": [
      "_________________________________________________________________\n",
      "Layer (type)                 Output Shape              Param #   \n",
      "=================================================================\n",
      "input_1 (InputLayer)         (None, 8)                 0         \n",
      "_________________________________________________________________\n",
      "dense_1 (Dense)              (None, 8)                 72        \n",
      "_________________________________________________________________\n",
      "dense_2 (Dense)              (None, 4)                 36        \n",
      "_________________________________________________________________\n",
      "dense_3 (Dense)              (None, 4)                 20        \n",
      "_________________________________________________________________\n",
      "dense_4 (Dense)              (None, 8)                 40        \n",
      "_________________________________________________________________\n",
      "dense_5 (Dense)              (None, 8)                 72        \n",
      "=================================================================\n",
      "Total params: 240\n",
      "Trainable params: 240\n",
      "Non-trainable params: 0\n",
      "_________________________________________________________________\n"
     ]
    }
   ],
   "source": [
    "autoencoder.summary()"
   ]
  },
  {
   "cell_type": "markdown",
   "metadata": {},
   "source": [
    "<b>Drop-out:</b> Observe we are not adding drop-out for simplicity, but it is recommendable to do it. Or at least to explore it! \n",
    "\n",
    "<b>Tanh:</b>\n",
    "Yan LeCun and others argue in *Efficient BackProp* that\n",
    "\n",
    "Convergence is usually faster if the average of each input variable over the training set is close to zero. To see this, consider the extreme case where all the inputs are positive. Weights to a particular node in the first weight layer are updated by an amount proportional to δx where δ is the (scalar) error at that node and x is the input vector (see equations (5) and (10)). When all of the components of an input vector are positive, all of the updates of weights that feed into a node will have the same sign (i.e. sign(δ)). As a result, these weights can only all decrease or all increase together for a given input pattern. Thus, if a weight vector must change direction it can only do so by zigzagging which is inefficient and thus very slow. "
   ]
  },
  {
   "cell_type": "markdown",
   "metadata": {},
   "source": [
    "### Fit the Model"
   ]
  },
  {
   "cell_type": "code",
   "execution_count": 20,
   "metadata": {},
   "outputs": [
    {
     "name": "stderr",
     "output_type": "stream",
     "text": [
      "W1109 01:07:01.566585 140438831126016 deprecation_wrapper.py:119] From /home/sequi/.local/lib/python3.7/site-packages/keras/optimizers.py:790: The name tf.train.Optimizer is deprecated. Please use tf.compat.v1.train.Optimizer instead.\n",
      "\n",
      "W1109 01:07:02.732564 140438831126016 deprecation_wrapper.py:119] From /home/sequi/.local/lib/python3.7/site-packages/keras/backend/tensorflow_backend.py:986: The name tf.assign_add is deprecated. Please use tf.compat.v1.assign_add instead.\n",
      "\n",
      "W1109 01:07:02.956047 140438831126016 deprecation_wrapper.py:119] From /home/sequi/.local/lib/python3.7/site-packages/keras/backend/tensorflow_backend.py:973: The name tf.assign is deprecated. Please use tf.compat.v1.assign instead.\n",
      "\n"
     ]
    },
    {
     "name": "stdout",
     "output_type": "stream",
     "text": [
      "Train on 20000 samples, validate on 5005 samples\n"
     ]
    },
    {
     "name": "stderr",
     "output_type": "stream",
     "text": [
      "W1109 01:07:03.313205 140438831126016 deprecation_wrapper.py:119] From /home/sequi/.local/lib/python3.7/site-packages/keras/callbacks.py:850: The name tf.summary.merge_all is deprecated. Please use tf.compat.v1.summary.merge_all instead.\n",
      "\n",
      "W1109 01:07:03.314690 140438831126016 deprecation_wrapper.py:119] From /home/sequi/.local/lib/python3.7/site-packages/keras/callbacks.py:853: The name tf.summary.FileWriter is deprecated. Please use tf.compat.v1.summary.FileWriter instead.\n",
      "\n"
     ]
    },
    {
     "name": "stdout",
     "output_type": "stream",
     "text": [
      "Epoch 1/30\n",
      "20000/20000 [==============================] - 1s 27us/step - loss: 0.2407 - acc: 0.2365 - val_loss: 0.0986 - val_acc: 0.7794\n",
      "Epoch 2/30\n",
      "20000/20000 [==============================] - 0s 22us/step - loss: 0.0628 - acc: 0.4330 - val_loss: 0.0472 - val_acc: 0.1804\n",
      "Epoch 3/30\n",
      "20000/20000 [==============================] - 0s 17us/step - loss: 0.0406 - acc: 0.1708 - val_loss: 0.0348 - val_acc: 0.1804\n",
      "Epoch 4/30\n",
      "20000/20000 [==============================] - 0s 20us/step - loss: 0.0287 - acc: 0.1708 - val_loss: 0.0231 - val_acc: 0.1804\n",
      "Epoch 5/30\n",
      "20000/20000 [==============================] - 0s 15us/step - loss: 0.0206 - acc: 0.1708 - val_loss: 0.0188 - val_acc: 0.1804\n",
      "Epoch 6/30\n",
      "20000/20000 [==============================] - 0s 15us/step - loss: 0.0175 - acc: 0.1708 - val_loss: 0.0164 - val_acc: 0.1806\n",
      "Epoch 7/30\n",
      "20000/20000 [==============================] - 0s 16us/step - loss: 0.0151 - acc: 0.2265 - val_loss: 0.0134 - val_acc: 0.6336\n",
      "Epoch 8/30\n",
      "20000/20000 [==============================] - 0s 15us/step - loss: 0.0120 - acc: 0.7329 - val_loss: 0.0109 - val_acc: 0.7794\n",
      "Epoch 9/30\n",
      "20000/20000 [==============================] - 0s 15us/step - loss: 0.0103 - acc: 0.7712 - val_loss: 0.0099 - val_acc: 0.7794\n",
      "Epoch 10/30\n",
      "20000/20000 [==============================] - 0s 15us/step - loss: 0.0095 - acc: 0.7712 - val_loss: 0.0092 - val_acc: 0.7794\n",
      "Epoch 11/30\n",
      "20000/20000 [==============================] - 0s 15us/step - loss: 0.0089 - acc: 0.7712 - val_loss: 0.0088 - val_acc: 0.7794\n",
      "Epoch 12/30\n",
      "20000/20000 [==============================] - 0s 16us/step - loss: 0.0085 - acc: 0.7712 - val_loss: 0.0085 - val_acc: 0.7794\n",
      "Epoch 13/30\n",
      "20000/20000 [==============================] - 0s 17us/step - loss: 0.0081 - acc: 0.7708 - val_loss: 0.0082 - val_acc: 0.7782\n",
      "Epoch 14/30\n",
      "20000/20000 [==============================] - 0s 17us/step - loss: 0.0078 - acc: 0.7697 - val_loss: 0.0078 - val_acc: 0.7734\n",
      "Epoch 15/30\n",
      "20000/20000 [==============================] - 0s 16us/step - loss: 0.0076 - acc: 0.7677 - val_loss: 0.0076 - val_acc: 0.7682\n",
      "Epoch 16/30\n",
      "20000/20000 [==============================] - 0s 16us/step - loss: 0.0074 - acc: 0.7697 - val_loss: 0.0074 - val_acc: 0.7710\n",
      "Epoch 17/30\n",
      "20000/20000 [==============================] - 0s 16us/step - loss: 0.0073 - acc: 0.7698 - val_loss: 0.0074 - val_acc: 0.7696\n",
      "Epoch 18/30\n",
      "20000/20000 [==============================] - 0s 16us/step - loss: 0.0072 - acc: 0.7693 - val_loss: 0.0073 - val_acc: 0.7710\n",
      "Epoch 19/30\n",
      "20000/20000 [==============================] - 0s 16us/step - loss: 0.0071 - acc: 0.7699 - val_loss: 0.0072 - val_acc: 0.7696\n",
      "Epoch 20/30\n",
      "20000/20000 [==============================] - 0s 15us/step - loss: 0.0070 - acc: 0.7689 - val_loss: 0.0071 - val_acc: 0.7720\n",
      "Epoch 21/30\n",
      "20000/20000 [==============================] - 0s 16us/step - loss: 0.0069 - acc: 0.7685 - val_loss: 0.0070 - val_acc: 0.7670\n",
      "Epoch 22/30\n",
      "20000/20000 [==============================] - 0s 15us/step - loss: 0.0069 - acc: 0.7697 - val_loss: 0.0069 - val_acc: 0.7714\n",
      "Epoch 23/30\n",
      "20000/20000 [==============================] - 0s 16us/step - loss: 0.0068 - acc: 0.7690 - val_loss: 0.0069 - val_acc: 0.7686\n",
      "Epoch 24/30\n",
      "20000/20000 [==============================] - 0s 22us/step - loss: 0.0068 - acc: 0.7679 - val_loss: 0.0069 - val_acc: 0.7716\n",
      "Epoch 25/30\n",
      "20000/20000 [==============================] - 0s 21us/step - loss: 0.0067 - acc: 0.7697 - val_loss: 0.0070 - val_acc: 0.7668\n",
      "Epoch 26/30\n",
      "20000/20000 [==============================] - 0s 16us/step - loss: 0.0067 - acc: 0.7677 - val_loss: 0.0067 - val_acc: 0.7774\n",
      "Epoch 27/30\n",
      "20000/20000 [==============================] - 0s 15us/step - loss: 0.0066 - acc: 0.7674 - val_loss: 0.0067 - val_acc: 0.7736\n",
      "Epoch 28/30\n",
      "20000/20000 [==============================] - 0s 16us/step - loss: 0.0066 - acc: 0.7674 - val_loss: 0.0066 - val_acc: 0.7778\n",
      "Epoch 29/30\n",
      "20000/20000 [==============================] - 0s 16us/step - loss: 0.0065 - acc: 0.7691 - val_loss: 0.0066 - val_acc: 0.7782\n",
      "Epoch 30/30\n",
      "20000/20000 [==============================] - 0s 16us/step - loss: 0.0065 - acc: 0.7708 - val_loss: 0.0066 - val_acc: 0.7792\n"
     ]
    }
   ],
   "source": [
    "autoencoder.compile(optimizer='adam', \n",
    "                    loss='mean_squared_error', \n",
    "                    metrics=['accuracy'])\n",
    "\n",
    "checkpointer = ModelCheckpoint(filepath=\"model_seqs2.h5\",\n",
    "                               verbose=0,\n",
    "                               save_best_only=True)\n",
    "\n",
    "tensorboard = TensorBoard(log_dir='./logs',\n",
    "                          histogram_freq=0,\n",
    "                          write_graph=True,\n",
    "                          write_images=True)\n",
    "\n",
    "history = autoencoder.fit(X_train, X_train,  # <---- THIS IS THE *KEY* LINE TO MAKE IT AUTO-ENCODER\n",
    "                    epochs=nb_epoch,\n",
    "                    batch_size=batch_size,\n",
    "                    shuffle=True,\n",
    "                    validation_data=(X_test, X_test),\n",
    "                    verbose=1,\n",
    "                    callbacks=[checkpointer, tensorboard]).history"
   ]
  },
  {
   "cell_type": "code",
   "execution_count": 21,
   "metadata": {},
   "outputs": [
    {
     "data": {
      "image/png": "[encoded data removed]",
      "text/plain": [
       "<Figure size 432x288 with 1 Axes>"
      ]
     },
     "metadata": {
      "needs_background": "light"
     },
     "output_type": "display_data"
    }
   ],
   "source": [
    "plt.plot(history['loss'])\n",
    "plt.plot(history['val_loss'])\n",
    "plt.title('model loss')\n",
    "plt.ylabel('loss')\n",
    "plt.xlabel('epoch')\n",
    "plt.legend(['train', 'test'], loc='upper right');"
   ]
  },
  {
   "cell_type": "code",
   "execution_count": 22,
   "metadata": {},
   "outputs": [
    {
     "name": "stdout",
     "output_type": "stream",
     "text": [
      "Min Loss:0.006492977341264486\n"
     ]
    }
   ],
   "source": [
    "#autoencoder = load_model('model_seqs2.h5')\n",
    "print(f'Min Loss:{np.min(history[\"loss\"])}')"
   ]
  },
  {
   "cell_type": "markdown",
   "metadata": {},
   "source": [
    "### Calculate the Error Term"
   ]
  },
  {
   "cell_type": "code",
   "execution_count": 23,
   "metadata": {},
   "outputs": [
    {
     "name": "stdout",
     "output_type": "stream",
     "text": [
      "MSE: 0.2282694138973218\n"
     ]
    }
   ],
   "source": [
    "#get the MSE error term\n",
    "predictions = autoencoder.predict(scaled_seqs)\n",
    "mse = np.mean(np.power(scaled_seqs - predictions, 2), axis=1)\n",
    "print('MSE:', np.quantile(mse, 0.9999)) # => the 9999% quatile - only 0.0001% have error score higher than that\n"
   ]
  },
  {
   "cell_type": "markdown",
   "metadata": {},
   "source": [
    "### Lets return to the seqs_ds data set that holds all the sequences"
   ]
  },
  {
   "cell_type": "code",
   "execution_count": 24,
   "metadata": {},
   "outputs": [],
   "source": [
    "#encode all the data\n",
    "encoded_seqs = encode_sequence_list(seqs_ds.iloc[:,0])\n",
    "#scale it\n",
    "#sc = MinMaxScaler()\n",
    "scaled_data = scaler.transform(encoded_seqs)\n",
    "#test = scaler.transform(encoded_seqs)\n",
    "#predict it\n",
    "# We now run again the auto-encoder, but to see its prediciton, no to train it !\n",
    "predicted = autoencoder.predict(scaled_data)\n",
    "#get the error term\n",
    "mse = np.mean(np.power(scaled_data - predicted, 2), axis=1)\n",
    "#now add them to our data frame\n",
    "seqs_ds['MSE'] = mse"
   ]
  },
  {
   "cell_type": "code",
   "execution_count": 25,
   "metadata": {},
   "outputs": [],
   "source": [
    "# Let us create a function that process the sequence through the autoencoder\n",
    "# and returns the output as a sequence\n",
    "def test_autoencoder(instring):\n",
    "    t0 = [instring]\n",
    "    #print(t0)\n",
    "    t1 = np.array(encode_sequence_list(t0))\n",
    "    #print(t1)\n",
    "    t2 = scaler.transform(t1)\n",
    "    #print(t2)\n",
    "    t3 = autoencoder.predict(t2)\n",
    "    #print(t3)\n",
    "    t4 = scaler.inverse_transform(t3)\n",
    "    #print(t4)\n",
    "    t5 = decode_sequence_list(t4.astype(int))\n",
    "    #print(t5)\n",
    "    out = ''.join(t5[0])\n",
    "    mse = np.mean(np.power(t2 - t3, 2), axis=1)\n",
    "    return out, round(mse[0],5)"
   ]
  },
  {
   "cell_type": "code",
   "execution_count": 26,
   "metadata": {},
   "outputs": [
    {
     "data": {
      "text/plain": [
       "('BCBB3TTT', 0.00322)"
      ]
     },
     "execution_count": 26,
     "metadata": {},
     "output_type": "execute_result"
    }
   ],
   "source": [
    "# A 'good' sequence is fairly well reproduced\n",
    "test_autoencoder('CBAC8QTU')"
   ]
  },
  {
   "cell_type": "code",
   "execution_count": 27,
   "metadata": {},
   "outputs": [
    {
     "data": {
      "text/plain": [
       "('BCCBBUUV', 0.26261)"
      ]
     },
     "execution_count": 27,
     "metadata": {},
     "output_type": "execute_result"
    }
   ],
   "source": [
    "# But a 'bad' sequence is not correctly reproduced because the auto-encoderhas not been trained for it\n",
    "test_autoencoder('UTAC3QAT')"
   ]
  },
  {
   "cell_type": "code",
   "execution_count": 28,
   "metadata": {},
   "outputs": [
    {
     "data": {
      "text/plain": [
       "('CCDC8VVV', 0.2159)"
      ]
     },
     "execution_count": 28,
     "metadata": {},
     "output_type": "execute_result"
    }
   ],
   "source": [
    "test_autoencoder('RNIU4XRE')"
   ]
  },
  {
   "cell_type": "code",
   "execution_count": 30,
   "metadata": {},
   "outputs": [
    {
     "name": "stdout",
     "output_type": "stream",
     "text": [
      "MSE 0.9999 threshhold:0.2282694190206696\n"
     ]
    }
   ],
   "source": [
    "# We define a threshold for 'normality' as that of 99.9% (not very politically correct...)\n",
    "mse_threshold = np.quantile(seqs_ds['MSE'], 0.9999)\n",
    "print(f'MSE 0.9999 threshhold:{mse_threshold}')"
   ]
  },
  {
   "cell_type": "code",
   "execution_count": 31,
   "metadata": {},
   "outputs": [],
   "source": [
    "# And we create a new column in the dataframe that tags with 1 as those 'anromal' events\n",
    "seqs_ds['MSE_Outlier'] = 0\n",
    "seqs_ds.loc[seqs_ds['MSE'] > mse_threshold, 'MSE_Outlier'] = 1"
   ]
  },
  {
   "cell_type": "code",
   "execution_count": 32,
   "metadata": {},
   "outputs": [
    {
     "name": "stdout",
     "output_type": "stream",
     "text": [
      "Num of MSE outlier:3\n"
     ]
    }
   ],
   "source": [
    "# Let's see how many are tagged as anomalous (that is the 0.1% of 25005)\n",
    "print(f\"Num of MSE outlier:{seqs_ds['MSE_Outlier'].sum()}\")"
   ]
  },
  {
   "cell_type": "code",
   "execution_count": 33,
   "metadata": {},
   "outputs": [
    {
     "data": {
      "text/html": [
       "<div>\n",
       "<style scoped>\n",
       "    .dataframe tbody tr th:only-of-type {\n",
       "        vertical-align: middle;\n",
       "    }\n",
       "\n",
       "    .dataframe tbody tr th {\n",
       "        vertical-align: top;\n",
       "    }\n",
       "\n",
       "    .dataframe thead th {\n",
       "        text-align: right;\n",
       "    }\n",
       "</style>\n",
       "<table border=\"1\" class=\"dataframe\">\n",
       "  <thead>\n",
       "    <tr style=\"text-align: right;\">\n",
       "      <th></th>\n",
       "      <th>0</th>\n",
       "      <th>MSE</th>\n",
       "      <th>MSE_Outlier</th>\n",
       "    </tr>\n",
       "  </thead>\n",
       "  <tbody>\n",
       "    <tr>\n",
       "      <th>25000</th>\n",
       "      <td>XYDC2DCA</td>\n",
       "      <td>0.469589</td>\n",
       "      <td>1</td>\n",
       "    </tr>\n",
       "    <tr>\n",
       "      <th>25001</th>\n",
       "      <td>TXSX1ABC</td>\n",
       "      <td>0.574537</td>\n",
       "      <td>1</td>\n",
       "    </tr>\n",
       "    <tr>\n",
       "      <th>25002</th>\n",
       "      <td>RNIU4XRE</td>\n",
       "      <td>0.215899</td>\n",
       "      <td>0</td>\n",
       "    </tr>\n",
       "    <tr>\n",
       "      <th>25003</th>\n",
       "      <td>AABDXUEI</td>\n",
       "      <td>0.150012</td>\n",
       "      <td>0</td>\n",
       "    </tr>\n",
       "    <tr>\n",
       "      <th>25004</th>\n",
       "      <td>SDRAC5RF</td>\n",
       "      <td>0.240660</td>\n",
       "      <td>1</td>\n",
       "    </tr>\n",
       "  </tbody>\n",
       "</table>\n",
       "</div>"
      ],
      "text/plain": [
       "              0       MSE  MSE_Outlier\n",
       "25000  XYDC2DCA  0.469589            1\n",
       "25001  TXSX1ABC  0.574537            1\n",
       "25002  RNIU4XRE  0.215899            0\n",
       "25003  AABDXUEI  0.150012            0\n",
       "25004  SDRAC5RF  0.240660            1"
      ]
     },
     "execution_count": 33,
     "metadata": {},
     "output_type": "execute_result"
    }
   ],
   "source": [
    "# Let's print the 5 (we know that are) anomalous events and their tag:\n",
    "seqs_ds.iloc[25000:]"
   ]
  },
  {
   "cell_type": "code",
   "execution_count": 34,
   "metadata": {},
   "outputs": [
    {
     "data": {
      "text/html": [
       "<div>\n",
       "<style scoped>\n",
       "    .dataframe tbody tr th:only-of-type {\n",
       "        vertical-align: middle;\n",
       "    }\n",
       "\n",
       "    .dataframe tbody tr th {\n",
       "        vertical-align: top;\n",
       "    }\n",
       "\n",
       "    .dataframe thead th {\n",
       "        text-align: right;\n",
       "    }\n",
       "</style>\n",
       "<table border=\"1\" class=\"dataframe\">\n",
       "  <thead>\n",
       "    <tr style=\"text-align: right;\">\n",
       "      <th></th>\n",
       "      <th>0</th>\n",
       "      <th>MSE</th>\n",
       "      <th>MSE_Outlier</th>\n",
       "    </tr>\n",
       "  </thead>\n",
       "  <tbody>\n",
       "    <tr>\n",
       "      <th>25000</th>\n",
       "      <td>XYDC2DCA</td>\n",
       "      <td>0.469589</td>\n",
       "      <td>1</td>\n",
       "    </tr>\n",
       "    <tr>\n",
       "      <th>25001</th>\n",
       "      <td>TXSX1ABC</td>\n",
       "      <td>0.574537</td>\n",
       "      <td>1</td>\n",
       "    </tr>\n",
       "    <tr>\n",
       "      <th>25004</th>\n",
       "      <td>SDRAC5RF</td>\n",
       "      <td>0.240660</td>\n",
       "      <td>1</td>\n",
       "    </tr>\n",
       "  </tbody>\n",
       "</table>\n",
       "</div>"
      ],
      "text/plain": [
       "              0       MSE  MSE_Outlier\n",
       "25000  XYDC2DCA  0.469589            1\n",
       "25001  TXSX1ABC  0.574537            1\n",
       "25004  SDRAC5RF  0.240660            1"
      ]
     },
     "execution_count": 34,
     "metadata": {},
     "output_type": "execute_result"
    }
   ],
   "source": [
    "# For curiosity, let's see all those that are tagged as anomalous\n",
    "seqs_ds.loc[seqs_ds['MSE_Outlier'] == 1]"
   ]
  },
  {
   "cell_type": "markdown",
   "metadata": {},
   "source": [
    "## We have found the anomalous events with : \n",
    "\n",
    "<b>Unsupervised Machine Learning Auto-Encoder technique! </b>"
   ]
  },
  {
   "cell_type": "markdown",
   "metadata": {},
   "source": [
    "#  Aftermath\n",
    "\n",
    "- We have added anomalous events relatively different\n",
    "- It is very important how we create our char_to_int function, since here we state that 'A' and 'B' are \"similar\", but 'a' and 'A' are \"not similar\"!\n",
    "- Hence the translation \"whatever info we are examining\" -> numbers, to then feed the NN is a crucial part of the job of recognizing 'similar' things"
   ]
  },
  {
   "cell_type": "code",
   "execution_count": null,
   "metadata": {},
   "outputs": [],
   "source": []
  }
 ],
 "metadata": {
  "kernelspec": {
   "display_name": "Python 3",
   "language": "python",
   "name": "python3"
  },
  "language_info": {
   "codemirror_mode": {
    "name": "ipython",
    "version": 3
   },
   "file_extension": ".py",
   "mimetype": "text/x-python",
   "name": "python",
   "nbconvert_exporter": "python",
   "pygments_lexer": "ipython3",
   "version": "3.8.5"
  }
 },
 "nbformat": 4,
 "nbformat_minor": 2
}
